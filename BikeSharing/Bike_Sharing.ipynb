{
 "cells": [
  {
   "cell_type": "code",
   "execution_count": 2,
   "metadata": {},
   "outputs": [],
   "source": [
    "import pandas as pd\n",
    "import numpy as np\n",
    "import seaborn as sns\n",
    "import warnings\n",
    "import matplotlib.pyplot as plt\n",
    "warnings.filterwarnings('ignore')"
   ]
  },
  {
   "cell_type": "markdown",
   "metadata": {},
   "source": [
    "## 1. Data Understanding"
   ]
  },
  {
   "cell_type": "code",
   "execution_count": 3,
   "metadata": {},
   "outputs": [
    {
     "data": {
      "text/html": [
       "<div>\n",
       "<style scoped>\n",
       "    .dataframe tbody tr th:only-of-type {\n",
       "        vertical-align: middle;\n",
       "    }\n",
       "\n",
       "    .dataframe tbody tr th {\n",
       "        vertical-align: top;\n",
       "    }\n",
       "\n",
       "    .dataframe thead th {\n",
       "        text-align: right;\n",
       "    }\n",
       "</style>\n",
       "<table border=\"1\" class=\"dataframe\">\n",
       "  <thead>\n",
       "    <tr style=\"text-align: right;\">\n",
       "      <th></th>\n",
       "      <th>instant</th>\n",
       "      <th>dteday</th>\n",
       "      <th>season</th>\n",
       "      <th>yr</th>\n",
       "      <th>mnth</th>\n",
       "      <th>holiday</th>\n",
       "      <th>weekday</th>\n",
       "      <th>workingday</th>\n",
       "      <th>weathersit</th>\n",
       "      <th>temp</th>\n",
       "      <th>atemp</th>\n",
       "      <th>hum</th>\n",
       "      <th>windspeed</th>\n",
       "      <th>casual</th>\n",
       "      <th>registered</th>\n",
       "      <th>cnt</th>\n",
       "    </tr>\n",
       "  </thead>\n",
       "  <tbody>\n",
       "    <tr>\n",
       "      <th>0</th>\n",
       "      <td>1</td>\n",
       "      <td>01-01-2018</td>\n",
       "      <td>1</td>\n",
       "      <td>0</td>\n",
       "      <td>1</td>\n",
       "      <td>0</td>\n",
       "      <td>6</td>\n",
       "      <td>0</td>\n",
       "      <td>2</td>\n",
       "      <td>14.110847</td>\n",
       "      <td>18.18125</td>\n",
       "      <td>80.5833</td>\n",
       "      <td>10.749882</td>\n",
       "      <td>331</td>\n",
       "      <td>654</td>\n",
       "      <td>985</td>\n",
       "    </tr>\n",
       "    <tr>\n",
       "      <th>1</th>\n",
       "      <td>2</td>\n",
       "      <td>02-01-2018</td>\n",
       "      <td>1</td>\n",
       "      <td>0</td>\n",
       "      <td>1</td>\n",
       "      <td>0</td>\n",
       "      <td>0</td>\n",
       "      <td>0</td>\n",
       "      <td>2</td>\n",
       "      <td>14.902598</td>\n",
       "      <td>17.68695</td>\n",
       "      <td>69.6087</td>\n",
       "      <td>16.652113</td>\n",
       "      <td>131</td>\n",
       "      <td>670</td>\n",
       "      <td>801</td>\n",
       "    </tr>\n",
       "    <tr>\n",
       "      <th>2</th>\n",
       "      <td>3</td>\n",
       "      <td>03-01-2018</td>\n",
       "      <td>1</td>\n",
       "      <td>0</td>\n",
       "      <td>1</td>\n",
       "      <td>0</td>\n",
       "      <td>1</td>\n",
       "      <td>1</td>\n",
       "      <td>1</td>\n",
       "      <td>8.050924</td>\n",
       "      <td>9.47025</td>\n",
       "      <td>43.7273</td>\n",
       "      <td>16.636703</td>\n",
       "      <td>120</td>\n",
       "      <td>1229</td>\n",
       "      <td>1349</td>\n",
       "    </tr>\n",
       "    <tr>\n",
       "      <th>3</th>\n",
       "      <td>4</td>\n",
       "      <td>04-01-2018</td>\n",
       "      <td>1</td>\n",
       "      <td>0</td>\n",
       "      <td>1</td>\n",
       "      <td>0</td>\n",
       "      <td>2</td>\n",
       "      <td>1</td>\n",
       "      <td>1</td>\n",
       "      <td>8.200000</td>\n",
       "      <td>10.60610</td>\n",
       "      <td>59.0435</td>\n",
       "      <td>10.739832</td>\n",
       "      <td>108</td>\n",
       "      <td>1454</td>\n",
       "      <td>1562</td>\n",
       "    </tr>\n",
       "    <tr>\n",
       "      <th>4</th>\n",
       "      <td>5</td>\n",
       "      <td>05-01-2018</td>\n",
       "      <td>1</td>\n",
       "      <td>0</td>\n",
       "      <td>1</td>\n",
       "      <td>0</td>\n",
       "      <td>3</td>\n",
       "      <td>1</td>\n",
       "      <td>1</td>\n",
       "      <td>9.305237</td>\n",
       "      <td>11.46350</td>\n",
       "      <td>43.6957</td>\n",
       "      <td>12.522300</td>\n",
       "      <td>82</td>\n",
       "      <td>1518</td>\n",
       "      <td>1600</td>\n",
       "    </tr>\n",
       "  </tbody>\n",
       "</table>\n",
       "</div>"
      ],
      "text/plain": [
       "   instant      dteday  season  yr  mnth  holiday  weekday  workingday  \\\n",
       "0        1  01-01-2018       1   0     1        0        6           0   \n",
       "1        2  02-01-2018       1   0     1        0        0           0   \n",
       "2        3  03-01-2018       1   0     1        0        1           1   \n",
       "3        4  04-01-2018       1   0     1        0        2           1   \n",
       "4        5  05-01-2018       1   0     1        0        3           1   \n",
       "\n",
       "   weathersit       temp     atemp      hum  windspeed  casual  registered  \\\n",
       "0           2  14.110847  18.18125  80.5833  10.749882     331         654   \n",
       "1           2  14.902598  17.68695  69.6087  16.652113     131         670   \n",
       "2           1   8.050924   9.47025  43.7273  16.636703     120        1229   \n",
       "3           1   8.200000  10.60610  59.0435  10.739832     108        1454   \n",
       "4           1   9.305237  11.46350  43.6957  12.522300      82        1518   \n",
       "\n",
       "    cnt  \n",
       "0   985  \n",
       "1   801  \n",
       "2  1349  \n",
       "3  1562  \n",
       "4  1600  "
      ]
     },
     "execution_count": 3,
     "metadata": {},
     "output_type": "execute_result"
    }
   ],
   "source": [
    "data=pd.read_csv(\"day.csv\")\n",
    "data.head()"
   ]
  },
  {
   "cell_type": "code",
   "execution_count": 4,
   "metadata": {},
   "outputs": [],
   "source": [
    "#Dropping columns :\n",
    "#instant-not needed as index is not useful\n",
    "#dteday - already days,year and month is covered in other features\n",
    "#casual,registered - since casual and registered cannot predict total count,they are just a biforcation of target variable\n",
    "data.drop([\"instant\",\"dteday\",\"casual\",\"registered\"],axis=1,inplace=True)"
   ]
  },
  {
   "cell_type": "code",
   "execution_count": 5,
   "metadata": {},
   "outputs": [
    {
     "data": {
      "text/html": [
       "<div>\n",
       "<style scoped>\n",
       "    .dataframe tbody tr th:only-of-type {\n",
       "        vertical-align: middle;\n",
       "    }\n",
       "\n",
       "    .dataframe tbody tr th {\n",
       "        vertical-align: top;\n",
       "    }\n",
       "\n",
       "    .dataframe thead th {\n",
       "        text-align: right;\n",
       "    }\n",
       "</style>\n",
       "<table border=\"1\" class=\"dataframe\">\n",
       "  <thead>\n",
       "    <tr style=\"text-align: right;\">\n",
       "      <th></th>\n",
       "      <th>season</th>\n",
       "      <th>yr</th>\n",
       "      <th>mnth</th>\n",
       "      <th>holiday</th>\n",
       "      <th>weekday</th>\n",
       "      <th>workingday</th>\n",
       "      <th>weathersit</th>\n",
       "      <th>temp</th>\n",
       "      <th>atemp</th>\n",
       "      <th>hum</th>\n",
       "      <th>windspeed</th>\n",
       "      <th>cnt</th>\n",
       "    </tr>\n",
       "  </thead>\n",
       "  <tbody>\n",
       "    <tr>\n",
       "      <th>0</th>\n",
       "      <td>1</td>\n",
       "      <td>0</td>\n",
       "      <td>1</td>\n",
       "      <td>0</td>\n",
       "      <td>6</td>\n",
       "      <td>0</td>\n",
       "      <td>2</td>\n",
       "      <td>14.110847</td>\n",
       "      <td>18.18125</td>\n",
       "      <td>80.5833</td>\n",
       "      <td>10.749882</td>\n",
       "      <td>985</td>\n",
       "    </tr>\n",
       "    <tr>\n",
       "      <th>1</th>\n",
       "      <td>1</td>\n",
       "      <td>0</td>\n",
       "      <td>1</td>\n",
       "      <td>0</td>\n",
       "      <td>0</td>\n",
       "      <td>0</td>\n",
       "      <td>2</td>\n",
       "      <td>14.902598</td>\n",
       "      <td>17.68695</td>\n",
       "      <td>69.6087</td>\n",
       "      <td>16.652113</td>\n",
       "      <td>801</td>\n",
       "    </tr>\n",
       "    <tr>\n",
       "      <th>2</th>\n",
       "      <td>1</td>\n",
       "      <td>0</td>\n",
       "      <td>1</td>\n",
       "      <td>0</td>\n",
       "      <td>1</td>\n",
       "      <td>1</td>\n",
       "      <td>1</td>\n",
       "      <td>8.050924</td>\n",
       "      <td>9.47025</td>\n",
       "      <td>43.7273</td>\n",
       "      <td>16.636703</td>\n",
       "      <td>1349</td>\n",
       "    </tr>\n",
       "    <tr>\n",
       "      <th>3</th>\n",
       "      <td>1</td>\n",
       "      <td>0</td>\n",
       "      <td>1</td>\n",
       "      <td>0</td>\n",
       "      <td>2</td>\n",
       "      <td>1</td>\n",
       "      <td>1</td>\n",
       "      <td>8.200000</td>\n",
       "      <td>10.60610</td>\n",
       "      <td>59.0435</td>\n",
       "      <td>10.739832</td>\n",
       "      <td>1562</td>\n",
       "    </tr>\n",
       "    <tr>\n",
       "      <th>4</th>\n",
       "      <td>1</td>\n",
       "      <td>0</td>\n",
       "      <td>1</td>\n",
       "      <td>0</td>\n",
       "      <td>3</td>\n",
       "      <td>1</td>\n",
       "      <td>1</td>\n",
       "      <td>9.305237</td>\n",
       "      <td>11.46350</td>\n",
       "      <td>43.6957</td>\n",
       "      <td>12.522300</td>\n",
       "      <td>1600</td>\n",
       "    </tr>\n",
       "  </tbody>\n",
       "</table>\n",
       "</div>"
      ],
      "text/plain": [
       "   season  yr  mnth  holiday  weekday  workingday  weathersit       temp  \\\n",
       "0       1   0     1        0        6           0           2  14.110847   \n",
       "1       1   0     1        0        0           0           2  14.902598   \n",
       "2       1   0     1        0        1           1           1   8.050924   \n",
       "3       1   0     1        0        2           1           1   8.200000   \n",
       "4       1   0     1        0        3           1           1   9.305237   \n",
       "\n",
       "      atemp      hum  windspeed   cnt  \n",
       "0  18.18125  80.5833  10.749882   985  \n",
       "1  17.68695  69.6087  16.652113   801  \n",
       "2   9.47025  43.7273  16.636703  1349  \n",
       "3  10.60610  59.0435  10.739832  1562  \n",
       "4  11.46350  43.6957  12.522300  1600  "
      ]
     },
     "execution_count": 5,
     "metadata": {},
     "output_type": "execute_result"
    }
   ],
   "source": [
    "data.head()"
   ]
  },
  {
   "cell_type": "markdown",
   "metadata": {},
   "source": [
    "## 2. Exploratory Data Analysis"
   ]
  },
  {
   "cell_type": "code",
   "execution_count": 6,
   "metadata": {},
   "outputs": [
    {
     "data": {
      "image/png": "[encoded data removed]",
      "text/plain": [
       "<Figure size 432x288 with 1 Axes>"
      ]
     },
     "metadata": {
      "needs_background": "light"
     },
     "output_type": "display_data"
    },
    {
     "data": {
      "image/png": "[encoded data removed]",
      "text/plain": [
       "<Figure size 432x288 with 1 Axes>"
      ]
     },
     "metadata": {
      "needs_background": "light"
     },
     "output_type": "display_data"
    },
    {
     "data": {
      "image/png": "[encoded data removed]",
      "text/plain": [
       "<Figure size 432x288 with 1 Axes>"
      ]
     },
     "metadata": {
      "needs_background": "light"
     },
     "output_type": "display_data"
    },
    {
     "data": {
      "image/png": "[encoded data removed]",
      "text/plain": [
       "<Figure size 432x288 with 1 Axes>"
      ]
     },
     "metadata": {
      "needs_background": "light"
     },
     "output_type": "display_data"
    },
    {
     "data": {
      "image/png": "[encoded data removed]",
      "text/plain": [
       "<Figure size 432x288 with 1 Axes>"
      ]
     },
     "metadata": {
      "needs_background": "light"
     },
     "output_type": "display_data"
    },
    {
     "data": {
      "image/png": "[encoded data removed]",
      "text/plain": [
       "<Figure size 432x288 with 1 Axes>"
      ]
     },
     "metadata": {
      "needs_background": "light"
     },
     "output_type": "display_data"
    },
    {
     "data": {
      "image/png": "[encoded data removed]",
      "text/plain": [
       "<Figure size 432x288 with 1 Axes>"
      ]
     },
     "metadata": {
      "needs_background": "light"
     },
     "output_type": "display_data"
    }
   ],
   "source": [
    "#Understanding categorical data with target variable\n",
    "cat_features=[\"season\",\"yr\",\"mnth\",\"holiday\",\"weekday\",\"workingday\",\"weathersit\"]\n",
    "#Dictionary for x axis labels\n",
    "cat_features_dict={\"season\":[\"spring\",\"summer\",\"fall\",\"winter\"],\"yr\":[\"2018\",\"2019\"],\"mnth\":[\"Jan\",\"Feb\",\"Mar\",\"Apr\",\"May\",\"Jun\",\"Jul\",\"Aug\",\"Sep\",\"Oct\",\"Nov\",\"Dec\"],\"holiday\":[\"Not Holiday\",\"Holiday\"]\n",
    ",\"weekday\":[\"mon\",\"tue\",\"wed\",\"thu\",\"fri\",\"sat\",\"sun\"],\"workingday\":[\"weekend & holiday\",\"working day\"],\"weathersit\":[\"clear/cloudy\",\"misty/cloudy\",\"snow/rain\"]}\n",
    "for feature in cat_features:\n",
    "    ax=sns.barplot(data=data,y='cnt',x=feature)\n",
    "    ax.set_xticklabels(cat_features_dict[feature])\n",
    "    plt.show()"
   ]
  },
  {
   "cell_type": "markdown",
   "metadata": {},
   "source": [
    "### Insights\n",
    "-There are low customers sharing bikes during spring season<br>\n",
    "-There are higher customers(nearly doubled) sharing bikes in 2019 as compared to 2018<br>\n",
    "-People share bikes lesser in holidays as compared to non-holidays<br>\n",
    "-People have taken more bikes in clear and cloudy weather as compared to other weather conditions<br>\n",
    "-There is no significant effect of weekday or working day on the count of customers sharing the bikes<br><br>\n",
    "`This helps us understand what might the important features to consider for linear regression based on the data`"
   ]
  },
  {
   "cell_type": "code",
   "execution_count": 7,
   "metadata": {},
   "outputs": [],
   "source": [
    "#Describing numeric features in your dataset\n",
    "numeric_features=[\"temp\",\"atemp\",\"hum\",\"windspeed\",\"cnt\"]"
   ]
  },
  {
   "cell_type": "code",
   "execution_count": 8,
   "metadata": {},
   "outputs": [
    {
     "data": {
      "image/png": "[encoded data removed]",
      "text/plain": [
       "<Figure size 432x288 with 1 Axes>"
      ]
     },
     "metadata": {
      "needs_background": "light"
     },
     "output_type": "display_data"
    },
    {
     "data": {
      "image/png": "[encoded data removed]",
      "text/plain": [
       "<Figure size 432x288 with 1 Axes>"
      ]
     },
     "metadata": {
      "needs_background": "light"
     },
     "output_type": "display_data"
    },
    {
     "data": {
      "image/png": "[encoded data removed]",
      "text/plain": [
       "<Figure size 432x288 with 1 Axes>"
      ]
     },
     "metadata": {
      "needs_background": "light"
     },
     "output_type": "display_data"
    },
    {
     "data": {
      "image/png": "[encoded data removed]",
      "text/plain": [
       "<Figure size 432x288 with 1 Axes>"
      ]
     },
     "metadata": {
      "needs_background": "light"
     },
     "output_type": "display_data"
    },
    {
     "data": {
      "image/png": "[encoded data removed]",
      "text/plain": [
       "<Figure size 432x288 with 1 Axes>"
      ]
     },
     "metadata": {
      "needs_background": "light"
     },
     "output_type": "display_data"
    }
   ],
   "source": [
    "#Understanding the numeric data\n",
    "#Checking box plot\n",
    "for feature in numeric_features:\n",
    "    sns.boxplot(data[feature])\n",
    "    plt.title(feature)\n",
    "    plt.show()"
   ]
  },
  {
   "cell_type": "markdown",
   "metadata": {},
   "source": [
    "### Insights\n",
    "- There are some outliers in input variables(humidity and windspeed)<br>\n",
    "- There are no outliers in the target variable(cnt)<br>\n",
    "\n",
    "`However we cannot remove outliers based on only input data, we have to check its effect on target variable and remove the outliers`"
   ]
  },
  {
   "cell_type": "code",
   "execution_count": 9,
   "metadata": {},
   "outputs": [
    {
     "data": {
      "application/vnd.plotly.v1+json": {
       "config": {
        "plotlyServerURL": "https://plot.ly"
       },
       "data": [
        {
         "hovertemplate": "temp=%{x}<br>cnt=%{y}<extra></extra>",
         "legendgroup": "",
         "marker": {
          "color": "#636efa",
          "symbol": "circle"
         },
         "mode": "markers",
         "name": "",
         "orientation": "v",
         "showlegend": false,
         "type": "scatter",
         "x": [
          14.110847,
          14.902598,
          8.050924,
          8.2,
          9.305237,
          8.378268,
          8.057402,
          6.765,
          5.671653,
          6.184153,
          6.932731,
          7.081807,
          6.765,
          6.59567,
          9.566653,
          9.498347,
          7.209153,
          8.883347,
          11.979134,
          10.728347,
          7.2775,
          2.4243464,
          3.9573897,
          3.9930433,
          9.162598,
          8.9175,
          7.995,
          8.342598,
          8.057402,
          8.877402,
          7.414153,
          7.879134,
          10.66,
          7.665237,
          8.663464,
          9.566653,
          11.719153,
          11.138347,
          9.054153,
          5.526103,
          5.918268,
          7.752731,
          9.1225,
          12.977402,
          17.015,
          10.909567,
          13.048701,
          17.869153,
          21.388347,
          16.365847,
          11.693897,
          12.436653,
          7.471102,
          9.091299,
          12.121732,
          14.938268,
          11.5825,
          14.082598,
          16.698193,
          10.933347,
          13.735,
          8.131653,
          10.728347,
          15.750847,
          15.437402,
          10.731299,
          11.9925,
          12.129153,
          15.952731,
          12.977402,
          13.495847,
          15.758268,
          13.333897,
          13.013031,
          14.973897,
          17.015,
          22.14,
          19.3725,
          13.6325,
          17.647835,
          18.108347,
          14.225237,
          11.685,
          10.830847,
          10.899153,
          10.374763,
          10.838268,
          12.4025,
          12.3,
          11.001653,
          12.3,
          12.915,
          15.511653,
          23.506653,
          16.980847,
          16.024153,
          17.9375,
          13.769153,
          14.0425,
          17.493347,
          24.421732,
          20.6025,
          16.9125,
          19.1675,
          18.313347,
          17.664153,
          18.723347,
          21.0125,
          20.739153,
          24.395,
          18.825847,
          13.803347,
          18.86,
          23.848347,
          24.873347,
          25.898347,
          25.42,
          25.3175,
          20.91,
          19.3725,
          18.518347,
          22.515847,
          25.283347,
          16.980847,
          18.825847,
          19.645847,
          21.32,
          21.661653,
          21.8325,
          21.8325,
          22.2425,
          21.935,
          21.0125,
          21.354153,
          23.0625,
          23.6775,
          23.028347,
          22.55,
          21.764153,
          22.003347,
          24.7025,
          24.770847,
          25.898347,
          27.06,
          27.094153,
          29.041653,
          27.948347,
          26.889153,
          27.3675,
          30.066653,
          31.775,
          31.330847,
          29.315,
          25.42,
          26.035,
          26.581653,
          27.811653,
          29.0075,
          31.809153,
          33.141653,
          30.955,
          29.725,
          28.3925,
          26.035,
          24.770847,
          25.693347,
          25.761653,
          26.615847,
          28.563347,
          28.665847,
          26.035,
          27.914153,
          30.066653,
          29.861653,
          29.690847,
          28.495,
          27.88,
          27.9825,
          30.510847,
          29.861653,
          28.563347,
          29.6225,
          30.271653,
          29.383347,
          29.793347,
          30.613347,
          29.52,
          30.75,
          29.075847,
          30.066653,
          30.6475,
          31.2625,
          32.560847,
          30.613347,
          27.914153,
          27.196653,
          28.153347,
          29.485847,
          30.613347,
          31.843347,
          31.501653,
          33.415,
          34.781653,
          34.815847,
          34.03,
          30.476653,
          31.638347,
          31.775,
          31.945847,
          34.371653,
          32.970847,
          33.039153,
          31.638347,
          32.116653,
          29.998347,
          29.11,
          29.144153,
          29.383347,
          30.4425,
          31.365,
          31.775,
          31.433347,
          29.4175,
          29.041653,
          28.119153,
          27.743347,
          27.299153,
          28.734153,
          29.656653,
          29.178347,
          28.085,
          28.5975,
          29.144153,
          28.358347,
          26.274153,
          27.606653,
          28.050847,
          28.7,
          27.88,
          28.989419,
          26.103347,
          26.205847,
          26.923347,
          26.855,
          26.376653,
          27.435847,
          29.075847,
          27.606653,
          22.14,
          24.565847,
          25.990433,
          26.65,
          27.06,
          26.786653,
          26.418268,
          26.684153,
          27.606653,
          23.6775,
          19.235847,
          20.158347,
          20.8075,
          22.515847,
          23.028347,
          24.395,
          25.761653,
          24.975847,
          24.873347,
          26.000847,
          26.615847,
          26.103347,
          26.035,
          25.283347,
          23.130847,
          16.81,
          14.623347,
          15.750847,
          19.850847,
          22.071653,
          20.260847,
          20.944153,
          21.388347,
          22.174153,
          23.404153,
          23.233347,
          22.276653,
          24.155847,
          22.584153,
          20.773347,
          20.978347,
          21.900847,
          21.8325,
          22.211299,
          19.509153,
          17.5275,
          17.3225,
          17.288347,
          18.996653,
          19.338347,
          19.850847,
          19.27,
          13.564153,
          10.420847,
          13.085847,
          13.94,
          16.434153,
          15.4775,
          16.741653,
          16.536653,
          13.393347,
          14.281653,
          16.195,
          16.741653,
          16.4,
          15.58,
          13.290847,
          14.623347,
          18.074153,
          21.73,
          21.73,
          18.723347,
          14.008347,
          11.240847,
          13.495847,
          18.996653,
          18.3475,
          17.083347,
          18.074153,
          15.306653,
          15.375,
          15.409153,
          18.825847,
          20.642598,
          18.791653,
          13.325,
          12.8125,
          12.880847,
          12.265847,
          13.564153,
          15.819153,
          18.9625,
          16.81,
          10.899153,
          11.924153,
          11.275,
          9.054153,
          9.771653,
          11.5825,
          13.0175,
          17.3225,
          15.375,
          10.591653,
          9.771653,
          11.343347,
          15.819153,
          17.561653,
          17.356653,
          15.306653,
          12.4025,
          11.266103,
          13.191299,
          13.325,
          12.26433,
          10.181653,
          12.778347,
          16.81,
          15.17,
          11.194763,
          6.15,
          4.4075,
          10.899153,
          13.700847,
          16.126653,
          13.8375,
          9.190847,
          12.656536,
          11.240847,
          15.6825,
          11.240847,
          7.38,
          6.833347,
          7.79,
          15.294763,
          12.436653,
          7.79,
          8.9175,
          7.106653,
          6.6625,
          8.951653,
          14.0425,
          12.060847,
          14.008347,
          17.425,
          12.949153,
          11.5825,
          11.035847,
          15.99,
          19.235847,
          16.365847,
          12.846653,
          10.830847,
          10.899153,
          11.586969,
          14.520847,
          10.523347,
          10.865,
          11.514153,
          9.190847,
          5.2275,
          9.1225,
          13.085847,
          14.281653,
          12.983347,
          14.076653,
          14.213347,
          11.48,
          11.48,
          11.800866,
          16.229153,
          18.620847,
          16.7075,
          11.924153,
          11.445847,
          15.033347,
          14.725847,
          19.919153,
          14.486653,
          16.980847,
          13.359153,
          9.976653,
          10.591653,
          16.570847,
          21.6275,
          16.844153,
          11.7875,
          14.831299,
          19.133347,
          23.165,
          23.4725,
          22.8575,
          17.869153,
          21.080847,
          19.3725,
          22.345,
          22.994153,
          21.798347,
          22.720847,
          24.668347,
          20.6025,
          17.9375,
          18.279153,
          13.256653,
          19.850847,
          20.260847,
          15.17,
          17.390847,
          17.459153,
          17.790433,
          19.133347,
          22.208347,
          17.835,
          16.536653,
          17.9375,
          20.5,
          20.055847,
          18.313347,
          14.296536,
          16.2975,
          18.1425,
          20.295,
          24.873347,
          27.230847,
          24.941653,
          18.996653,
          20.431653,
          21.593347,
          23.37,
          16.263347,
          13.188347,
          16.946653,
          19.543347,
          20.431653,
          18.7575,
          15.443347,
          18.791653,
          19.030847,
          25.146653,
          23.130847,
          22.96,
          25.7275,
          25.488347,
          23.0625,
          22.0375,
          23.848347,
          23.575,
          20.739153,
          21.866653,
          23.130847,
          25.1125,
          23.506653,
          25.078347,
          26.103347,
          24.326653,
          23.130847,
          24.6,
          25.454153,
          24.531653,
          25.215,
          25.488347,
          26.855,
          27.88,
          28.3925,
          28.29,
          29.2125,
          29.6225,
          26.923347,
          27.88,
          26.820847,
          23.916653,
          24.7025,
          24.4975,
          22.174153,
          22.720847,
          24.7025,
          26.615847,
          29.144153,
          29.793347,
          29.554153,
          26.786653,
          26.889153,
          26.581653,
          26.205847,
          25.898347,
          24.2925,
          23.301653,
          28.221653,
          32.0825,
          33.039153,
          31.8775,
          29.998347,
          30.476653,
          29.349153,
          25.864153,
          28.5975,
          30.715847,
          34.200847,
          31.365,
          33.449153,
          32.048347,
          32.014153,
          32.355847,
          33.9275,
          33.961653,
          35.328347,
          33.7225,
          29.144153,
          29.554153,
          29.383347,
          29.349153,
          29.998347,
          28.836653,
          30.579153,
          31.296653,
          33.551653,
          32.526653,
          31.57,
          27.299153,
          24.429153,
          27.3675,
          30.408347,
          30.784153,
          29.690847,
          31.843347,
          32.048347,
          30.989153,
          29.588347,
          29.964153,
          29.246653,
          29.4175,
          30.8525,
          31.399153,
          32.526653,
          31.535847,
          30.8525,
          30.169153,
          30.75,
          30.989153,
          29.349153,
          28.3925,
          28.734153,
          29.554153,
          29.793347,
          28.973347,
          29.485847,
          29.656653,
          27.811653,
          26.069153,
          26.069153,
          26.615847,
          27.3675,
          28.529153,
          28.8025,
          27.128347,
          26.786653,
          28.836653,
          29.861653,
          28.085,
          28.973347,
          31.330847,
          30.886653,
          28.563347,
          29.0075,
          29.759153,
          30.203347,
          28.563347,
          28.836653,
          27.025847,
          25.01,
          23.916653,
          23.6775,
          24.565847,
          25.1125,
          25.966653,
          24.941653,
          23.78,
          23.814153,
          25.556653,
          22.6525,
          22.413347,
          24.565847,
          26.65,
          21.695847,
          21.080847,
          22.55,
          26.035,
          26.65,
          25.385847,
          22.2425,
          21.593347,
          21.354153,
          24.224153,
          26.9575,
          26.9575,
          25.215,
          22.720847,
          17.049153,
          15.716653,
          18.313347,
          21.080847,
          17.835,
          17.9375,
          16.126653,
          21.388347,
          23.028347,
          19.201653,
          18.689153,
          21.4225,
          23.096653,
          19.850847,
          19.030847,
          19.9875,
          22.310847,
          24.0875,
          22.55,
          22.379153,
          21.73,
          19.5775,
          18.04,
          13.045462,
          14.6575,
          14.999153,
          14.555,
          14.076653,
          13.359153,
          13.085847,
          11.514153,
          12.129153,
          14.439134,
          14.828347,
          15.955847,
          17.254153,
          19.885,
          14.076653,
          11.855847,
          13.188347,
          14.145,
          13.325,
          14.0425,
          15.614153,
          15.340847,
          14.486653,
          13.94,
          15.101653,
          11.411653,
          10.079153,
          12.846653,
          11.958347,
          12.163347,
          11.51567,
          12.231653,
          12.231653,
          14.2475,
          18.5525,
          19.509153,
          17.971653,
          10.489153,
          13.154153,
          15.648347,
          15.750847,
          17.869153,
          14.486653,
          12.1975,
          12.129153,
          11.548347,
          13.290847,
          14.8625,
          16.126653,
          16.844153,
          13.6325,
          13.53,
          13.393347,
          10.899153,
          10.079153,
          9.483464,
          11.943464,
          9.976653,
          10.420847,
          10.386653,
          10.386653,
          10.489153,
          8.849153
         ],
         "xaxis": "x",
         "y": [
          985,
          801,
          1349,
          1562,
          1600,
          1606,
          1510,
          959,
          822,
          1321,
          1263,
          1162,
          1406,
          1421,
          1248,
          1204,
          1000,
          683,
          1650,
          1927,
          1543,
          981,
          986,
          1416,
          1985,
          506,
          431,
          1167,
          1098,
          1096,
          1501,
          1360,
          1526,
          1550,
          1708,
          1005,
          1623,
          1712,
          1530,
          1605,
          1538,
          1746,
          1472,
          1589,
          1913,
          1815,
          2115,
          2475,
          2927,
          1635,
          1812,
          1107,
          1450,
          1917,
          1807,
          1461,
          1969,
          2402,
          1446,
          1851,
          2134,
          1685,
          1944,
          2077,
          605,
          1872,
          2133,
          1891,
          623,
          1977,
          2132,
          2417,
          2046,
          2056,
          2192,
          2744,
          3239,
          3117,
          2471,
          2077,
          2703,
          2121,
          1865,
          2210,
          2496,
          1693,
          2028,
          2425,
          1536,
          1685,
          2227,
          2252,
          3249,
          3115,
          1795,
          2808,
          3141,
          1471,
          2455,
          2895,
          3348,
          2034,
          2162,
          3267,
          3126,
          795,
          3744,
          3429,
          3204,
          3944,
          4189,
          1683,
          4036,
          4191,
          4073,
          4400,
          3872,
          4058,
          4595,
          5312,
          3351,
          4401,
          4451,
          2633,
          4433,
          4608,
          4714,
          4333,
          4362,
          4803,
          4182,
          4864,
          4105,
          3409,
          4553,
          3958,
          4123,
          3855,
          4575,
          4917,
          5805,
          4660,
          4274,
          4492,
          4978,
          4677,
          4679,
          4758,
          4788,
          4098,
          3982,
          3974,
          4968,
          5312,
          5342,
          4906,
          4548,
          4833,
          4401,
          3915,
          4586,
          4966,
          4460,
          5020,
          4891,
          5180,
          3767,
          4844,
          5119,
          4744,
          4010,
          4835,
          4507,
          4790,
          4991,
          5202,
          5305,
          4708,
          4648,
          5225,
          5515,
          5362,
          5119,
          4649,
          6043,
          4665,
          4629,
          4592,
          4040,
          5336,
          4881,
          4086,
          4258,
          4342,
          5084,
          5538,
          5923,
          5302,
          4458,
          4541,
          4332,
          3784,
          3387,
          3285,
          3606,
          3840,
          4590,
          4656,
          4390,
          3846,
          4475,
          4302,
          4266,
          4845,
          3574,
          4576,
          4866,
          4294,
          3785,
          4326,
          4602,
          4780,
          4792,
          4905,
          4150,
          3820,
          4338,
          4725,
          4694,
          3805,
          4153,
          5191,
          3873,
          4758,
          5895,
          5130,
          3542,
          4661,
          1115,
          4334,
          4634,
          5204,
          5058,
          5115,
          4727,
          4484,
          4940,
          3351,
          2710,
          1996,
          1842,
          3544,
          5345,
          5046,
          4713,
          4763,
          4785,
          3659,
          4760,
          4511,
          4274,
          4539,
          3641,
          4352,
          4795,
          2395,
          5423,
          5010,
          4630,
          4120,
          3907,
          4839,
          5202,
          2429,
          2918,
          3570,
          4456,
          4826,
          4765,
          4985,
          5409,
          5511,
          5117,
          4563,
          2416,
          2913,
          3644,
          5217,
          5041,
          4570,
          4748,
          2424,
          4195,
          4304,
          4308,
          4381,
          4187,
          4687,
          3894,
          2659,
          3747,
          627,
          3331,
          3669,
          4068,
          4186,
          3974,
          4046,
          3926,
          3649,
          4035,
          4205,
          4109,
          2933,
          3368,
          4067,
          3717,
          4486,
          4195,
          1817,
          3053,
          3392,
          3663,
          3520,
          2765,
          1607,
          2566,
          1495,
          2792,
          3068,
          3071,
          3867,
          2914,
          3613,
          3727,
          3940,
          3614,
          3485,
          3811,
          2594,
          705,
          3322,
          3620,
          3190,
          2743,
          3310,
          3523,
          3740,
          3709,
          3577,
          2739,
          2431,
          3403,
          3750,
          2660,
          3068,
          2209,
          1011,
          754,
          1317,
          1162,
          2302,
          2423,
          2999,
          2485,
          2294,
          1951,
          2236,
          2368,
          3272,
          4098,
          4521,
          3425,
          2376,
          3598,
          2177,
          4097,
          3214,
          2493,
          2311,
          2298,
          2935,
          3376,
          3292,
          3163,
          1301,
          1977,
          2432,
          4339,
          4270,
          4075,
          3456,
          4023,
          3243,
          3624,
          4509,
          4579,
          3761,
          4151,
          2832,
          2947,
          3784,
          4375,
          2802,
          3830,
          3831,
          2169,
          1529,
          3422,
          3922,
          4169,
          3005,
          4154,
          4318,
          2689,
          3129,
          3777,
          4773,
          5062,
          3487,
          2732,
          3389,
          4322,
          4363,
          4990,
          3194,
          4066,
          3423,
          3333,
          3956,
          4916,
          5382,
          4569,
          4118,
          4911,
          5298,
          5847,
          6312,
          6192,
          4378,
          7836,
          5892,
          6153,
          6093,
          6230,
          6871,
          8362,
          3372,
          4996,
          5558,
          5102,
          5698,
          6133,
          5459,
          6235,
          6041,
          5936,
          6772,
          6436,
          6457,
          6460,
          6857,
          5169,
          5585,
          5918,
          4862,
          5409,
          6398,
          7460,
          7132,
          6370,
          6691,
          4367,
          6565,
          7290,
          6624,
          1027,
          3214,
          5633,
          6196,
          5026,
          6233,
          4220,
          6304,
          5572,
          5740,
          6169,
          6421,
          6296,
          6883,
          6359,
          6273,
          5728,
          4717,
          6572,
          7030,
          7429,
          6118,
          2843,
          5115,
          7424,
          7384,
          7639,
          8294,
          7129,
          4359,
          6073,
          5260,
          6770,
          6734,
          6536,
          6591,
          6043,
          5743,
          6855,
          7338,
          4127,
          8120,
          7641,
          6998,
          7001,
          7055,
          7494,
          7736,
          7498,
          6598,
          6664,
          4972,
          7421,
          7363,
          7665,
          7702,
          6978,
          5099,
          6825,
          6211,
          5905,
          5823,
          7458,
          6891,
          6779,
          7442,
          7335,
          6879,
          5463,
          5687,
          5531,
          6227,
          6660,
          7403,
          6241,
          6207,
          4840,
          4672,
          6569,
          6290,
          7264,
          7446,
          7499,
          6969,
          6031,
          6830,
          6786,
          5713,
          6591,
          5870,
          4459,
          7410,
          6966,
          7592,
          8173,
          6861,
          6904,
          6685,
          6597,
          7105,
          7216,
          7580,
          7261,
          7175,
          6824,
          5464,
          7013,
          7273,
          7534,
          7286,
          5786,
          6299,
          6544,
          6883,
          6784,
          7347,
          7605,
          7148,
          7865,
          4549,
          6530,
          7006,
          7375,
          7765,
          7582,
          6053,
          5255,
          6917,
          7040,
          7697,
          7713,
          7350,
          6140,
          5810,
          6034,
          6864,
          7112,
          6203,
          7504,
          5976,
          8227,
          7525,
          7767,
          7870,
          7804,
          8009,
          8714,
          7333,
          6869,
          4073,
          7591,
          7720,
          8167,
          8395,
          7907,
          7436,
          7538,
          7733,
          7393,
          7415,
          8555,
          6889,
          6778,
          4639,
          7572,
          7328,
          8156,
          7965,
          3510,
          5478,
          6392,
          7691,
          7570,
          7282,
          7109,
          6639,
          5875,
          7534,
          7461,
          7509,
          5424,
          8090,
          6824,
          7058,
          7466,
          7693,
          7359,
          7444,
          7852,
          4459,
          22,
          1096,
          5566,
          5986,
          5847,
          5138,
          5107,
          5259,
          5686,
          5035,
          5315,
          5992,
          6536,
          6852,
          6269,
          4094,
          5495,
          5445,
          5698,
          5629,
          4669,
          5499,
          5634,
          5146,
          2425,
          3910,
          2277,
          2424,
          5087,
          3959,
          5260,
          5323,
          5668,
          5191,
          4649,
          6234,
          6606,
          5729,
          5375,
          5008,
          5582,
          3228,
          5170,
          5501,
          5319,
          5532,
          5611,
          5047,
          3786,
          4585,
          5557,
          5267,
          4128,
          3623,
          1749,
          1787,
          920,
          1013,
          441,
          2114,
          3095,
          1341,
          1796,
          2729
         ],
         "yaxis": "y"
        }
       ],
       "layout": {
        "legend": {
         "tracegroupgap": 0
        },
        "margin": {
         "t": 60
        },
        "template": {
         "data": {
          "bar": [
           {
            "error_x": {
             "color": "#2a3f5f"
            },
            "error_y": {
             "color": "#2a3f5f"
            },
            "marker": {
             "line": {
              "color": "#E5ECF6",
              "width": 0.5
             },
             "pattern": {
              "fillmode": "overlay",
              "size": 10,
              "solidity": 0.2
             }
            },
            "type": "bar"
           }
          ],
          "barpolar": [
           {
            "marker": {
             "line": {
              "color": "#E5ECF6",
              "width": 0.5
             },
             "pattern": {
              "fillmode": "overlay",
              "size": 10,
              "solidity": 0.2
             }
            },
            "type": "barpolar"
           }
          ],
          "carpet": [
           {
            "aaxis": {
             "endlinecolor": "#2a3f5f",
             "gridcolor": "white",
             "linecolor": "white",
             "minorgridcolor": "white",
             "startlinecolor": "#2a3f5f"
            },
            "baxis": {
             "endlinecolor": "#2a3f5f",
             "gridcolor": "white",
             "linecolor": "white",
             "minorgridcolor": "white",
             "startlinecolor": "#2a3f5f"
            },
            "type": "carpet"
           }
          ],
          "choropleth": [
           {
            "colorbar": {
             "outlinewidth": 0,
             "ticks": ""
            },
            "type": "choropleth"
           }
          ],
          "contour": [
           {
            "colorbar": {
             "outlinewidth": 0,
             "ticks": ""
            },
            "colorscale": [
             [
              0,
              "#0d0887"
             ],
             [
              0.1111111111111111,
              "#46039f"
             ],
             [
              0.2222222222222222,
              "#7201a8"
             ],
             [
              0.3333333333333333,
              "#9c179e"
             ],
             [
              0.4444444444444444,
              "#bd3786"
             ],
             [
              0.5555555555555556,
              "#d8576b"
             ],
             [
              0.6666666666666666,
              "#ed7953"
             ],
             [
              0.7777777777777778,
              "#fb9f3a"
             ],
             [
              0.8888888888888888,
              "#fdca26"
             ],
             [
              1,
              "#f0f921"
             ]
            ],
            "type": "contour"
           }
          ],
          "contourcarpet": [
           {
            "colorbar": {
             "outlinewidth": 0,
             "ticks": ""
            },
            "type": "contourcarpet"
           }
          ],
          "heatmap": [
           {
            "colorbar": {
             "outlinewidth": 0,
             "ticks": ""
            },
            "colorscale": [
             [
              0,
              "#0d0887"
             ],
             [
              0.1111111111111111,
              "#46039f"
             ],
             [
              0.2222222222222222,
              "#7201a8"
             ],
             [
              0.3333333333333333,
              "#9c179e"
             ],
             [
              0.4444444444444444,
              "#bd3786"
             ],
             [
              0.5555555555555556,
              "#d8576b"
             ],
             [
              0.6666666666666666,
              "#ed7953"
             ],
             [
              0.7777777777777778,
              "#fb9f3a"
             ],
             [
              0.8888888888888888,
              "#fdca26"
             ],
             [
              1,
              "#f0f921"
             ]
            ],
            "type": "heatmap"
           }
          ],
          "heatmapgl": [
           {
            "colorbar": {
             "outlinewidth": 0,
             "ticks": ""
            },
            "colorscale": [
             [
              0,
              "#0d0887"
             ],
             [
              0.1111111111111111,
              "#46039f"
             ],
             [
              0.2222222222222222,
              "#7201a8"
             ],
             [
              0.3333333333333333,
              "#9c179e"
             ],
             [
              0.4444444444444444,
              "#bd3786"
             ],
             [
              0.5555555555555556,
              "#d8576b"
             ],
             [
              0.6666666666666666,
              "#ed7953"
             ],
             [
              0.7777777777777778,
              "#fb9f3a"
             ],
             [
              0.8888888888888888,
              "#fdca26"
             ],
             [
              1,
              "#f0f921"
             ]
            ],
            "type": "heatmapgl"
           }
          ],
          "histogram": [
           {
            "marker": {
             "pattern": {
              "fillmode": "overlay",
              "size": 10,
              "solidity": 0.2
             }
            },
            "type": "histogram"
           }
          ],
          "histogram2d": [
           {
            "colorbar": {
             "outlinewidth": 0,
             "ticks": ""
            },
            "colorscale": [
             [
              0,
              "#0d0887"
             ],
             [
              0.1111111111111111,
              "#46039f"
             ],
             [
              0.2222222222222222,
              "#7201a8"
             ],
             [
              0.3333333333333333,
              "#9c179e"
             ],
             [
              0.4444444444444444,
              "#bd3786"
             ],
             [
              0.5555555555555556,
              "#d8576b"
             ],
             [
              0.6666666666666666,
              "#ed7953"
             ],
             [
              0.7777777777777778,
              "#fb9f3a"
             ],
             [
              0.8888888888888888,
              "#fdca26"
             ],
             [
              1,
              "#f0f921"
             ]
            ],
            "type": "histogram2d"
           }
          ],
          "histogram2dcontour": [
           {
            "colorbar": {
             "outlinewidth": 0,
             "ticks": ""
            },
            "colorscale": [
             [
              0,
              "#0d0887"
             ],
             [
              0.1111111111111111,
              "#46039f"
             ],
             [
              0.2222222222222222,
              "#7201a8"
             ],
             [
              0.3333333333333333,
              "#9c179e"
             ],
             [
              0.4444444444444444,
              "#bd3786"
             ],
             [
              0.5555555555555556,
              "#d8576b"
             ],
             [
              0.6666666666666666,
              "#ed7953"
             ],
             [
              0.7777777777777778,
              "#fb9f3a"
             ],
             [
              0.8888888888888888,
              "#fdca26"
             ],
             [
              1,
              "#f0f921"
             ]
            ],
            "type": "histogram2dcontour"
           }
          ],
          "mesh3d": [
           {
            "colorbar": {
             "outlinewidth": 0,
             "ticks": ""
            },
            "type": "mesh3d"
           }
          ],
          "parcoords": [
           {
            "line": {
             "colorbar": {
              "outlinewidth": 0,
              "ticks": ""
             }
            },
            "type": "parcoords"
           }
          ],
          "pie": [
           {
            "automargin": true,
            "type": "pie"
           }
          ],
          "scatter": [
           {
            "fillpattern": {
             "fillmode": "overlay",
             "size": 10,
             "solidity": 0.2
            },
            "type": "scatter"
           }
          ],
          "scatter3d": [
           {
            "line": {
             "colorbar": {
              "outlinewidth": 0,
              "ticks": ""
             }
            },
            "marker": {
             "colorbar": {
              "outlinewidth": 0,
              "ticks": ""
             }
            },
            "type": "scatter3d"
           }
          ],
          "scattercarpet": [
           {
            "marker": {
             "colorbar": {
              "outlinewidth": 0,
              "ticks": ""
             }
            },
            "type": "scattercarpet"
           }
          ],
          "scattergeo": [
           {
            "marker": {
             "colorbar": {
              "outlinewidth": 0,
              "ticks": ""
             }
            },
            "type": "scattergeo"
           }
          ],
          "scattergl": [
           {
            "marker": {
             "colorbar": {
              "outlinewidth": 0,
              "ticks": ""
             }
            },
            "type": "scattergl"
           }
          ],
          "scattermapbox": [
           {
            "marker": {
             "colorbar": {
              "outlinewidth": 0,
              "ticks": ""
             }
            },
            "type": "scattermapbox"
           }
          ],
          "scatterpolar": [
           {
            "marker": {
             "colorbar": {
              "outlinewidth": 0,
              "ticks": ""
             }
            },
            "type": "scatterpolar"
           }
          ],
          "scatterpolargl": [
           {
            "marker": {
             "colorbar": {
              "outlinewidth": 0,
              "ticks": ""
             }
            },
            "type": "scatterpolargl"
           }
          ],
          "scatterternary": [
           {
            "marker": {
             "colorbar": {
              "outlinewidth": 0,
              "ticks": ""
             }
            },
            "type": "scatterternary"
           }
          ],
          "surface": [
           {
            "colorbar": {
             "outlinewidth": 0,
             "ticks": ""
            },
            "colorscale": [
             [
              0,
              "#0d0887"
             ],
             [
              0.1111111111111111,
              "#46039f"
             ],
             [
              0.2222222222222222,
              "#7201a8"
             ],
             [
              0.3333333333333333,
              "#9c179e"
             ],
             [
              0.4444444444444444,
              "#bd3786"
             ],
             [
              0.5555555555555556,
              "#d8576b"
             ],
             [
              0.6666666666666666,
              "#ed7953"
             ],
             [
              0.7777777777777778,
              "#fb9f3a"
             ],
             [
              0.8888888888888888,
              "#fdca26"
             ],
             [
              1,
              "#f0f921"
             ]
            ],
            "type": "surface"
           }
          ],
          "table": [
           {
            "cells": {
             "fill": {
              "color": "#EBF0F8"
             },
             "line": {
              "color": "white"
             }
            },
            "header": {
             "fill": {
              "color": "#C8D4E3"
             },
             "line": {
              "color": "white"
             }
            },
            "type": "table"
           }
          ]
         },
         "layout": {
          "annotationdefaults": {
           "arrowcolor": "#2a3f5f",
           "arrowhead": 0,
           "arrowwidth": 1
          },
          "autotypenumbers": "strict",
          "coloraxis": {
           "colorbar": {
            "outlinewidth": 0,
            "ticks": ""
           }
          },
          "colorscale": {
           "diverging": [
            [
             0,
             "#8e0152"
            ],
            [
             0.1,
             "#c51b7d"
            ],
            [
             0.2,
             "#de77ae"
            ],
            [
             0.3,
             "#f1b6da"
            ],
            [
             0.4,
             "#fde0ef"
            ],
            [
             0.5,
             "#f7f7f7"
            ],
            [
             0.6,
             "#e6f5d0"
            ],
            [
             0.7,
             "#b8e186"
            ],
            [
             0.8,
             "#7fbc41"
            ],
            [
             0.9,
             "#4d9221"
            ],
            [
             1,
             "#276419"
            ]
           ],
           "sequential": [
            [
             0,
             "#0d0887"
            ],
            [
             0.1111111111111111,
             "#46039f"
            ],
            [
             0.2222222222222222,
             "#7201a8"
            ],
            [
             0.3333333333333333,
             "#9c179e"
            ],
            [
             0.4444444444444444,
             "#bd3786"
            ],
            [
             0.5555555555555556,
             "#d8576b"
            ],
            [
             0.6666666666666666,
             "#ed7953"
            ],
            [
             0.7777777777777778,
             "#fb9f3a"
            ],
            [
             0.8888888888888888,
             "#fdca26"
            ],
            [
             1,
             "#f0f921"
            ]
           ],
           "sequentialminus": [
            [
             0,
             "#0d0887"
            ],
            [
             0.1111111111111111,
             "#46039f"
            ],
            [
             0.2222222222222222,
             "#7201a8"
            ],
            [
             0.3333333333333333,
             "#9c179e"
            ],
            [
             0.4444444444444444,
             "#bd3786"
            ],
            [
             0.5555555555555556,
             "#d8576b"
            ],
            [
             0.6666666666666666,
             "#ed7953"
            ],
            [
             0.7777777777777778,
             "#fb9f3a"
            ],
            [
             0.8888888888888888,
             "#fdca26"
            ],
            [
             1,
             "#f0f921"
            ]
           ]
          },
          "colorway": [
           "#636efa",
           "#EF553B",
           "#00cc96",
           "#ab63fa",
           "#FFA15A",
           "#19d3f3",
           "#FF6692",
           "#B6E880",
           "#FF97FF",
           "#FECB52"
          ],
          "font": {
           "color": "#2a3f5f"
          },
          "geo": {
           "bgcolor": "white",
           "lakecolor": "white",
           "landcolor": "#E5ECF6",
           "showlakes": true,
           "showland": true,
           "subunitcolor": "white"
          },
          "hoverlabel": {
           "align": "left"
          },
          "hovermode": "closest",
          "mapbox": {
           "style": "light"
          },
          "paper_bgcolor": "white",
          "plot_bgcolor": "#E5ECF6",
          "polar": {
           "angularaxis": {
            "gridcolor": "white",
            "linecolor": "white",
            "ticks": ""
           },
           "bgcolor": "#E5ECF6",
           "radialaxis": {
            "gridcolor": "white",
            "linecolor": "white",
            "ticks": ""
           }
          },
          "scene": {
           "xaxis": {
            "backgroundcolor": "#E5ECF6",
            "gridcolor": "white",
            "gridwidth": 2,
            "linecolor": "white",
            "showbackground": true,
            "ticks": "",
            "zerolinecolor": "white"
           },
           "yaxis": {
            "backgroundcolor": "#E5ECF6",
            "gridcolor": "white",
            "gridwidth": 2,
            "linecolor": "white",
            "showbackground": true,
            "ticks": "",
            "zerolinecolor": "white"
           },
           "zaxis": {
            "backgroundcolor": "#E5ECF6",
            "gridcolor": "white",
            "gridwidth": 2,
            "linecolor": "white",
            "showbackground": true,
            "ticks": "",
            "zerolinecolor": "white"
           }
          },
          "shapedefaults": {
           "line": {
            "color": "#2a3f5f"
           }
          },
          "ternary": {
           "aaxis": {
            "gridcolor": "white",
            "linecolor": "white",
            "ticks": ""
           },
           "baxis": {
            "gridcolor": "white",
            "linecolor": "white",
            "ticks": ""
           },
           "bgcolor": "#E5ECF6",
           "caxis": {
            "gridcolor": "white",
            "linecolor": "white",
            "ticks": ""
           }
          },
          "title": {
           "x": 0.05
          },
          "xaxis": {
           "automargin": true,
           "gridcolor": "white",
           "linecolor": "white",
           "ticks": "",
           "title": {
            "standoff": 15
           },
           "zerolinecolor": "white",
           "zerolinewidth": 2
          },
          "yaxis": {
           "automargin": true,
           "gridcolor": "white",
           "linecolor": "white",
           "ticks": "",
           "title": {
            "standoff": 15
           },
           "zerolinecolor": "white",
           "zerolinewidth": 2
          }
         }
        },
        "xaxis": {
         "anchor": "y",
         "domain": [
          0,
          1
         ],
         "title": {
          "text": "temp"
         }
        },
        "yaxis": {
         "anchor": "x",
         "domain": [
          0,
          1
         ],
         "title": {
          "text": "cnt"
         }
        }
       }
      }
     },
     "metadata": {},
     "output_type": "display_data"
    },
    {
     "data": {
      "application/vnd.plotly.v1+json": {
       "config": {
        "plotlyServerURL": "https://plot.ly"
       },
       "data": [
        {
         "hovertemplate": "atemp=%{x}<br>cnt=%{y}<extra></extra>",
         "legendgroup": "",
         "marker": {
          "color": "#636efa",
          "symbol": "circle"
         },
         "mode": "markers",
         "name": "",
         "orientation": "v",
         "showlegend": false,
         "type": "scatter",
         "x": [
          18.18125,
          17.68695,
          9.47025,
          10.6061,
          11.4635,
          11.66045,
          10.44195,
          8.1127,
          5.80875,
          7.5444,
          9.5732,
          8.02365,
          7.54415,
          9.42065,
          12.4056,
          11.71085,
          8.83855,
          11.61665,
          14.9211,
          12.7525,
          7.89165,
          3.95348,
          4.941955,
          5.8965,
          11.7263,
          10.18,
          10.985,
          11.16585,
          10.6063,
          12.5161,
          9.3125,
          11.7265,
          12.72085,
          8.8939,
          11.42935,
          12.1529,
          14.58355,
          15.1829,
          9.9123,
          7.21415,
          7.4774,
          10.67545,
          11.6477,
          16.20565,
          19.9175,
          12.7137,
          15.81,
          21.4329,
          25.59915,
          19.5702,
          13.8665,
          14.20375,
          9.30165,
          12.28585,
          14.45955,
          17.52305,
          14.1096,
          17.55545,
          20.0059,
          13.19395,
          16.00355,
          10.00665,
          12.78395,
          18.93895,
          18.3126,
          11.92305,
          15.12,
          14.3304,
          19.2834,
          15.25,
          16.2875,
          19.00455,
          16.6,
          15.9089,
          18.3465,
          20.51665,
          26.35045,
          23.32625,
          16.2875,
          20.48675,
          22.0321,
          16.89695,
          13.54165,
          12.8156,
          12.87855,
          12.51695,
          12.8787,
          14.6454,
          14.8675,
          12.87875,
          14.1727,
          15.78185,
          18.93835,
          27.14645,
          19.9175,
          19.3804,
          21.6848,
          16.22395,
          17.07645,
          21.33685,
          28.26085,
          24.6527,
          20.86415,
          23.1371,
          22.09565,
          21.2746,
          22.2848,
          25.1573,
          24.4629,
          28.2196,
          22.6946,
          16.0977,
          22.50605,
          27.58815,
          28.725,
          29.70415,
          28.7571,
          28.94645,
          24.87315,
          23.20105,
          22.4102,
          26.64165,
          29.10395,
          20.2325,
          22.09585,
          23.70585,
          25.63105,
          25.94665,
          26.2623,
          26.13605,
          26.42,
          26.16815,
          24.715,
          25.03145,
          26.8,
          27.5256,
          26.92645,
          26.3579,
          25.5371,
          26.4521,
          28.59875,
          28.725,
          29.5148,
          30.24065,
          30.7771,
          32.7344,
          31.8504,
          30.61895,
          30.7775,
          33.5546,
          36.26915,
          36.04835,
          32.1971,
          29.35665,
          29.7348,
          30.8402,
          31.0929,
          32.7975,
          36.36395,
          37.87895,
          35.1646,
          33.9019,
          32.16625,
          30.0827,
          29.5773,
          29.3877,
          29.7673,
          30.01915,
          32.1977,
          32.2923,
          29.7673,
          31.8823,
          34.69145,
          34.69165,
          32.82915,
          32.16565,
          31.88145,
          31.8502,
          34.6279,
          32.7344,
          31.8504,
          32.6081,
          33.3654,
          33.42875,
          33.27085,
          34.8169,
          34.28165,
          34.34355,
          33.52415,
          33.2079,
          34.50125,
          36.4902,
          36.96375,
          34.4702,
          31.7552,
          31.21855,
          31.91315,
          33.49165,
          35.19625,
          37.37395,
          37.3425,
          41.31855,
          42.0448,
          40.21435,
          39.74145,
          36.0479,
          34.84895,
          34.53335,
          36.995,
          39.29835,
          36.42685,
          36.4898,
          35.1646,
          35.35355,
          33.99685,
          33.2394,
          32.82835,
          33.8077,
          35.7646,
          35.16415,
          36.20605,
          34.24915,
          32.57605,
          32.7021,
          32.2929,
          31.2194,
          30.80835,
          32.29185,
          33.33355,
          33.1129,
          31.66105,
          32.4498,
          33.77625,
          31.9127,
          30.30335,
          31.5346,
          32.2927,
          32.98665,
          31.7778,
          32.39795,
          30.3979,
          29.7352,
          30.55605,
          30.74605,
          30.2404,
          31.66065,
          33.27145,
          31.2823,
          25.76,
          27.21145,
          27.76805,
          28.9473,
          30.3981,
          30.46145,
          30.1065,
          30.1777,
          31.345,
          27.68355,
          23.07375,
          23.9256,
          24.52685,
          26.48375,
          26.61085,
          27.52665,
          27.74815,
          26.10625,
          28.2206,
          28.63185,
          29.4521,
          28.72625,
          28.7579,
          28.7256,
          27.24145,
          20.64315,
          17.26585,
          19.6023,
          23.6429,
          26.3569,
          24.02125,
          25.2202,
          25.6621,
          26.19915,
          27.14625,
          27.3048,
          25.88585,
          27.5902,
          26.48375,
          24.93625,
          25.1577,
          25.53625,
          26.13605,
          25.6924,
          23.32625,
          21.1798,
          21.2746,
          21.11665,
          22.85335,
          23.16875,
          23.6423,
          22.8523,
          15.9406,
          11.39565,
          16.06645,
          17.80315,
          19.8544,
          19.50665,
          20.29605,
          20.1696,
          16.1927,
          18.1179,
          20.04355,
          20.6123,
          20.45395,
          18.68605,
          15.34085,
          17.8971,
          21.5275,
          26.2306,
          25.37895,
          22.5994,
          16.16105,
          13.63605,
          16.22415,
          22.8529,
          22.2531,
          21.0848,
          21.52685,
          18.62355,
          19.03355,
          19.25435,
          22.79,
          24.5061,
          22.56875,
          15.56105,
          15.2777,
          16.57165,
          15.5302,
          17.455,
          19.69625,
          22.82,
          20.0123,
          12.8469,
          15.8771,
          13.3206,
          12.6577,
          13.5098,
          15.0569,
          16.9181,
          20.61185,
          17.99125,
          12.46855,
          12.27895,
          14.04665,
          19.8227,
          21.40085,
          21.30605,
          18.87565,
          14.9621,
          13.99805,
          15.77675,
          16.38165,
          13.9987,
          13.1946,
          15.9406,
          20.70605,
          18.78105,
          12.6152,
          6.31375,
          5.96685,
          13.9206,
          17.01335,
          19.53895,
          17.0129,
          12.37395,
          15.9413,
          14.14105,
          19.0969,
          12.4681,
          9.15435,
          8.08125,
          9.53315,
          18.2139,
          13.7627,
          9.5019,
          11.0479,
          8.74375,
          8.1125,
          12.1529,
          17.4554,
          14.74105,
          17.8025,
          20.76915,
          16.31895,
          13.63605,
          13.13125,
          19.06585,
          23.3269,
          19.94855,
          15.4673,
          13.63625,
          13.22605,
          14.8213,
          18.0552,
          13.32105,
          13.0994,
          14.6779,
          10.54335,
          5.0829,
          11.39565,
          16.6973,
          17.58145,
          16.5081,
          17.58145,
          17.77125,
          13.2894,
          13.66955,
          14.75565,
          19.63335,
          22.2223,
          20.54855,
          12.78375,
          13.4154,
          17.8977,
          17.67625,
          23.76855,
          17.9921,
          20.6746,
          15.15105,
          12.05855,
          12.7521,
          19.255,
          26.2302,
          19.85415,
          13.88835,
          17.9835,
          22.9796,
          27.14645,
          27.43085,
          26.64125,
          21.81145,
          25.2523,
          23.2,
          26.64105,
          26.92665,
          25.6629,
          26.57835,
          28.50335,
          24.33665,
          21.8744,
          21.9375,
          15.7827,
          23.5475,
          24.1152,
          18.78105,
          21.0854,
          20.86435,
          21.37565,
          23.07415,
          26.6725,
          21.55815,
          19.53835,
          21.30645,
          24.62125,
          23.8319,
          21.81165,
          16.8637,
          19.3802,
          21.5904,
          24.3998,
          28.69375,
          30.74625,
          29.92435,
          22.8519,
          24.6523,
          25.78875,
          27.14605,
          19.4752,
          15.05625,
          20.26415,
          23.51585,
          24.17915,
          22.63185,
          18.8752,
          22.50605,
          22.8848,
          28.85105,
          26.8948,
          26.8621,
          29.54585,
          29.2304,
          27.33685,
          26.3571,
          27.87355,
          27.65125,
          24.58915,
          26.04165,
          27.24085,
          29.2619,
          27.495,
          28.8202,
          29.79875,
          28.63065,
          27.55605,
          28.3454,
          29.19835,
          28.28335,
          29.04125,
          29.2306,
          30.335,
          31.37645,
          32.1348,
          32.07125,
          33.965,
          33.6496,
          30.55645,
          31.56645,
          30.3981,
          28.3144,
          28.75665,
          28.91415,
          26.2946,
          27.1146,
          28.4721,
          29.8931,
          32.41835,
          33.17585,
          32.98605,
          29.89375,
          30.55585,
          31.21915,
          29.9877,
          29.7354,
          28.59875,
          27.2421,
          32.7346,
          36.04875,
          37.6271,
          36.20605,
          32.6396,
          33.7127,
          32.7021,
          29.7352,
          32.0396,
          33.7756,
          39.33065,
          34.3754,
          37.53145,
          35.1019,
          35.1325,
          36.61685,
          38.06835,
          37.62665,
          40.24565,
          39.5198,
          32.7027,
          33.2398,
          32.51355,
          32.73415,
          33.39665,
          33.3021,
          35.2598,
          36.20625,
          37.78415,
          37.27915,
          35.7321,
          30.65125,
          27.4956,
          31.15625,
          34.50085,
          35.3225,
          32.7027,
          36.96315,
          36.71085,
          34.8802,
          33.39665,
          34.24935,
          33.1448,
          33.3654,
          35.3544,
          36.14335,
          37.56335,
          36.55395,
          35.5123,
          34.88105,
          35.38585,
          34.9754,
          33.3971,
          31.91335,
          32.22895,
          33.1127,
          33.83895,
          32.70185,
          32.7344,
          12.12,
          30.90355,
          30.1777,
          29.79835,
          30.05125,
          31.0927,
          31.8504,
          32.355,
          30.9348,
          29.7998,
          32.7344,
          33.3025,
          31.78665,
          32.63895,
          34.47,
          35.1327,
          32.45,
          33.08145,
          34.3444,
          35.44915,
          32.76645,
          32.8602,
          30.55605,
          28.94625,
          28.2827,
          27.7146,
          28.50375,
          28.9779,
          29.70415,
          29.29335,
          28.15625,
          27.6525,
          28.25335,
          27.0202,
          26.6096,
          28.59855,
          30.5244,
          25.94665,
          25.12565,
          27.20895,
          29.83065,
          30.39875,
          29.29315,
          26.5148,
          25.88315,
          25.6,
          27.11665,
          29.95665,
          30.39875,
          29.00935,
          26.92605,
          20.99065,
          19.3804,
          21.9056,
          25.1571,
          21.55835,
          21.65355,
          19.5698,
          25.4102,
          26.9575,
          23.0423,
          22.5054,
          25.63125,
          26.8948,
          23.6421,
          22.82145,
          24.1471,
          26.5152,
          27.93605,
          26.4844,
          26.1375,
          25.75665,
          23.38855,
          21.97,
          15.49545,
          18.055,
          18.4971,
          17.8021,
          16.1923,
          16.4769,
          15.40375,
          14.07835,
          13.73105,
          17.09455,
          17.77065,
          19.69685,
          21.08565,
          23.76915,
          16.16125,
          14.07815,
          16.2246,
          17.3602,
          16.31915,
          16.8873,
          18.78105,
          19.03335,
          18.2446,
          17.51855,
          18.93895,
          12.4371,
          12.87915,
          16.9502,
          14.0779,
          14.4881,
          14.9211,
          16.19335,
          15.8452,
          17.9604,
          22.7898,
          23.4527,
          21.4006,
          12.9102,
          16.0979,
          19.4754,
          19.5073,
          21.77875,
          16.91815,
          14.8669,
          14.7094,
          14.7096,
          16.91915,
          18.4969,
          20.075,
          20.4854,
          17.1081,
          16.76085,
          15.08835,
          11.80565,
          12.97355,
          12.945,
          14.72325,
          11.01665,
          11.3321,
          12.7523,
          12.12,
          11.585,
          11.17435
         ],
         "xaxis": "x",
         "y": [
          985,
          801,
          1349,
          1562,
          1600,
          1606,
          1510,
          959,
          822,
          1321,
          1263,
          1162,
          1406,
          1421,
          1248,
          1204,
          1000,
          683,
          1650,
          1927,
          1543,
          981,
          986,
          1416,
          1985,
          506,
          431,
          1167,
          1098,
          1096,
          1501,
          1360,
          1526,
          1550,
          1708,
          1005,
          1623,
          1712,
          1530,
          1605,
          1538,
          1746,
          1472,
          1589,
          1913,
          1815,
          2115,
          2475,
          2927,
          1635,
          1812,
          1107,
          1450,
          1917,
          1807,
          1461,
          1969,
          2402,
          1446,
          1851,
          2134,
          1685,
          1944,
          2077,
          605,
          1872,
          2133,
          1891,
          623,
          1977,
          2132,
          2417,
          2046,
          2056,
          2192,
          2744,
          3239,
          3117,
          2471,
          2077,
          2703,
          2121,
          1865,
          2210,
          2496,
          1693,
          2028,
          2425,
          1536,
          1685,
          2227,
          2252,
          3249,
          3115,
          1795,
          2808,
          3141,
          1471,
          2455,
          2895,
          3348,
          2034,
          2162,
          3267,
          3126,
          795,
          3744,
          3429,
          3204,
          3944,
          4189,
          1683,
          4036,
          4191,
          4073,
          4400,
          3872,
          4058,
          4595,
          5312,
          3351,
          4401,
          4451,
          2633,
          4433,
          4608,
          4714,
          4333,
          4362,
          4803,
          4182,
          4864,
          4105,
          3409,
          4553,
          3958,
          4123,
          3855,
          4575,
          4917,
          5805,
          4660,
          4274,
          4492,
          4978,
          4677,
          4679,
          4758,
          4788,
          4098,
          3982,
          3974,
          4968,
          5312,
          5342,
          4906,
          4548,
          4833,
          4401,
          3915,
          4586,
          4966,
          4460,
          5020,
          4891,
          5180,
          3767,
          4844,
          5119,
          4744,
          4010,
          4835,
          4507,
          4790,
          4991,
          5202,
          5305,
          4708,
          4648,
          5225,
          5515,
          5362,
          5119,
          4649,
          6043,
          4665,
          4629,
          4592,
          4040,
          5336,
          4881,
          4086,
          4258,
          4342,
          5084,
          5538,
          5923,
          5302,
          4458,
          4541,
          4332,
          3784,
          3387,
          3285,
          3606,
          3840,
          4590,
          4656,
          4390,
          3846,
          4475,
          4302,
          4266,
          4845,
          3574,
          4576,
          4866,
          4294,
          3785,
          4326,
          4602,
          4780,
          4792,
          4905,
          4150,
          3820,
          4338,
          4725,
          4694,
          3805,
          4153,
          5191,
          3873,
          4758,
          5895,
          5130,
          3542,
          4661,
          1115,
          4334,
          4634,
          5204,
          5058,
          5115,
          4727,
          4484,
          4940,
          3351,
          2710,
          1996,
          1842,
          3544,
          5345,
          5046,
          4713,
          4763,
          4785,
          3659,
          4760,
          4511,
          4274,
          4539,
          3641,
          4352,
          4795,
          2395,
          5423,
          5010,
          4630,
          4120,
          3907,
          4839,
          5202,
          2429,
          2918,
          3570,
          4456,
          4826,
          4765,
          4985,
          5409,
          5511,
          5117,
          4563,
          2416,
          2913,
          3644,
          5217,
          5041,
          4570,
          4748,
          2424,
          4195,
          4304,
          4308,
          4381,
          4187,
          4687,
          3894,
          2659,
          3747,
          627,
          3331,
          3669,
          4068,
          4186,
          3974,
          4046,
          3926,
          3649,
          4035,
          4205,
          4109,
          2933,
          3368,
          4067,
          3717,
          4486,
          4195,
          1817,
          3053,
          3392,
          3663,
          3520,
          2765,
          1607,
          2566,
          1495,
          2792,
          3068,
          3071,
          3867,
          2914,
          3613,
          3727,
          3940,
          3614,
          3485,
          3811,
          2594,
          705,
          3322,
          3620,
          3190,
          2743,
          3310,
          3523,
          3740,
          3709,
          3577,
          2739,
          2431,
          3403,
          3750,
          2660,
          3068,
          2209,
          1011,
          754,
          1317,
          1162,
          2302,
          2423,
          2999,
          2485,
          2294,
          1951,
          2236,
          2368,
          3272,
          4098,
          4521,
          3425,
          2376,
          3598,
          2177,
          4097,
          3214,
          2493,
          2311,
          2298,
          2935,
          3376,
          3292,
          3163,
          1301,
          1977,
          2432,
          4339,
          4270,
          4075,
          3456,
          4023,
          3243,
          3624,
          4509,
          4579,
          3761,
          4151,
          2832,
          2947,
          3784,
          4375,
          2802,
          3830,
          3831,
          2169,
          1529,
          3422,
          3922,
          4169,
          3005,
          4154,
          4318,
          2689,
          3129,
          3777,
          4773,
          5062,
          3487,
          2732,
          3389,
          4322,
          4363,
          4990,
          3194,
          4066,
          3423,
          3333,
          3956,
          4916,
          5382,
          4569,
          4118,
          4911,
          5298,
          5847,
          6312,
          6192,
          4378,
          7836,
          5892,
          6153,
          6093,
          6230,
          6871,
          8362,
          3372,
          4996,
          5558,
          5102,
          5698,
          6133,
          5459,
          6235,
          6041,
          5936,
          6772,
          6436,
          6457,
          6460,
          6857,
          5169,
          5585,
          5918,
          4862,
          5409,
          6398,
          7460,
          7132,
          6370,
          6691,
          4367,
          6565,
          7290,
          6624,
          1027,
          3214,
          5633,
          6196,
          5026,
          6233,
          4220,
          6304,
          5572,
          5740,
          6169,
          6421,
          6296,
          6883,
          6359,
          6273,
          5728,
          4717,
          6572,
          7030,
          7429,
          6118,
          2843,
          5115,
          7424,
          7384,
          7639,
          8294,
          7129,
          4359,
          6073,
          5260,
          6770,
          6734,
          6536,
          6591,
          6043,
          5743,
          6855,
          7338,
          4127,
          8120,
          7641,
          6998,
          7001,
          7055,
          7494,
          7736,
          7498,
          6598,
          6664,
          4972,
          7421,
          7363,
          7665,
          7702,
          6978,
          5099,
          6825,
          6211,
          5905,
          5823,
          7458,
          6891,
          6779,
          7442,
          7335,
          6879,
          5463,
          5687,
          5531,
          6227,
          6660,
          7403,
          6241,
          6207,
          4840,
          4672,
          6569,
          6290,
          7264,
          7446,
          7499,
          6969,
          6031,
          6830,
          6786,
          5713,
          6591,
          5870,
          4459,
          7410,
          6966,
          7592,
          8173,
          6861,
          6904,
          6685,
          6597,
          7105,
          7216,
          7580,
          7261,
          7175,
          6824,
          5464,
          7013,
          7273,
          7534,
          7286,
          5786,
          6299,
          6544,
          6883,
          6784,
          7347,
          7605,
          7148,
          7865,
          4549,
          6530,
          7006,
          7375,
          7765,
          7582,
          6053,
          5255,
          6917,
          7040,
          7697,
          7713,
          7350,
          6140,
          5810,
          6034,
          6864,
          7112,
          6203,
          7504,
          5976,
          8227,
          7525,
          7767,
          7870,
          7804,
          8009,
          8714,
          7333,
          6869,
          4073,
          7591,
          7720,
          8167,
          8395,
          7907,
          7436,
          7538,
          7733,
          7393,
          7415,
          8555,
          6889,
          6778,
          4639,
          7572,
          7328,
          8156,
          7965,
          3510,
          5478,
          6392,
          7691,
          7570,
          7282,
          7109,
          6639,
          5875,
          7534,
          7461,
          7509,
          5424,
          8090,
          6824,
          7058,
          7466,
          7693,
          7359,
          7444,
          7852,
          4459,
          22,
          1096,
          5566,
          5986,
          5847,
          5138,
          5107,
          5259,
          5686,
          5035,
          5315,
          5992,
          6536,
          6852,
          6269,
          4094,
          5495,
          5445,
          5698,
          5629,
          4669,
          5499,
          5634,
          5146,
          2425,
          3910,
          2277,
          2424,
          5087,
          3959,
          5260,
          5323,
          5668,
          5191,
          4649,
          6234,
          6606,
          5729,
          5375,
          5008,
          5582,
          3228,
          5170,
          5501,
          5319,
          5532,
          5611,
          5047,
          3786,
          4585,
          5557,
          5267,
          4128,
          3623,
          1749,
          1787,
          920,
          1013,
          441,
          2114,
          3095,
          1341,
          1796,
          2729
         ],
         "yaxis": "y"
        }
       ],
       "layout": {
        "legend": {
         "tracegroupgap": 0
        },
        "margin": {
         "t": 60
        },
        "template": {
         "data": {
          "bar": [
           {
            "error_x": {
             "color": "#2a3f5f"
            },
            "error_y": {
             "color": "#2a3f5f"
            },
            "marker": {
             "line": {
              "color": "#E5ECF6",
              "width": 0.5
             },
             "pattern": {
              "fillmode": "overlay",
              "size": 10,
              "solidity": 0.2
             }
            },
            "type": "bar"
           }
          ],
          "barpolar": [
           {
            "marker": {
             "line": {
              "color": "#E5ECF6",
              "width": 0.5
             },
             "pattern": {
              "fillmode": "overlay",
              "size": 10,
              "solidity": 0.2
             }
            },
            "type": "barpolar"
           }
          ],
          "carpet": [
           {
            "aaxis": {
             "endlinecolor": "#2a3f5f",
             "gridcolor": "white",
             "linecolor": "white",
             "minorgridcolor": "white",
             "startlinecolor": "#2a3f5f"
            },
            "baxis": {
             "endlinecolor": "#2a3f5f",
             "gridcolor": "white",
             "linecolor": "white",
             "minorgridcolor": "white",
             "startlinecolor": "#2a3f5f"
            },
            "type": "carpet"
           }
          ],
          "choropleth": [
           {
            "colorbar": {
             "outlinewidth": 0,
             "ticks": ""
            },
            "type": "choropleth"
           }
          ],
          "contour": [
           {
            "colorbar": {
             "outlinewidth": 0,
             "ticks": ""
            },
            "colorscale": [
             [
              0,
              "#0d0887"
             ],
             [
              0.1111111111111111,
              "#46039f"
             ],
             [
              0.2222222222222222,
              "#7201a8"
             ],
             [
              0.3333333333333333,
              "#9c179e"
             ],
             [
              0.4444444444444444,
              "#bd3786"
             ],
             [
              0.5555555555555556,
              "#d8576b"
             ],
             [
              0.6666666666666666,
              "#ed7953"
             ],
             [
              0.7777777777777778,
              "#fb9f3a"
             ],
             [
              0.8888888888888888,
              "#fdca26"
             ],
             [
              1,
              "#f0f921"
             ]
            ],
            "type": "contour"
           }
          ],
          "contourcarpet": [
           {
            "colorbar": {
             "outlinewidth": 0,
             "ticks": ""
            },
            "type": "contourcarpet"
           }
          ],
          "heatmap": [
           {
            "colorbar": {
             "outlinewidth": 0,
             "ticks": ""
            },
            "colorscale": [
             [
              0,
              "#0d0887"
             ],
             [
              0.1111111111111111,
              "#46039f"
             ],
             [
              0.2222222222222222,
              "#7201a8"
             ],
             [
              0.3333333333333333,
              "#9c179e"
             ],
             [
              0.4444444444444444,
              "#bd3786"
             ],
             [
              0.5555555555555556,
              "#d8576b"
             ],
             [
              0.6666666666666666,
              "#ed7953"
             ],
             [
              0.7777777777777778,
              "#fb9f3a"
             ],
             [
              0.8888888888888888,
              "#fdca26"
             ],
             [
              1,
              "#f0f921"
             ]
            ],
            "type": "heatmap"
           }
          ],
          "heatmapgl": [
           {
            "colorbar": {
             "outlinewidth": 0,
             "ticks": ""
            },
            "colorscale": [
             [
              0,
              "#0d0887"
             ],
             [
              0.1111111111111111,
              "#46039f"
             ],
             [
              0.2222222222222222,
              "#7201a8"
             ],
             [
              0.3333333333333333,
              "#9c179e"
             ],
             [
              0.4444444444444444,
              "#bd3786"
             ],
             [
              0.5555555555555556,
              "#d8576b"
             ],
             [
              0.6666666666666666,
              "#ed7953"
             ],
             [
              0.7777777777777778,
              "#fb9f3a"
             ],
             [
              0.8888888888888888,
              "#fdca26"
             ],
             [
              1,
              "#f0f921"
             ]
            ],
            "type": "heatmapgl"
           }
          ],
          "histogram": [
           {
            "marker": {
             "pattern": {
              "fillmode": "overlay",
              "size": 10,
              "solidity": 0.2
             }
            },
            "type": "histogram"
           }
          ],
          "histogram2d": [
           {
            "colorbar": {
             "outlinewidth": 0,
             "ticks": ""
            },
            "colorscale": [
             [
              0,
              "#0d0887"
             ],
             [
              0.1111111111111111,
              "#46039f"
             ],
             [
              0.2222222222222222,
              "#7201a8"
             ],
             [
              0.3333333333333333,
              "#9c179e"
             ],
             [
              0.4444444444444444,
              "#bd3786"
             ],
             [
              0.5555555555555556,
              "#d8576b"
             ],
             [
              0.6666666666666666,
              "#ed7953"
             ],
             [
              0.7777777777777778,
              "#fb9f3a"
             ],
             [
              0.8888888888888888,
              "#fdca26"
             ],
             [
              1,
              "#f0f921"
             ]
            ],
            "type": "histogram2d"
           }
          ],
          "histogram2dcontour": [
           {
            "colorbar": {
             "outlinewidth": 0,
             "ticks": ""
            },
            "colorscale": [
             [
              0,
              "#0d0887"
             ],
             [
              0.1111111111111111,
              "#46039f"
             ],
             [
              0.2222222222222222,
              "#7201a8"
             ],
             [
              0.3333333333333333,
              "#9c179e"
             ],
             [
              0.4444444444444444,
              "#bd3786"
             ],
             [
              0.5555555555555556,
              "#d8576b"
             ],
             [
              0.6666666666666666,
              "#ed7953"
             ],
             [
              0.7777777777777778,
              "#fb9f3a"
             ],
             [
              0.8888888888888888,
              "#fdca26"
             ],
             [
              1,
              "#f0f921"
             ]
            ],
            "type": "histogram2dcontour"
           }
          ],
          "mesh3d": [
           {
            "colorbar": {
             "outlinewidth": 0,
             "ticks": ""
            },
            "type": "mesh3d"
           }
          ],
          "parcoords": [
           {
            "line": {
             "colorbar": {
              "outlinewidth": 0,
              "ticks": ""
             }
            },
            "type": "parcoords"
           }
          ],
          "pie": [
           {
            "automargin": true,
            "type": "pie"
           }
          ],
          "scatter": [
           {
            "fillpattern": {
             "fillmode": "overlay",
             "size": 10,
             "solidity": 0.2
            },
            "type": "scatter"
           }
          ],
          "scatter3d": [
           {
            "line": {
             "colorbar": {
              "outlinewidth": 0,
              "ticks": ""
             }
            },
            "marker": {
             "colorbar": {
              "outlinewidth": 0,
              "ticks": ""
             }
            },
            "type": "scatter3d"
           }
          ],
          "scattercarpet": [
           {
            "marker": {
             "colorbar": {
              "outlinewidth": 0,
              "ticks": ""
             }
            },
            "type": "scattercarpet"
           }
          ],
          "scattergeo": [
           {
            "marker": {
             "colorbar": {
              "outlinewidth": 0,
              "ticks": ""
             }
            },
            "type": "scattergeo"
           }
          ],
          "scattergl": [
           {
            "marker": {
             "colorbar": {
              "outlinewidth": 0,
              "ticks": ""
             }
            },
            "type": "scattergl"
           }
          ],
          "scattermapbox": [
           {
            "marker": {
             "colorbar": {
              "outlinewidth": 0,
              "ticks": ""
             }
            },
            "type": "scattermapbox"
           }
          ],
          "scatterpolar": [
           {
            "marker": {
             "colorbar": {
              "outlinewidth": 0,
              "ticks": ""
             }
            },
            "type": "scatterpolar"
           }
          ],
          "scatterpolargl": [
           {
            "marker": {
             "colorbar": {
              "outlinewidth": 0,
              "ticks": ""
             }
            },
            "type": "scatterpolargl"
           }
          ],
          "scatterternary": [
           {
            "marker": {
             "colorbar": {
              "outlinewidth": 0,
              "ticks": ""
             }
            },
            "type": "scatterternary"
           }
          ],
          "surface": [
           {
            "colorbar": {
             "outlinewidth": 0,
             "ticks": ""
            },
            "colorscale": [
             [
              0,
              "#0d0887"
             ],
             [
              0.1111111111111111,
              "#46039f"
             ],
             [
              0.2222222222222222,
              "#7201a8"
             ],
             [
              0.3333333333333333,
              "#9c179e"
             ],
             [
              0.4444444444444444,
              "#bd3786"
             ],
             [
              0.5555555555555556,
              "#d8576b"
             ],
             [
              0.6666666666666666,
              "#ed7953"
             ],
             [
              0.7777777777777778,
              "#fb9f3a"
             ],
             [
              0.8888888888888888,
              "#fdca26"
             ],
             [
              1,
              "#f0f921"
             ]
            ],
            "type": "surface"
           }
          ],
          "table": [
           {
            "cells": {
             "fill": {
              "color": "#EBF0F8"
             },
             "line": {
              "color": "white"
             }
            },
            "header": {
             "fill": {
              "color": "#C8D4E3"
             },
             "line": {
              "color": "white"
             }
            },
            "type": "table"
           }
          ]
         },
         "layout": {
          "annotationdefaults": {
           "arrowcolor": "#2a3f5f",
           "arrowhead": 0,
           "arrowwidth": 1
          },
          "autotypenumbers": "strict",
          "coloraxis": {
           "colorbar": {
            "outlinewidth": 0,
            "ticks": ""
           }
          },
          "colorscale": {
           "diverging": [
            [
             0,
             "#8e0152"
            ],
            [
             0.1,
             "#c51b7d"
            ],
            [
             0.2,
             "#de77ae"
            ],
            [
             0.3,
             "#f1b6da"
            ],
            [
             0.4,
             "#fde0ef"
            ],
            [
             0.5,
             "#f7f7f7"
            ],
            [
             0.6,
             "#e6f5d0"
            ],
            [
             0.7,
             "#b8e186"
            ],
            [
             0.8,
             "#7fbc41"
            ],
            [
             0.9,
             "#4d9221"
            ],
            [
             1,
             "#276419"
            ]
           ],
           "sequential": [
            [
             0,
             "#0d0887"
            ],
            [
             0.1111111111111111,
             "#46039f"
            ],
            [
             0.2222222222222222,
             "#7201a8"
            ],
            [
             0.3333333333333333,
             "#9c179e"
            ],
            [
             0.4444444444444444,
             "#bd3786"
            ],
            [
             0.5555555555555556,
             "#d8576b"
            ],
            [
             0.6666666666666666,
             "#ed7953"
            ],
            [
             0.7777777777777778,
             "#fb9f3a"
            ],
            [
             0.8888888888888888,
             "#fdca26"
            ],
            [
             1,
             "#f0f921"
            ]
           ],
           "sequentialminus": [
            [
             0,
             "#0d0887"
            ],
            [
             0.1111111111111111,
             "#46039f"
            ],
            [
             0.2222222222222222,
             "#7201a8"
            ],
            [
             0.3333333333333333,
             "#9c179e"
            ],
            [
             0.4444444444444444,
             "#bd3786"
            ],
            [
             0.5555555555555556,
             "#d8576b"
            ],
            [
             0.6666666666666666,
             "#ed7953"
            ],
            [
             0.7777777777777778,
             "#fb9f3a"
            ],
            [
             0.8888888888888888,
             "#fdca26"
            ],
            [
             1,
             "#f0f921"
            ]
           ]
          },
          "colorway": [
           "#636efa",
           "#EF553B",
           "#00cc96",
           "#ab63fa",
           "#FFA15A",
           "#19d3f3",
           "#FF6692",
           "#B6E880",
           "#FF97FF",
           "#FECB52"
          ],
          "font": {
           "color": "#2a3f5f"
          },
          "geo": {
           "bgcolor": "white",
           "lakecolor": "white",
           "landcolor": "#E5ECF6",
           "showlakes": true,
           "showland": true,
           "subunitcolor": "white"
          },
          "hoverlabel": {
           "align": "left"
          },
          "hovermode": "closest",
          "mapbox": {
           "style": "light"
          },
          "paper_bgcolor": "white",
          "plot_bgcolor": "#E5ECF6",
          "polar": {
           "angularaxis": {
            "gridcolor": "white",
            "linecolor": "white",
            "ticks": ""
           },
           "bgcolor": "#E5ECF6",
           "radialaxis": {
            "gridcolor": "white",
            "linecolor": "white",
            "ticks": ""
           }
          },
          "scene": {
           "xaxis": {
            "backgroundcolor": "#E5ECF6",
            "gridcolor": "white",
            "gridwidth": 2,
            "linecolor": "white",
            "showbackground": true,
            "ticks": "",
            "zerolinecolor": "white"
           },
           "yaxis": {
            "backgroundcolor": "#E5ECF6",
            "gridcolor": "white",
            "gridwidth": 2,
            "linecolor": "white",
            "showbackground": true,
            "ticks": "",
            "zerolinecolor": "white"
           },
           "zaxis": {
            "backgroundcolor": "#E5ECF6",
            "gridcolor": "white",
            "gridwidth": 2,
            "linecolor": "white",
            "showbackground": true,
            "ticks": "",
            "zerolinecolor": "white"
           }
          },
          "shapedefaults": {
           "line": {
            "color": "#2a3f5f"
           }
          },
          "ternary": {
           "aaxis": {
            "gridcolor": "white",
            "linecolor": "white",
            "ticks": ""
           },
           "baxis": {
            "gridcolor": "white",
            "linecolor": "white",
            "ticks": ""
           },
           "bgcolor": "#E5ECF6",
           "caxis": {
            "gridcolor": "white",
            "linecolor": "white",
            "ticks": ""
           }
          },
          "title": {
           "x": 0.05
          },
          "xaxis": {
           "automargin": true,
           "gridcolor": "white",
           "linecolor": "white",
           "ticks": "",
           "title": {
            "standoff": 15
           },
           "zerolinecolor": "white",
           "zerolinewidth": 2
          },
          "yaxis": {
           "automargin": true,
           "gridcolor": "white",
           "linecolor": "white",
           "ticks": "",
           "title": {
            "standoff": 15
           },
           "zerolinecolor": "white",
           "zerolinewidth": 2
          }
         }
        },
        "xaxis": {
         "anchor": "y",
         "domain": [
          0,
          1
         ],
         "title": {
          "text": "atemp"
         }
        },
        "yaxis": {
         "anchor": "x",
         "domain": [
          0,
          1
         ],
         "title": {
          "text": "cnt"
         }
        }
       }
      }
     },
     "metadata": {},
     "output_type": "display_data"
    },
    {
     "data": {
      "application/vnd.plotly.v1+json": {
       "config": {
        "plotlyServerURL": "https://plot.ly"
       },
       "data": [
        {
         "hovertemplate": "hum=%{x}<br>cnt=%{y}<extra></extra>",
         "legendgroup": "",
         "marker": {
          "color": "#636efa",
          "symbol": "circle"
         },
         "mode": "markers",
         "name": "",
         "orientation": "v",
         "showlegend": false,
         "type": "scatter",
         "x": [
          80.5833,
          69.6087,
          43.7273,
          59.0435,
          43.6957,
          51.8261,
          49.8696,
          53.5833,
          43.4167,
          48.2917,
          68.6364,
          59.9545,
          47.0417,
          53.7826,
          49.875,
          48.375,
          53.75,
          86.1667,
          74.1739,
          53.8333,
          45.7083,
          40,
          43.6522,
          49.1739,
          61.6957,
          86.25,
          68.75,
          79.3043,
          65.1739,
          72.2174,
          60.375,
          82.9565,
          77.5417,
          43.7826,
          58.5217,
          92.9167,
          56.8333,
          73.8333,
          53.7917,
          49.4783,
          43.7391,
          50.6364,
          54.4167,
          45.7391,
          37.5833,
          31.4348,
          42.3478,
          50.5,
          51.6667,
          18.7917,
          40.7826,
          60.5,
          57.7778,
          42.3043,
          69.7391,
          71.2174,
          53.7917,
          68,
          87.6364,
          53.5,
          44.9583,
          31.8333,
          61.0417,
          78.9167,
          94.8261,
          55.1304,
          42.0833,
          77.5417,
          0,
          64.9565,
          59.4583,
          52.7391,
          49.6957,
          65.5652,
          77.6522,
          60.2917,
          52.5217,
          37.9167,
          47.375,
          73.7391,
          62.4583,
          83.9565,
          80.5833,
          49.5,
          39.4167,
          49.3913,
          30.2174,
          31.4167,
          64.6667,
          91.8333,
          68.625,
          65.375,
          48,
          42.625,
          64.2083,
          47.0833,
          60.2917,
          83.625,
          87.75,
          85.75,
          71.6956,
          73.9167,
          81.9167,
          54.0417,
          67.125,
          88.8333,
          47.9583,
          54.25,
          66.5833,
          61.4167,
          40.7083,
          72.9583,
          88.7917,
          81.0833,
          77.6667,
          72.9167,
          83.5417,
          70.0833,
          45.7083,
          50.3333,
          76.2083,
          73,
          69.7083,
          73.7083,
          44.4167,
          59,
          54.125,
          63.1667,
          58.875,
          48.9167,
          63.2917,
          74.75,
          86.3333,
          92.25,
          86.7083,
          78.7917,
          83.7917,
          87,
          82.9583,
          71.9583,
          62.6667,
          74.9583,
          81,
          74.0833,
          69.625,
          67.75,
          65.375,
          72.9583,
          81.875,
          68.5,
          63.6667,
          67.7083,
          30.5,
          35.4167,
          45.625,
          65.25,
          60,
          59.7917,
          62.2083,
          56.8333,
          60.5,
          65.4583,
          74.7917,
          49.4583,
          50.7083,
          47.1667,
          68.8333,
          73.5833,
          67.0417,
          66.6667,
          74.625,
          77.0417,
          70.75,
          70.3333,
          57.3333,
          48.3333,
          51.3333,
          65.8333,
          63.4167,
          49.7917,
          43.4167,
          39.625,
          44.4583,
          68.25,
          63.7917,
          59.0417,
          74.3333,
          65.125,
          75.7917,
          60.9167,
          57.8333,
          63.5833,
          55.9167,
          63.1667,
          47.625,
          59.125,
          58.5,
          60.4167,
          65.125,
          65.0417,
          70.7083,
          69.125,
          58.0417,
          50,
          55.0833,
          75.7083,
          54.0833,
          40.2917,
          58.3333,
          54.25,
          46.5833,
          48.0833,
          55.0833,
          49.125,
          65.75,
          75.75,
          63.0833,
          75.5,
          75.2917,
          59.2083,
          57.0417,
          42.4167,
          42.375,
          41.5,
          72.9583,
          81.75,
          71.2083,
          57.8333,
          57.5417,
          65.4583,
          72.2917,
          67.4167,
          77,
          47,
          45.5417,
          60.5,
          77.1667,
          76.125,
          85,
          56.1765,
          55.4583,
          54.8333,
          59.7917,
          63.9167,
          72.7083,
          71.6667,
          74.2083,
          79.0417,
          88.6957,
          91.7083,
          93.9565,
          89.7917,
          75.375,
          71.375,
          69.2174,
          71.25,
          69.7083,
          70.9167,
          59.0417,
          71.8333,
          69.5,
          69,
          88.125,
          90,
          90.2083,
          97.25,
          86.25,
          84.5,
          84.8333,
          88.5417,
          84.875,
          69.9167,
          64.75,
          75.375,
          79.1667,
          76.0833,
          71,
          64.7917,
          62.0833,
          68.4167,
          70.125,
          72.75,
          73.375,
          80.875,
          90.625,
          89.6667,
          71.625,
          48.3333,
          48.6667,
          57.9583,
          70.1667,
          89.5217,
          63.625,
          57.4167,
          62.9167,
          74.125,
          77.2083,
          62.2917,
          72.0417,
          81.2917,
          58.5833,
          88.25,
          62.375,
          70.3333,
          68.375,
          71.875,
          70.2083,
          62.25,
          51.9167,
          73.4583,
          75.875,
          72.1667,
          75.8333,
          81.3333,
          44.625,
          55.2917,
          45.8333,
          58.7083,
          68.875,
          93,
          57.5833,
          41,
          50.2083,
          68.4583,
          91,
          96.25,
          75.7917,
          54.9167,
          64.375,
          68.1667,
          69.8333,
          74.3043,
          83.0833,
          61.3333,
          52.4583,
          62.5833,
          61.2917,
          77.5833,
          82.7083,
          94.9583,
          97.0417,
          58,
          69.5833,
          50.75,
          49,
          67.0833,
          59,
          66.375,
          63.4167,
          50.0417,
          56.0833,
          58.625,
          63.75,
          59.5417,
          85.8333,
          75.75,
          68.625,
          54.25,
          68.1304,
          50.6957,
          76.25,
          50.3913,
          57.4167,
          63.6667,
          61.5833,
          69.25,
          38.1304,
          44.125,
          41.4583,
          52.4167,
          54.2083,
          53.1667,
          46.5,
          70.1667,
          64.6522,
          84.75,
          80.2917,
          50.75,
          45.75,
          41.9167,
          52.25,
          71.6087,
          44.3333,
          49.75,
          45,
          83.125,
          79.625,
          91.125,
          83.5833,
          64.375,
          76.9583,
          74.125,
          54.3333,
          31.125,
          40.0833,
          41.6667,
          50.7917,
          67.2917,
          52.6667,
          77.9583,
          68.7917,
          62.2174,
          49.625,
          72.2917,
          56.2083,
          54,
          73.125,
          46.4583,
          41.125,
          50.875,
          53.125,
          75.2917,
          63.4583,
          53.4583,
          51.5833,
          50.7826,
          59.4348,
          56.7917,
          55.4583,
          73.75,
          39.5833,
          41,
          49.0833,
          39.5833,
          61.5417,
          65.7083,
          62.125,
          40.3333,
          50.625,
          45.6667,
          51.3333,
          56.75,
          40.7083,
          35.0417,
          47.6957,
          48.9167,
          61.75,
          50.7083,
          57.9583,
          84.2083,
          75.5833,
          81,
          72.875,
          80.7917,
          82.125,
          83.125,
          69.4167,
          88.5417,
          88.0833,
          47.7917,
          29,
          48.125,
          43.9167,
          58.0833,
          73.8333,
          67.625,
          50.4348,
          39.6667,
          46.9583,
          37.4167,
          37.7083,
          25.4167,
          27.5833,
          31.75,
          43.5,
          46.9565,
          46.625,
          40.8333,
          50.2917,
          50.7917,
          56.1667,
          39.0417,
          56.9167,
          61.25,
          69.4583,
          68.2917,
          83.5417,
          76.6667,
          45.4167,
          42.7917,
          75.6667,
          40.0833,
          48.9583,
          58.7083,
          57,
          65.9583,
          79.7083,
          76.8333,
          73.5417,
          75.6667,
          74,
          66.4167,
          68.5833,
          74.4167,
          55.2083,
          36.0417,
          48.0417,
          57.625,
          78.9583,
          79.4583,
          69.7917,
          52,
          52.3333,
          45.625,
          53.0417,
          81.125,
          76.5833,
          77.4583,
          71.6667,
          74.7083,
          73.25,
          69.7083,
          67.625,
          68.4583,
          67,
          49.2917,
          75.5417,
          54.9167,
          49.3333,
          48.7083,
          61.3333,
          61.125,
          56.7083,
          46.7917,
          43.7083,
          53.8333,
          58.7917,
          83.3333,
          58.2083,
          56.9583,
          58.9583,
          50.4167,
          59.875,
          77.7917,
          69,
          59.2083,
          56.7917,
          57.375,
          53.4583,
          47.9167,
          50.4167,
          37.3333,
          36,
          42.25,
          48.875,
          60.125,
          51.875,
          44.7083,
          49.2083,
          53.875,
          45.7917,
          45.0833,
          49.2083,
          57.375,
          68.3333,
          66.75,
          63.3333,
          52.9583,
          48.5833,
          69.9167,
          71.7917,
          64.5,
          50.5833,
          57.7083,
          60.0417,
          84.4167,
          86.5417,
          76.25,
          69.4167,
          65.5,
          45,
          59.6667,
          59.4583,
          61.3333,
          62.375,
          66.875,
          70.4167,
          67.75,
          65.9583,
          64.25,
          61.3333,
          65.25,
          65.4167,
          70.375,
          67.2917,
          62.0417,
          71.5833,
          73.2917,
          53.0417,
          54.5417,
          68.6667,
          61.9583,
          51.9167,
          57.0833,
          60.3333,
          71.1667,
          73.4167,
          67.375,
          67.7083,
          63.5833,
          61.5,
          71.2917,
          84.5833,
          73.0417,
          62,
          55.2083,
          59.0417,
          58.75,
          63.8333,
          81.5,
          79.0833,
          75.5,
          74.125,
          81.0417,
          73.625,
          79.9167,
          54.75,
          50.375,
          52,
          57.7083,
          63.7083,
          67.25,
          50.1667,
          57,
          73.4583,
          87.25,
          53.6667,
          61.8333,
          66.875,
          64.6667,
          46.7083,
          49.2917,
          57,
          63.0833,
          69.0833,
          69,
          54.2917,
          58.3333,
          64.9167,
          87.1667,
          79.375,
          72.2917,
          62.75,
          66.4167,
          70.8333,
          70.9583,
          76.1667,
          63.0833,
          46.3333,
          53.9167,
          49.4583,
          64.0417,
          70.75,
          55.8333,
          69.2917,
          72.8333,
          81.5,
          57.2917,
          51,
          56.8333,
          64.1667,
          63.625,
          80.0417,
          80.7083,
          72,
          69.4583,
          88,
          82.5455,
          66.6667,
          58.1667,
          52.2083,
          49.125,
          53.2917,
          49.4167,
          56.7083,
          54.75,
          33.3478,
          54.0833,
          64.5417,
          65.9167,
          74.1667,
          66.2917,
          55.2083,
          62.0417,
          52.4583,
          54.5417,
          69.2917,
          62.3333,
          68.5,
          61.375,
          58.0417,
          56.875,
          40.4583,
          46.8333,
          53.5417,
          78.6667,
          50.625,
          55.5652,
          64.9583,
          80.6667,
          82.3333,
          76.75,
          73.375,
          48.5,
          50.875,
          76.4167,
          91.125,
          90.5417,
          92.5,
          59.6667,
          53.8333,
          48.5833,
          64.2917,
          65.0417,
          83.875,
          90.7083,
          66.625,
          62.5417,
          66.7917,
          55.6667,
          44.125,
          51.5417,
          79.1304,
          73.4783,
          82.3333,
          65.2917,
          59,
          75.2917,
          48.3333,
          57.75
         ],
         "xaxis": "x",
         "y": [
          985,
          801,
          1349,
          1562,
          1600,
          1606,
          1510,
          959,
          822,
          1321,
          1263,
          1162,
          1406,
          1421,
          1248,
          1204,
          1000,
          683,
          1650,
          1927,
          1543,
          981,
          986,
          1416,
          1985,
          506,
          431,
          1167,
          1098,
          1096,
          1501,
          1360,
          1526,
          1550,
          1708,
          1005,
          1623,
          1712,
          1530,
          1605,
          1538,
          1746,
          1472,
          1589,
          1913,
          1815,
          2115,
          2475,
          2927,
          1635,
          1812,
          1107,
          1450,
          1917,
          1807,
          1461,
          1969,
          2402,
          1446,
          1851,
          2134,
          1685,
          1944,
          2077,
          605,
          1872,
          2133,
          1891,
          623,
          1977,
          2132,
          2417,
          2046,
          2056,
          2192,
          2744,
          3239,
          3117,
          2471,
          2077,
          2703,
          2121,
          1865,
          2210,
          2496,
          1693,
          2028,
          2425,
          1536,
          1685,
          2227,
          2252,
          3249,
          3115,
          1795,
          2808,
          3141,
          1471,
          2455,
          2895,
          3348,
          2034,
          2162,
          3267,
          3126,
          795,
          3744,
          3429,
          3204,
          3944,
          4189,
          1683,
          4036,
          4191,
          4073,
          4400,
          3872,
          4058,
          4595,
          5312,
          3351,
          4401,
          4451,
          2633,
          4433,
          4608,
          4714,
          4333,
          4362,
          4803,
          4182,
          4864,
          4105,
          3409,
          4553,
          3958,
          4123,
          3855,
          4575,
          4917,
          5805,
          4660,
          4274,
          4492,
          4978,
          4677,
          4679,
          4758,
          4788,
          4098,
          3982,
          3974,
          4968,
          5312,
          5342,
          4906,
          4548,
          4833,
          4401,
          3915,
          4586,
          4966,
          4460,
          5020,
          4891,
          5180,
          3767,
          4844,
          5119,
          4744,
          4010,
          4835,
          4507,
          4790,
          4991,
          5202,
          5305,
          4708,
          4648,
          5225,
          5515,
          5362,
          5119,
          4649,
          6043,
          4665,
          4629,
          4592,
          4040,
          5336,
          4881,
          4086,
          4258,
          4342,
          5084,
          5538,
          5923,
          5302,
          4458,
          4541,
          4332,
          3784,
          3387,
          3285,
          3606,
          3840,
          4590,
          4656,
          4390,
          3846,
          4475,
          4302,
          4266,
          4845,
          3574,
          4576,
          4866,
          4294,
          3785,
          4326,
          4602,
          4780,
          4792,
          4905,
          4150,
          3820,
          4338,
          4725,
          4694,
          3805,
          4153,
          5191,
          3873,
          4758,
          5895,
          5130,
          3542,
          4661,
          1115,
          4334,
          4634,
          5204,
          5058,
          5115,
          4727,
          4484,
          4940,
          3351,
          2710,
          1996,
          1842,
          3544,
          5345,
          5046,
          4713,
          4763,
          4785,
          3659,
          4760,
          4511,
          4274,
          4539,
          3641,
          4352,
          4795,
          2395,
          5423,
          5010,
          4630,
          4120,
          3907,
          4839,
          5202,
          2429,
          2918,
          3570,
          4456,
          4826,
          4765,
          4985,
          5409,
          5511,
          5117,
          4563,
          2416,
          2913,
          3644,
          5217,
          5041,
          4570,
          4748,
          2424,
          4195,
          4304,
          4308,
          4381,
          4187,
          4687,
          3894,
          2659,
          3747,
          627,
          3331,
          3669,
          4068,
          4186,
          3974,
          4046,
          3926,
          3649,
          4035,
          4205,
          4109,
          2933,
          3368,
          4067,
          3717,
          4486,
          4195,
          1817,
          3053,
          3392,
          3663,
          3520,
          2765,
          1607,
          2566,
          1495,
          2792,
          3068,
          3071,
          3867,
          2914,
          3613,
          3727,
          3940,
          3614,
          3485,
          3811,
          2594,
          705,
          3322,
          3620,
          3190,
          2743,
          3310,
          3523,
          3740,
          3709,
          3577,
          2739,
          2431,
          3403,
          3750,
          2660,
          3068,
          2209,
          1011,
          754,
          1317,
          1162,
          2302,
          2423,
          2999,
          2485,
          2294,
          1951,
          2236,
          2368,
          3272,
          4098,
          4521,
          3425,
          2376,
          3598,
          2177,
          4097,
          3214,
          2493,
          2311,
          2298,
          2935,
          3376,
          3292,
          3163,
          1301,
          1977,
          2432,
          4339,
          4270,
          4075,
          3456,
          4023,
          3243,
          3624,
          4509,
          4579,
          3761,
          4151,
          2832,
          2947,
          3784,
          4375,
          2802,
          3830,
          3831,
          2169,
          1529,
          3422,
          3922,
          4169,
          3005,
          4154,
          4318,
          2689,
          3129,
          3777,
          4773,
          5062,
          3487,
          2732,
          3389,
          4322,
          4363,
          4990,
          3194,
          4066,
          3423,
          3333,
          3956,
          4916,
          5382,
          4569,
          4118,
          4911,
          5298,
          5847,
          6312,
          6192,
          4378,
          7836,
          5892,
          6153,
          6093,
          6230,
          6871,
          8362,
          3372,
          4996,
          5558,
          5102,
          5698,
          6133,
          5459,
          6235,
          6041,
          5936,
          6772,
          6436,
          6457,
          6460,
          6857,
          5169,
          5585,
          5918,
          4862,
          5409,
          6398,
          7460,
          7132,
          6370,
          6691,
          4367,
          6565,
          7290,
          6624,
          1027,
          3214,
          5633,
          6196,
          5026,
          6233,
          4220,
          6304,
          5572,
          5740,
          6169,
          6421,
          6296,
          6883,
          6359,
          6273,
          5728,
          4717,
          6572,
          7030,
          7429,
          6118,
          2843,
          5115,
          7424,
          7384,
          7639,
          8294,
          7129,
          4359,
          6073,
          5260,
          6770,
          6734,
          6536,
          6591,
          6043,
          5743,
          6855,
          7338,
          4127,
          8120,
          7641,
          6998,
          7001,
          7055,
          7494,
          7736,
          7498,
          6598,
          6664,
          4972,
          7421,
          7363,
          7665,
          7702,
          6978,
          5099,
          6825,
          6211,
          5905,
          5823,
          7458,
          6891,
          6779,
          7442,
          7335,
          6879,
          5463,
          5687,
          5531,
          6227,
          6660,
          7403,
          6241,
          6207,
          4840,
          4672,
          6569,
          6290,
          7264,
          7446,
          7499,
          6969,
          6031,
          6830,
          6786,
          5713,
          6591,
          5870,
          4459,
          7410,
          6966,
          7592,
          8173,
          6861,
          6904,
          6685,
          6597,
          7105,
          7216,
          7580,
          7261,
          7175,
          6824,
          5464,
          7013,
          7273,
          7534,
          7286,
          5786,
          6299,
          6544,
          6883,
          6784,
          7347,
          7605,
          7148,
          7865,
          4549,
          6530,
          7006,
          7375,
          7765,
          7582,
          6053,
          5255,
          6917,
          7040,
          7697,
          7713,
          7350,
          6140,
          5810,
          6034,
          6864,
          7112,
          6203,
          7504,
          5976,
          8227,
          7525,
          7767,
          7870,
          7804,
          8009,
          8714,
          7333,
          6869,
          4073,
          7591,
          7720,
          8167,
          8395,
          7907,
          7436,
          7538,
          7733,
          7393,
          7415,
          8555,
          6889,
          6778,
          4639,
          7572,
          7328,
          8156,
          7965,
          3510,
          5478,
          6392,
          7691,
          7570,
          7282,
          7109,
          6639,
          5875,
          7534,
          7461,
          7509,
          5424,
          8090,
          6824,
          7058,
          7466,
          7693,
          7359,
          7444,
          7852,
          4459,
          22,
          1096,
          5566,
          5986,
          5847,
          5138,
          5107,
          5259,
          5686,
          5035,
          5315,
          5992,
          6536,
          6852,
          6269,
          4094,
          5495,
          5445,
          5698,
          5629,
          4669,
          5499,
          5634,
          5146,
          2425,
          3910,
          2277,
          2424,
          5087,
          3959,
          5260,
          5323,
          5668,
          5191,
          4649,
          6234,
          6606,
          5729,
          5375,
          5008,
          5582,
          3228,
          5170,
          5501,
          5319,
          5532,
          5611,
          5047,
          3786,
          4585,
          5557,
          5267,
          4128,
          3623,
          1749,
          1787,
          920,
          1013,
          441,
          2114,
          3095,
          1341,
          1796,
          2729
         ],
         "yaxis": "y"
        }
       ],
       "layout": {
        "legend": {
         "tracegroupgap": 0
        },
        "margin": {
         "t": 60
        },
        "template": {
         "data": {
          "bar": [
           {
            "error_x": {
             "color": "#2a3f5f"
            },
            "error_y": {
             "color": "#2a3f5f"
            },
            "marker": {
             "line": {
              "color": "#E5ECF6",
              "width": 0.5
             },
             "pattern": {
              "fillmode": "overlay",
              "size": 10,
              "solidity": 0.2
             }
            },
            "type": "bar"
           }
          ],
          "barpolar": [
           {
            "marker": {
             "line": {
              "color": "#E5ECF6",
              "width": 0.5
             },
             "pattern": {
              "fillmode": "overlay",
              "size": 10,
              "solidity": 0.2
             }
            },
            "type": "barpolar"
           }
          ],
          "carpet": [
           {
            "aaxis": {
             "endlinecolor": "#2a3f5f",
             "gridcolor": "white",
             "linecolor": "white",
             "minorgridcolor": "white",
             "startlinecolor": "#2a3f5f"
            },
            "baxis": {
             "endlinecolor": "#2a3f5f",
             "gridcolor": "white",
             "linecolor": "white",
             "minorgridcolor": "white",
             "startlinecolor": "#2a3f5f"
            },
            "type": "carpet"
           }
          ],
          "choropleth": [
           {
            "colorbar": {
             "outlinewidth": 0,
             "ticks": ""
            },
            "type": "choropleth"
           }
          ],
          "contour": [
           {
            "colorbar": {
             "outlinewidth": 0,
             "ticks": ""
            },
            "colorscale": [
             [
              0,
              "#0d0887"
             ],
             [
              0.1111111111111111,
              "#46039f"
             ],
             [
              0.2222222222222222,
              "#7201a8"
             ],
             [
              0.3333333333333333,
              "#9c179e"
             ],
             [
              0.4444444444444444,
              "#bd3786"
             ],
             [
              0.5555555555555556,
              "#d8576b"
             ],
             [
              0.6666666666666666,
              "#ed7953"
             ],
             [
              0.7777777777777778,
              "#fb9f3a"
             ],
             [
              0.8888888888888888,
              "#fdca26"
             ],
             [
              1,
              "#f0f921"
             ]
            ],
            "type": "contour"
           }
          ],
          "contourcarpet": [
           {
            "colorbar": {
             "outlinewidth": 0,
             "ticks": ""
            },
            "type": "contourcarpet"
           }
          ],
          "heatmap": [
           {
            "colorbar": {
             "outlinewidth": 0,
             "ticks": ""
            },
            "colorscale": [
             [
              0,
              "#0d0887"
             ],
             [
              0.1111111111111111,
              "#46039f"
             ],
             [
              0.2222222222222222,
              "#7201a8"
             ],
             [
              0.3333333333333333,
              "#9c179e"
             ],
             [
              0.4444444444444444,
              "#bd3786"
             ],
             [
              0.5555555555555556,
              "#d8576b"
             ],
             [
              0.6666666666666666,
              "#ed7953"
             ],
             [
              0.7777777777777778,
              "#fb9f3a"
             ],
             [
              0.8888888888888888,
              "#fdca26"
             ],
             [
              1,
              "#f0f921"
             ]
            ],
            "type": "heatmap"
           }
          ],
          "heatmapgl": [
           {
            "colorbar": {
             "outlinewidth": 0,
             "ticks": ""
            },
            "colorscale": [
             [
              0,
              "#0d0887"
             ],
             [
              0.1111111111111111,
              "#46039f"
             ],
             [
              0.2222222222222222,
              "#7201a8"
             ],
             [
              0.3333333333333333,
              "#9c179e"
             ],
             [
              0.4444444444444444,
              "#bd3786"
             ],
             [
              0.5555555555555556,
              "#d8576b"
             ],
             [
              0.6666666666666666,
              "#ed7953"
             ],
             [
              0.7777777777777778,
              "#fb9f3a"
             ],
             [
              0.8888888888888888,
              "#fdca26"
             ],
             [
              1,
              "#f0f921"
             ]
            ],
            "type": "heatmapgl"
           }
          ],
          "histogram": [
           {
            "marker": {
             "pattern": {
              "fillmode": "overlay",
              "size": 10,
              "solidity": 0.2
             }
            },
            "type": "histogram"
           }
          ],
          "histogram2d": [
           {
            "colorbar": {
             "outlinewidth": 0,
             "ticks": ""
            },
            "colorscale": [
             [
              0,
              "#0d0887"
             ],
             [
              0.1111111111111111,
              "#46039f"
             ],
             [
              0.2222222222222222,
              "#7201a8"
             ],
             [
              0.3333333333333333,
              "#9c179e"
             ],
             [
              0.4444444444444444,
              "#bd3786"
             ],
             [
              0.5555555555555556,
              "#d8576b"
             ],
             [
              0.6666666666666666,
              "#ed7953"
             ],
             [
              0.7777777777777778,
              "#fb9f3a"
             ],
             [
              0.8888888888888888,
              "#fdca26"
             ],
             [
              1,
              "#f0f921"
             ]
            ],
            "type": "histogram2d"
           }
          ],
          "histogram2dcontour": [
           {
            "colorbar": {
             "outlinewidth": 0,
             "ticks": ""
            },
            "colorscale": [
             [
              0,
              "#0d0887"
             ],
             [
              0.1111111111111111,
              "#46039f"
             ],
             [
              0.2222222222222222,
              "#7201a8"
             ],
             [
              0.3333333333333333,
              "#9c179e"
             ],
             [
              0.4444444444444444,
              "#bd3786"
             ],
             [
              0.5555555555555556,
              "#d8576b"
             ],
             [
              0.6666666666666666,
              "#ed7953"
             ],
             [
              0.7777777777777778,
              "#fb9f3a"
             ],
             [
              0.8888888888888888,
              "#fdca26"
             ],
             [
              1,
              "#f0f921"
             ]
            ],
            "type": "histogram2dcontour"
           }
          ],
          "mesh3d": [
           {
            "colorbar": {
             "outlinewidth": 0,
             "ticks": ""
            },
            "type": "mesh3d"
           }
          ],
          "parcoords": [
           {
            "line": {
             "colorbar": {
              "outlinewidth": 0,
              "ticks": ""
             }
            },
            "type": "parcoords"
           }
          ],
          "pie": [
           {
            "automargin": true,
            "type": "pie"
           }
          ],
          "scatter": [
           {
            "fillpattern": {
             "fillmode": "overlay",
             "size": 10,
             "solidity": 0.2
            },
            "type": "scatter"
           }
          ],
          "scatter3d": [
           {
            "line": {
             "colorbar": {
              "outlinewidth": 0,
              "ticks": ""
             }
            },
            "marker": {
             "colorbar": {
              "outlinewidth": 0,
              "ticks": ""
             }
            },
            "type": "scatter3d"
           }
          ],
          "scattercarpet": [
           {
            "marker": {
             "colorbar": {
              "outlinewidth": 0,
              "ticks": ""
             }
            },
            "type": "scattercarpet"
           }
          ],
          "scattergeo": [
           {
            "marker": {
             "colorbar": {
              "outlinewidth": 0,
              "ticks": ""
             }
            },
            "type": "scattergeo"
           }
          ],
          "scattergl": [
           {
            "marker": {
             "colorbar": {
              "outlinewidth": 0,
              "ticks": ""
             }
            },
            "type": "scattergl"
           }
          ],
          "scattermapbox": [
           {
            "marker": {
             "colorbar": {
              "outlinewidth": 0,
              "ticks": ""
             }
            },
            "type": "scattermapbox"
           }
          ],
          "scatterpolar": [
           {
            "marker": {
             "colorbar": {
              "outlinewidth": 0,
              "ticks": ""
             }
            },
            "type": "scatterpolar"
           }
          ],
          "scatterpolargl": [
           {
            "marker": {
             "colorbar": {
              "outlinewidth": 0,
              "ticks": ""
             }
            },
            "type": "scatterpolargl"
           }
          ],
          "scatterternary": [
           {
            "marker": {
             "colorbar": {
              "outlinewidth": 0,
              "ticks": ""
             }
            },
            "type": "scatterternary"
           }
          ],
          "surface": [
           {
            "colorbar": {
             "outlinewidth": 0,
             "ticks": ""
            },
            "colorscale": [
             [
              0,
              "#0d0887"
             ],
             [
              0.1111111111111111,
              "#46039f"
             ],
             [
              0.2222222222222222,
              "#7201a8"
             ],
             [
              0.3333333333333333,
              "#9c179e"
             ],
             [
              0.4444444444444444,
              "#bd3786"
             ],
             [
              0.5555555555555556,
              "#d8576b"
             ],
             [
              0.6666666666666666,
              "#ed7953"
             ],
             [
              0.7777777777777778,
              "#fb9f3a"
             ],
             [
              0.8888888888888888,
              "#fdca26"
             ],
             [
              1,
              "#f0f921"
             ]
            ],
            "type": "surface"
           }
          ],
          "table": [
           {
            "cells": {
             "fill": {
              "color": "#EBF0F8"
             },
             "line": {
              "color": "white"
             }
            },
            "header": {
             "fill": {
              "color": "#C8D4E3"
             },
             "line": {
              "color": "white"
             }
            },
            "type": "table"
           }
          ]
         },
         "layout": {
          "annotationdefaults": {
           "arrowcolor": "#2a3f5f",
           "arrowhead": 0,
           "arrowwidth": 1
          },
          "autotypenumbers": "strict",
          "coloraxis": {
           "colorbar": {
            "outlinewidth": 0,
            "ticks": ""
           }
          },
          "colorscale": {
           "diverging": [
            [
             0,
             "#8e0152"
            ],
            [
             0.1,
             "#c51b7d"
            ],
            [
             0.2,
             "#de77ae"
            ],
            [
             0.3,
             "#f1b6da"
            ],
            [
             0.4,
             "#fde0ef"
            ],
            [
             0.5,
             "#f7f7f7"
            ],
            [
             0.6,
             "#e6f5d0"
            ],
            [
             0.7,
             "#b8e186"
            ],
            [
             0.8,
             "#7fbc41"
            ],
            [
             0.9,
             "#4d9221"
            ],
            [
             1,
             "#276419"
            ]
           ],
           "sequential": [
            [
             0,
             "#0d0887"
            ],
            [
             0.1111111111111111,
             "#46039f"
            ],
            [
             0.2222222222222222,
             "#7201a8"
            ],
            [
             0.3333333333333333,
             "#9c179e"
            ],
            [
             0.4444444444444444,
             "#bd3786"
            ],
            [
             0.5555555555555556,
             "#d8576b"
            ],
            [
             0.6666666666666666,
             "#ed7953"
            ],
            [
             0.7777777777777778,
             "#fb9f3a"
            ],
            [
             0.8888888888888888,
             "#fdca26"
            ],
            [
             1,
             "#f0f921"
            ]
           ],
           "sequentialminus": [
            [
             0,
             "#0d0887"
            ],
            [
             0.1111111111111111,
             "#46039f"
            ],
            [
             0.2222222222222222,
             "#7201a8"
            ],
            [
             0.3333333333333333,
             "#9c179e"
            ],
            [
             0.4444444444444444,
             "#bd3786"
            ],
            [
             0.5555555555555556,
             "#d8576b"
            ],
            [
             0.6666666666666666,
             "#ed7953"
            ],
            [
             0.7777777777777778,
             "#fb9f3a"
            ],
            [
             0.8888888888888888,
             "#fdca26"
            ],
            [
             1,
             "#f0f921"
            ]
           ]
          },
          "colorway": [
           "#636efa",
           "#EF553B",
           "#00cc96",
           "#ab63fa",
           "#FFA15A",
           "#19d3f3",
           "#FF6692",
           "#B6E880",
           "#FF97FF",
           "#FECB52"
          ],
          "font": {
           "color": "#2a3f5f"
          },
          "geo": {
           "bgcolor": "white",
           "lakecolor": "white",
           "landcolor": "#E5ECF6",
           "showlakes": true,
           "showland": true,
           "subunitcolor": "white"
          },
          "hoverlabel": {
           "align": "left"
          },
          "hovermode": "closest",
          "mapbox": {
           "style": "light"
          },
          "paper_bgcolor": "white",
          "plot_bgcolor": "#E5ECF6",
          "polar": {
           "angularaxis": {
            "gridcolor": "white",
            "linecolor": "white",
            "ticks": ""
           },
           "bgcolor": "#E5ECF6",
           "radialaxis": {
            "gridcolor": "white",
            "linecolor": "white",
            "ticks": ""
           }
          },
          "scene": {
           "xaxis": {
            "backgroundcolor": "#E5ECF6",
            "gridcolor": "white",
            "gridwidth": 2,
            "linecolor": "white",
            "showbackground": true,
            "ticks": "",
            "zerolinecolor": "white"
           },
           "yaxis": {
            "backgroundcolor": "#E5ECF6",
            "gridcolor": "white",
            "gridwidth": 2,
            "linecolor": "white",
            "showbackground": true,
            "ticks": "",
            "zerolinecolor": "white"
           },
           "zaxis": {
            "backgroundcolor": "#E5ECF6",
            "gridcolor": "white",
            "gridwidth": 2,
            "linecolor": "white",
            "showbackground": true,
            "ticks": "",
            "zerolinecolor": "white"
           }
          },
          "shapedefaults": {
           "line": {
            "color": "#2a3f5f"
           }
          },
          "ternary": {
           "aaxis": {
            "gridcolor": "white",
            "linecolor": "white",
            "ticks": ""
           },
           "baxis": {
            "gridcolor": "white",
            "linecolor": "white",
            "ticks": ""
           },
           "bgcolor": "#E5ECF6",
           "caxis": {
            "gridcolor": "white",
            "linecolor": "white",
            "ticks": ""
           }
          },
          "title": {
           "x": 0.05
          },
          "xaxis": {
           "automargin": true,
           "gridcolor": "white",
           "linecolor": "white",
           "ticks": "",
           "title": {
            "standoff": 15
           },
           "zerolinecolor": "white",
           "zerolinewidth": 2
          },
          "yaxis": {
           "automargin": true,
           "gridcolor": "white",
           "linecolor": "white",
           "ticks": "",
           "title": {
            "standoff": 15
           },
           "zerolinecolor": "white",
           "zerolinewidth": 2
          }
         }
        },
        "xaxis": {
         "anchor": "y",
         "domain": [
          0,
          1
         ],
         "title": {
          "text": "hum"
         }
        },
        "yaxis": {
         "anchor": "x",
         "domain": [
          0,
          1
         ],
         "title": {
          "text": "cnt"
         }
        }
       }
      }
     },
     "metadata": {},
     "output_type": "display_data"
    },
    {
     "data": {
      "application/vnd.plotly.v1+json": {
       "config": {
        "plotlyServerURL": "https://plot.ly"
       },
       "data": [
        {
         "hovertemplate": "windspeed=%{x}<br>cnt=%{y}<extra></extra>",
         "legendgroup": "",
         "marker": {
          "color": "#636efa",
          "symbol": "circle"
         },
         "mode": "markers",
         "name": "",
         "orientation": "v",
         "showlegend": false,
         "type": "scatter",
         "x": [
          10.749882,
          16.652113,
          16.636703,
          10.739832,
          12.5223,
          6.0008684,
          11.304642,
          17.875868,
          24.25065,
          14.958889,
          8.182844,
          20.410009,
          20.167,
          8.478716,
          10.583521,
          12.625011,
          12.999139,
          9.833925,
          13.957239,
          13.125568,
          23.667214,
          11.52199,
          16.5222,
          10.60811,
          8.696332,
          19.68795,
          7.627079,
          8.2611,
          9.739455,
          4.9568342,
          12.541864,
          3.565271,
          17.708636,
          18.609384,
          8.565213,
          10.792293,
          9.5006,
          3.0423561,
          24.25065,
          12.652213,
          14.869645,
          7.27285,
          13.625589,
          17.479161,
          27.999836,
          19.522058,
          16.869997,
          15.416968,
          17.749975,
          34.000021,
          14.956745,
          20.625682,
          13.110761,
          6.305571,
          16.783232,
          23.218113,
          12.500257,
          8.391616,
          19.408962,
          14.500475,
          20.624811,
          15.125518,
          13.624182,
          16.875357,
          23.000229,
          22.870584,
          8.08355,
          14.75005,
          17.545759,
          15.60899,
          14.791925,
          18.130468,
          9.174042,
          12.348703,
          13.608839,
          14.041793,
          15.478139,
          24.667189,
          13.917307,
          19.348461,
          15.12525,
          15.695487,
          16.333729,
          15.458575,
          14.041257,
          12.3481,
          14.217668,
          15.208732,
          11.583496,
          14.582282,
          17.333436,
          13.208782,
          12.208271,
          25.833257,
          26.000489,
          17.625221,
          10.874904,
          15.208464,
          8.916561,
          9.833389,
          21.739758,
          18.416893,
          16.791339,
          7.4169,
          15.167125,
          22.834136,
          20.334232,
          10.958989,
          10.584057,
          16.208975,
          21.792286,
          14.707907,
          15.458575,
          12.875725,
          12.417311,
          21.8755,
          20.9174,
          21.500836,
          16.084221,
          15.750025,
          7.125718,
          12.291418,
          22.958689,
          22.042732,
          19.791264,
          15.292482,
          10.75015,
          5.0007125,
          11.792,
          7.749957,
          8.083014,
          12.707689,
          12.041575,
          9.04165,
          10.249593,
          8.500357,
          18.582718,
          13.499964,
          7.250271,
          8.375871,
          8.08355,
          9.916536,
          15.667414,
          13.875164,
          10.333611,
          13.376014,
          16.125493,
          15.416164,
          14.333846,
          8.792075,
          7.459043,
          13.875164,
          19.583229,
          16.959107,
          8.250514,
          9.292364,
          8.167032,
          12.583136,
          9.166739,
          10.042161,
          9.417118,
          10.37495,
          10.958989,
          20.45845,
          18.041961,
          11.250104,
          13.833557,
          9.582943,
          8.000336,
          6.834,
          10.416825,
          11.458675,
          11.541554,
          15.999868,
          14.875675,
          14.041257,
          6.3337311,
          7.208396,
          9.666961,
          17.542007,
          12.415904,
          6.874736,
          7.709154,
          15.333486,
          5.4591064,
          8.459286,
          10.042161,
          10.6664,
          15.083643,
          11.250104,
          12.292557,
          18.916579,
          13.417018,
          9.790911,
          16.124689,
          12.249811,
          13.958914,
          16.417211,
          14.458868,
          8.7502,
          7.625739,
          14.875407,
          8.9177,
          8.791807,
          11.334457,
          6.0841561,
          13.417286,
          12.292021,
          11.958093,
          11.667246,
          11.291979,
          11.042471,
          10.500039,
          13.79195,
          9.084061,
          13.20905,
          12.374632,
          15.29275,
          13.499629,
          12.875725,
          10.125107,
          13.417286,
          11.041332,
          8.416607,
          14.167418,
          14.916411,
          13.999918,
          15.834043,
          9.625689,
          15.624936,
          9.333636,
          6.999289,
          16.666518,
          18.54225,
          9.833121,
          16.958236,
          14.125811,
          5.6254875,
          25.166339,
          20.412153,
          10.708275,
          8.375536,
          5.5833311,
          9.500332,
          9.375243,
          12.416775,
          13.833289,
          14.250632,
          23.044181,
          6.5003936,
          12.914116,
          8.333393,
          10.291736,
          7.708618,
          5.957171,
          9.500868,
          11.2091,
          18.166782,
          11.000261,
          12.708225,
          11.958361,
          10.166714,
          9.041918,
          6.4590814,
          8.584375,
          5.2505689,
          5.2516811,
          3.3754064,
          7.4169,
          7.917457,
          9.958143,
          11.583161,
          13.833825,
          19.583832,
          14.874871,
          5.5841686,
          13.792218,
          11.87575,
          9.041918,
          1.5002439,
          3.0420814,
          4.25115,
          2.8343814,
          9.583814,
          16.62605,
          9.499729,
          15.000161,
          17.291561,
          18.875039,
          11.750393,
          7.375829,
          16.303713,
          28.292425,
          14.833532,
          6.2086689,
          6.6673375,
          7.959064,
          11.166086,
          9.959014,
          13.250121,
          15.375093,
          23.541857,
          11.833339,
          7.12545,
          9.083257,
          5.5001439,
          9.166739,
          18.209193,
          12.667154,
          6.1676314,
          3.834075,
          4.6255125,
          4.1671186,
          12.667489,
          21.083225,
          14.208154,
          18.875307,
          20.541932,
          13.375411,
          9.167543,
          20.459254,
          11.291711,
          15.041232,
          12.45865,
          9.249618,
          7.959064,
          22.500275,
          11.209368,
          6.6260186,
          4.5841936,
          13.999918,
          9.522174,
          17.292164,
          18.167586,
          14.750586,
          6.750518,
          6.4174811,
          5.6252061,
          4.1679561,
          15.583061,
          17.833725,
          16.083886,
          5.5420189,
          15.625807,
          4.4582939,
          4.25115,
          9.41685,
          4.0842061,
          17.958814,
          17.458525,
          16.292189,
          11.375193,
          11.584032,
          4.1252436,
          14.8338,
          3.167425,
          18.374482,
          12.750368,
          10.391097,
          16.044155,
          12.62615,
          19.695387,
          8.000604,
          9.000579,
          14.750318,
          12.875189,
          22.087555,
          24.499957,
          12.3749,
          8.709129,
          11.249836,
          11.708786,
          12.833314,
          6.6263,
          12.565984,
          8.791807,
          12.124789,
          25.333236,
          12.541261,
          16.834286,
          15.500986,
          23.39171,
          27.833743,
          14.750586,
          13.58425,
          14.917014,
          13.375746,
          7.417436,
          8.292389,
          10.791757,
          4.9175186,
          22.958689,
          14.125543,
          16.08335,
          14.458064,
          17.541739,
          12.667489,
          12.541529,
          11.959232,
          8.167032,
          11.791732,
          10.3046,
          9.874393,
          8.959307,
          13.000479,
          7.834243,
          19.416332,
          27.417204,
          11.207961,
          9.458993,
          12.1672,
          6.125475,
          13.791682,
          12.792243,
          16.958504,
          15.348561,
          13.783039,
          15.709557,
          12.791171,
          15.916989,
          28.250014,
          13.750343,
          17.958211,
          12.958939,
          15.208129,
          9.708568,
          10.792293,
          22.416257,
          15.333486,
          13.458625,
          23.167193,
          29.584721,
          27.7916,
          15.12525,
          14.913329,
          13.916771,
          15.87565,
          7.709154,
          10.042161,
          7.583864,
          7.417168,
          8.501161,
          10.875239,
          8.125157,
          6.0004061,
          7.876654,
          7.7921,
          12.916461,
          14.791925,
          25.917007,
          12.541864,
          19.541957,
          21.41655,
          9.250489,
          16.791339,
          11.541889,
          20.913313,
          6.708911,
          12.125325,
          14.708443,
          20.125996,
          18.416357,
          15.583932,
          23.999132,
          16.708125,
          19.783358,
          19.458743,
          10.416557,
          12.791439,
          15.083643,
          19.083543,
          18.333143,
          11.250104,
          4.4172564,
          10.041357,
          19.000329,
          23.084582,
          20.334232,
          16.708661,
          7.959064,
          11.833875,
          23.291411,
          8.708325,
          7.832836,
          11.499746,
          10.458432,
          9.249886,
          8.957632,
          10.916846,
          10.250464,
          10.041893,
          15.458307,
          19.833943,
          14.499604,
          21.042221,
          15.874779,
          8.249911,
          15.082839,
          14.250364,
          9.875264,
          8.208304,
          15.374825,
          9.166739,
          5.626325,
          17.042589,
          15.624668,
          7.917189,
          6.834,
          11.584032,
          9.41685,
          13.332464,
          14.416457,
          13.166907,
          19.7918,
          9.000043,
          13.083693,
          15.916721,
          12.499654,
          12.333829,
          19.083811,
          14.041525,
          5.167375,
          10.54245,
          11.750661,
          9.667229,
          8.959307,
          13.916771,
          14.374582,
          22.999693,
          17.000111,
          11.833339,
          11.166689,
          9.708568,
          11.707982,
          9.917139,
          7.625404,
          7.958729,
          12.250414,
          12.041307,
          9.750175,
          20.125661,
          23.292014,
          18.208925,
          11.50055,
          11.082939,
          10.791757,
          11.291443,
          13.082889,
          8.457879,
          9.04165,
          12.999943,
          9.791514,
          10.958118,
          8.417143,
          12.125325,
          10.166379,
          10.166111,
          9.833925,
          5.41695,
          9.626493,
          11.166689,
          11.000529,
          7.666743,
          9.208614,
          11.083743,
          14.000789,
          14.2911,
          6.2926936,
          9.291761,
          14.167418,
          11.0416,
          19.082471,
          10.250464,
          10.54245,
          11.416532,
          10.292339,
          11.083475,
          9.458993,
          8.666718,
          14.458064,
          17.249686,
          19.458207,
          8.666718,
          7.832836,
          7.4169,
          10.4587,
          16.000471,
          13.834093,
          8.208304,
          9.126204,
          11.333586,
          11.374657,
          9.500332,
          15.500718,
          11.917089,
          5.79215,
          8.708593,
          4.8756436,
          4.7089811,
          5.6679186,
          4.8337686,
          16.375336,
          15.333486,
          8.625111,
          12.791975,
          7.541654,
          5.1668189,
          11.291711,
          7.583529,
          4.2927436,
          10.125107,
          15.833507,
          12.583136,
          9.542207,
          11.500282,
          18.833968,
          15.041232,
          17.333771,
          6.1676314,
          8.833682,
          5.5422936,
          6.958821,
          16.583907,
          6.0422811,
          10.166714,
          23.958329,
          14.416725,
          7.917189,
          10.333343,
          19.000061,
          14.958286,
          9.541068,
          15.833507,
          16.3748,
          9.000914,
          10.999993,
          15.249468,
          9.042186,
          6.0838814,
          6.999825,
          4.4585686,
          7.875582,
          7.12545,
          17.957675,
          9.457854,
          12.708493,
          12.7501,
          12.584007,
          12.166932,
          15.751164,
          9.791514,
          18.667004,
          19.834479,
          12.208807,
          6.791857,
          15.874779,
          9.041918,
          7.874979,
          11.125618,
          5.4593811,
          6.3345686,
          4.8762064,
          8.333125,
          8.875289,
          15.791364,
          26.666536,
          23.9994,
          14.271603,
          11.166689,
          10.542182,
          17.833725,
          18.125443,
          12.000236,
          15.833775,
          11.625371,
          20.375236,
          23.304945,
          14.375386,
          3.8756686,
          8.5425,
          11.625639,
          22.917082,
          13.374875,
          10.250129,
          11.458675,
          12.041843,
          15.250004,
          15.749489,
          5.542575,
          6.917482,
          3.5423436,
          9.917407,
          25.250357,
          10.0835,
          3.12555,
          15.916654,
          14.125007,
          7.739974,
          3.9175436,
          4.0001814,
          8.333393,
          5.5422936,
          11.666643,
          21.709407,
          11.708518,
          8.7502,
          6.792393,
          10.584325,
          12.750636,
          19.834479,
          10.916779,
          11.666643,
          8.792343,
          7.12545,
          6.749714,
          6.5833061,
          14.834068,
          12.334164,
          8.875021,
          25.083661,
          27.292182,
          8.916561,
          5.1744368,
          11.304642,
          21.208582,
          23.458911,
          10.416557,
          8.333661,
          23.500518,
          10.374682
         ],
         "xaxis": "x",
         "y": [
          985,
          801,
          1349,
          1562,
          1600,
          1606,
          1510,
          959,
          822,
          1321,
          1263,
          1162,
          1406,
          1421,
          1248,
          1204,
          1000,
          683,
          1650,
          1927,
          1543,
          981,
          986,
          1416,
          1985,
          506,
          431,
          1167,
          1098,
          1096,
          1501,
          1360,
          1526,
          1550,
          1708,
          1005,
          1623,
          1712,
          1530,
          1605,
          1538,
          1746,
          1472,
          1589,
          1913,
          1815,
          2115,
          2475,
          2927,
          1635,
          1812,
          1107,
          1450,
          1917,
          1807,
          1461,
          1969,
          2402,
          1446,
          1851,
          2134,
          1685,
          1944,
          2077,
          605,
          1872,
          2133,
          1891,
          623,
          1977,
          2132,
          2417,
          2046,
          2056,
          2192,
          2744,
          3239,
          3117,
          2471,
          2077,
          2703,
          2121,
          1865,
          2210,
          2496,
          1693,
          2028,
          2425,
          1536,
          1685,
          2227,
          2252,
          3249,
          3115,
          1795,
          2808,
          3141,
          1471,
          2455,
          2895,
          3348,
          2034,
          2162,
          3267,
          3126,
          795,
          3744,
          3429,
          3204,
          3944,
          4189,
          1683,
          4036,
          4191,
          4073,
          4400,
          3872,
          4058,
          4595,
          5312,
          3351,
          4401,
          4451,
          2633,
          4433,
          4608,
          4714,
          4333,
          4362,
          4803,
          4182,
          4864,
          4105,
          3409,
          4553,
          3958,
          4123,
          3855,
          4575,
          4917,
          5805,
          4660,
          4274,
          4492,
          4978,
          4677,
          4679,
          4758,
          4788,
          4098,
          3982,
          3974,
          4968,
          5312,
          5342,
          4906,
          4548,
          4833,
          4401,
          3915,
          4586,
          4966,
          4460,
          5020,
          4891,
          5180,
          3767,
          4844,
          5119,
          4744,
          4010,
          4835,
          4507,
          4790,
          4991,
          5202,
          5305,
          4708,
          4648,
          5225,
          5515,
          5362,
          5119,
          4649,
          6043,
          4665,
          4629,
          4592,
          4040,
          5336,
          4881,
          4086,
          4258,
          4342,
          5084,
          5538,
          5923,
          5302,
          4458,
          4541,
          4332,
          3784,
          3387,
          3285,
          3606,
          3840,
          4590,
          4656,
          4390,
          3846,
          4475,
          4302,
          4266,
          4845,
          3574,
          4576,
          4866,
          4294,
          3785,
          4326,
          4602,
          4780,
          4792,
          4905,
          4150,
          3820,
          4338,
          4725,
          4694,
          3805,
          4153,
          5191,
          3873,
          4758,
          5895,
          5130,
          3542,
          4661,
          1115,
          4334,
          4634,
          5204,
          5058,
          5115,
          4727,
          4484,
          4940,
          3351,
          2710,
          1996,
          1842,
          3544,
          5345,
          5046,
          4713,
          4763,
          4785,
          3659,
          4760,
          4511,
          4274,
          4539,
          3641,
          4352,
          4795,
          2395,
          5423,
          5010,
          4630,
          4120,
          3907,
          4839,
          5202,
          2429,
          2918,
          3570,
          4456,
          4826,
          4765,
          4985,
          5409,
          5511,
          5117,
          4563,
          2416,
          2913,
          3644,
          5217,
          5041,
          4570,
          4748,
          2424,
          4195,
          4304,
          4308,
          4381,
          4187,
          4687,
          3894,
          2659,
          3747,
          627,
          3331,
          3669,
          4068,
          4186,
          3974,
          4046,
          3926,
          3649,
          4035,
          4205,
          4109,
          2933,
          3368,
          4067,
          3717,
          4486,
          4195,
          1817,
          3053,
          3392,
          3663,
          3520,
          2765,
          1607,
          2566,
          1495,
          2792,
          3068,
          3071,
          3867,
          2914,
          3613,
          3727,
          3940,
          3614,
          3485,
          3811,
          2594,
          705,
          3322,
          3620,
          3190,
          2743,
          3310,
          3523,
          3740,
          3709,
          3577,
          2739,
          2431,
          3403,
          3750,
          2660,
          3068,
          2209,
          1011,
          754,
          1317,
          1162,
          2302,
          2423,
          2999,
          2485,
          2294,
          1951,
          2236,
          2368,
          3272,
          4098,
          4521,
          3425,
          2376,
          3598,
          2177,
          4097,
          3214,
          2493,
          2311,
          2298,
          2935,
          3376,
          3292,
          3163,
          1301,
          1977,
          2432,
          4339,
          4270,
          4075,
          3456,
          4023,
          3243,
          3624,
          4509,
          4579,
          3761,
          4151,
          2832,
          2947,
          3784,
          4375,
          2802,
          3830,
          3831,
          2169,
          1529,
          3422,
          3922,
          4169,
          3005,
          4154,
          4318,
          2689,
          3129,
          3777,
          4773,
          5062,
          3487,
          2732,
          3389,
          4322,
          4363,
          4990,
          3194,
          4066,
          3423,
          3333,
          3956,
          4916,
          5382,
          4569,
          4118,
          4911,
          5298,
          5847,
          6312,
          6192,
          4378,
          7836,
          5892,
          6153,
          6093,
          6230,
          6871,
          8362,
          3372,
          4996,
          5558,
          5102,
          5698,
          6133,
          5459,
          6235,
          6041,
          5936,
          6772,
          6436,
          6457,
          6460,
          6857,
          5169,
          5585,
          5918,
          4862,
          5409,
          6398,
          7460,
          7132,
          6370,
          6691,
          4367,
          6565,
          7290,
          6624,
          1027,
          3214,
          5633,
          6196,
          5026,
          6233,
          4220,
          6304,
          5572,
          5740,
          6169,
          6421,
          6296,
          6883,
          6359,
          6273,
          5728,
          4717,
          6572,
          7030,
          7429,
          6118,
          2843,
          5115,
          7424,
          7384,
          7639,
          8294,
          7129,
          4359,
          6073,
          5260,
          6770,
          6734,
          6536,
          6591,
          6043,
          5743,
          6855,
          7338,
          4127,
          8120,
          7641,
          6998,
          7001,
          7055,
          7494,
          7736,
          7498,
          6598,
          6664,
          4972,
          7421,
          7363,
          7665,
          7702,
          6978,
          5099,
          6825,
          6211,
          5905,
          5823,
          7458,
          6891,
          6779,
          7442,
          7335,
          6879,
          5463,
          5687,
          5531,
          6227,
          6660,
          7403,
          6241,
          6207,
          4840,
          4672,
          6569,
          6290,
          7264,
          7446,
          7499,
          6969,
          6031,
          6830,
          6786,
          5713,
          6591,
          5870,
          4459,
          7410,
          6966,
          7592,
          8173,
          6861,
          6904,
          6685,
          6597,
          7105,
          7216,
          7580,
          7261,
          7175,
          6824,
          5464,
          7013,
          7273,
          7534,
          7286,
          5786,
          6299,
          6544,
          6883,
          6784,
          7347,
          7605,
          7148,
          7865,
          4549,
          6530,
          7006,
          7375,
          7765,
          7582,
          6053,
          5255,
          6917,
          7040,
          7697,
          7713,
          7350,
          6140,
          5810,
          6034,
          6864,
          7112,
          6203,
          7504,
          5976,
          8227,
          7525,
          7767,
          7870,
          7804,
          8009,
          8714,
          7333,
          6869,
          4073,
          7591,
          7720,
          8167,
          8395,
          7907,
          7436,
          7538,
          7733,
          7393,
          7415,
          8555,
          6889,
          6778,
          4639,
          7572,
          7328,
          8156,
          7965,
          3510,
          5478,
          6392,
          7691,
          7570,
          7282,
          7109,
          6639,
          5875,
          7534,
          7461,
          7509,
          5424,
          8090,
          6824,
          7058,
          7466,
          7693,
          7359,
          7444,
          7852,
          4459,
          22,
          1096,
          5566,
          5986,
          5847,
          5138,
          5107,
          5259,
          5686,
          5035,
          5315,
          5992,
          6536,
          6852,
          6269,
          4094,
          5495,
          5445,
          5698,
          5629,
          4669,
          5499,
          5634,
          5146,
          2425,
          3910,
          2277,
          2424,
          5087,
          3959,
          5260,
          5323,
          5668,
          5191,
          4649,
          6234,
          6606,
          5729,
          5375,
          5008,
          5582,
          3228,
          5170,
          5501,
          5319,
          5532,
          5611,
          5047,
          3786,
          4585,
          5557,
          5267,
          4128,
          3623,
          1749,
          1787,
          920,
          1013,
          441,
          2114,
          3095,
          1341,
          1796,
          2729
         ],
         "yaxis": "y"
        }
       ],
       "layout": {
        "legend": {
         "tracegroupgap": 0
        },
        "margin": {
         "t": 60
        },
        "template": {
         "data": {
          "bar": [
           {
            "error_x": {
             "color": "#2a3f5f"
            },
            "error_y": {
             "color": "#2a3f5f"
            },
            "marker": {
             "line": {
              "color": "#E5ECF6",
              "width": 0.5
             },
             "pattern": {
              "fillmode": "overlay",
              "size": 10,
              "solidity": 0.2
             }
            },
            "type": "bar"
           }
          ],
          "barpolar": [
           {
            "marker": {
             "line": {
              "color": "#E5ECF6",
              "width": 0.5
             },
             "pattern": {
              "fillmode": "overlay",
              "size": 10,
              "solidity": 0.2
             }
            },
            "type": "barpolar"
           }
          ],
          "carpet": [
           {
            "aaxis": {
             "endlinecolor": "#2a3f5f",
             "gridcolor": "white",
             "linecolor": "white",
             "minorgridcolor": "white",
             "startlinecolor": "#2a3f5f"
            },
            "baxis": {
             "endlinecolor": "#2a3f5f",
             "gridcolor": "white",
             "linecolor": "white",
             "minorgridcolor": "white",
             "startlinecolor": "#2a3f5f"
            },
            "type": "carpet"
           }
          ],
          "choropleth": [
           {
            "colorbar": {
             "outlinewidth": 0,
             "ticks": ""
            },
            "type": "choropleth"
           }
          ],
          "contour": [
           {
            "colorbar": {
             "outlinewidth": 0,
             "ticks": ""
            },
            "colorscale": [
             [
              0,
              "#0d0887"
             ],
             [
              0.1111111111111111,
              "#46039f"
             ],
             [
              0.2222222222222222,
              "#7201a8"
             ],
             [
              0.3333333333333333,
              "#9c179e"
             ],
             [
              0.4444444444444444,
              "#bd3786"
             ],
             [
              0.5555555555555556,
              "#d8576b"
             ],
             [
              0.6666666666666666,
              "#ed7953"
             ],
             [
              0.7777777777777778,
              "#fb9f3a"
             ],
             [
              0.8888888888888888,
              "#fdca26"
             ],
             [
              1,
              "#f0f921"
             ]
            ],
            "type": "contour"
           }
          ],
          "contourcarpet": [
           {
            "colorbar": {
             "outlinewidth": 0,
             "ticks": ""
            },
            "type": "contourcarpet"
           }
          ],
          "heatmap": [
           {
            "colorbar": {
             "outlinewidth": 0,
             "ticks": ""
            },
            "colorscale": [
             [
              0,
              "#0d0887"
             ],
             [
              0.1111111111111111,
              "#46039f"
             ],
             [
              0.2222222222222222,
              "#7201a8"
             ],
             [
              0.3333333333333333,
              "#9c179e"
             ],
             [
              0.4444444444444444,
              "#bd3786"
             ],
             [
              0.5555555555555556,
              "#d8576b"
             ],
             [
              0.6666666666666666,
              "#ed7953"
             ],
             [
              0.7777777777777778,
              "#fb9f3a"
             ],
             [
              0.8888888888888888,
              "#fdca26"
             ],
             [
              1,
              "#f0f921"
             ]
            ],
            "type": "heatmap"
           }
          ],
          "heatmapgl": [
           {
            "colorbar": {
             "outlinewidth": 0,
             "ticks": ""
            },
            "colorscale": [
             [
              0,
              "#0d0887"
             ],
             [
              0.1111111111111111,
              "#46039f"
             ],
             [
              0.2222222222222222,
              "#7201a8"
             ],
             [
              0.3333333333333333,
              "#9c179e"
             ],
             [
              0.4444444444444444,
              "#bd3786"
             ],
             [
              0.5555555555555556,
              "#d8576b"
             ],
             [
              0.6666666666666666,
              "#ed7953"
             ],
             [
              0.7777777777777778,
              "#fb9f3a"
             ],
             [
              0.8888888888888888,
              "#fdca26"
             ],
             [
              1,
              "#f0f921"
             ]
            ],
            "type": "heatmapgl"
           }
          ],
          "histogram": [
           {
            "marker": {
             "pattern": {
              "fillmode": "overlay",
              "size": 10,
              "solidity": 0.2
             }
            },
            "type": "histogram"
           }
          ],
          "histogram2d": [
           {
            "colorbar": {
             "outlinewidth": 0,
             "ticks": ""
            },
            "colorscale": [
             [
              0,
              "#0d0887"
             ],
             [
              0.1111111111111111,
              "#46039f"
             ],
             [
              0.2222222222222222,
              "#7201a8"
             ],
             [
              0.3333333333333333,
              "#9c179e"
             ],
             [
              0.4444444444444444,
              "#bd3786"
             ],
             [
              0.5555555555555556,
              "#d8576b"
             ],
             [
              0.6666666666666666,
              "#ed7953"
             ],
             [
              0.7777777777777778,
              "#fb9f3a"
             ],
             [
              0.8888888888888888,
              "#fdca26"
             ],
             [
              1,
              "#f0f921"
             ]
            ],
            "type": "histogram2d"
           }
          ],
          "histogram2dcontour": [
           {
            "colorbar": {
             "outlinewidth": 0,
             "ticks": ""
            },
            "colorscale": [
             [
              0,
              "#0d0887"
             ],
             [
              0.1111111111111111,
              "#46039f"
             ],
             [
              0.2222222222222222,
              "#7201a8"
             ],
             [
              0.3333333333333333,
              "#9c179e"
             ],
             [
              0.4444444444444444,
              "#bd3786"
             ],
             [
              0.5555555555555556,
              "#d8576b"
             ],
             [
              0.6666666666666666,
              "#ed7953"
             ],
             [
              0.7777777777777778,
              "#fb9f3a"
             ],
             [
              0.8888888888888888,
              "#fdca26"
             ],
             [
              1,
              "#f0f921"
             ]
            ],
            "type": "histogram2dcontour"
           }
          ],
          "mesh3d": [
           {
            "colorbar": {
             "outlinewidth": 0,
             "ticks": ""
            },
            "type": "mesh3d"
           }
          ],
          "parcoords": [
           {
            "line": {
             "colorbar": {
              "outlinewidth": 0,
              "ticks": ""
             }
            },
            "type": "parcoords"
           }
          ],
          "pie": [
           {
            "automargin": true,
            "type": "pie"
           }
          ],
          "scatter": [
           {
            "fillpattern": {
             "fillmode": "overlay",
             "size": 10,
             "solidity": 0.2
            },
            "type": "scatter"
           }
          ],
          "scatter3d": [
           {
            "line": {
             "colorbar": {
              "outlinewidth": 0,
              "ticks": ""
             }
            },
            "marker": {
             "colorbar": {
              "outlinewidth": 0,
              "ticks": ""
             }
            },
            "type": "scatter3d"
           }
          ],
          "scattercarpet": [
           {
            "marker": {
             "colorbar": {
              "outlinewidth": 0,
              "ticks": ""
             }
            },
            "type": "scattercarpet"
           }
          ],
          "scattergeo": [
           {
            "marker": {
             "colorbar": {
              "outlinewidth": 0,
              "ticks": ""
             }
            },
            "type": "scattergeo"
           }
          ],
          "scattergl": [
           {
            "marker": {
             "colorbar": {
              "outlinewidth": 0,
              "ticks": ""
             }
            },
            "type": "scattergl"
           }
          ],
          "scattermapbox": [
           {
            "marker": {
             "colorbar": {
              "outlinewidth": 0,
              "ticks": ""
             }
            },
            "type": "scattermapbox"
           }
          ],
          "scatterpolar": [
           {
            "marker": {
             "colorbar": {
              "outlinewidth": 0,
              "ticks": ""
             }
            },
            "type": "scatterpolar"
           }
          ],
          "scatterpolargl": [
           {
            "marker": {
             "colorbar": {
              "outlinewidth": 0,
              "ticks": ""
             }
            },
            "type": "scatterpolargl"
           }
          ],
          "scatterternary": [
           {
            "marker": {
             "colorbar": {
              "outlinewidth": 0,
              "ticks": ""
             }
            },
            "type": "scatterternary"
           }
          ],
          "surface": [
           {
            "colorbar": {
             "outlinewidth": 0,
             "ticks": ""
            },
            "colorscale": [
             [
              0,
              "#0d0887"
             ],
             [
              0.1111111111111111,
              "#46039f"
             ],
             [
              0.2222222222222222,
              "#7201a8"
             ],
             [
              0.3333333333333333,
              "#9c179e"
             ],
             [
              0.4444444444444444,
              "#bd3786"
             ],
             [
              0.5555555555555556,
              "#d8576b"
             ],
             [
              0.6666666666666666,
              "#ed7953"
             ],
             [
              0.7777777777777778,
              "#fb9f3a"
             ],
             [
              0.8888888888888888,
              "#fdca26"
             ],
             [
              1,
              "#f0f921"
             ]
            ],
            "type": "surface"
           }
          ],
          "table": [
           {
            "cells": {
             "fill": {
              "color": "#EBF0F8"
             },
             "line": {
              "color": "white"
             }
            },
            "header": {
             "fill": {
              "color": "#C8D4E3"
             },
             "line": {
              "color": "white"
             }
            },
            "type": "table"
           }
          ]
         },
         "layout": {
          "annotationdefaults": {
           "arrowcolor": "#2a3f5f",
           "arrowhead": 0,
           "arrowwidth": 1
          },
          "autotypenumbers": "strict",
          "coloraxis": {
           "colorbar": {
            "outlinewidth": 0,
            "ticks": ""
           }
          },
          "colorscale": {
           "diverging": [
            [
             0,
             "#8e0152"
            ],
            [
             0.1,
             "#c51b7d"
            ],
            [
             0.2,
             "#de77ae"
            ],
            [
             0.3,
             "#f1b6da"
            ],
            [
             0.4,
             "#fde0ef"
            ],
            [
             0.5,
             "#f7f7f7"
            ],
            [
             0.6,
             "#e6f5d0"
            ],
            [
             0.7,
             "#b8e186"
            ],
            [
             0.8,
             "#7fbc41"
            ],
            [
             0.9,
             "#4d9221"
            ],
            [
             1,
             "#276419"
            ]
           ],
           "sequential": [
            [
             0,
             "#0d0887"
            ],
            [
             0.1111111111111111,
             "#46039f"
            ],
            [
             0.2222222222222222,
             "#7201a8"
            ],
            [
             0.3333333333333333,
             "#9c179e"
            ],
            [
             0.4444444444444444,
             "#bd3786"
            ],
            [
             0.5555555555555556,
             "#d8576b"
            ],
            [
             0.6666666666666666,
             "#ed7953"
            ],
            [
             0.7777777777777778,
             "#fb9f3a"
            ],
            [
             0.8888888888888888,
             "#fdca26"
            ],
            [
             1,
             "#f0f921"
            ]
           ],
           "sequentialminus": [
            [
             0,
             "#0d0887"
            ],
            [
             0.1111111111111111,
             "#46039f"
            ],
            [
             0.2222222222222222,
             "#7201a8"
            ],
            [
             0.3333333333333333,
             "#9c179e"
            ],
            [
             0.4444444444444444,
             "#bd3786"
            ],
            [
             0.5555555555555556,
             "#d8576b"
            ],
            [
             0.6666666666666666,
             "#ed7953"
            ],
            [
             0.7777777777777778,
             "#fb9f3a"
            ],
            [
             0.8888888888888888,
             "#fdca26"
            ],
            [
             1,
             "#f0f921"
            ]
           ]
          },
          "colorway": [
           "#636efa",
           "#EF553B",
           "#00cc96",
           "#ab63fa",
           "#FFA15A",
           "#19d3f3",
           "#FF6692",
           "#B6E880",
           "#FF97FF",
           "#FECB52"
          ],
          "font": {
           "color": "#2a3f5f"
          },
          "geo": {
           "bgcolor": "white",
           "lakecolor": "white",
           "landcolor": "#E5ECF6",
           "showlakes": true,
           "showland": true,
           "subunitcolor": "white"
          },
          "hoverlabel": {
           "align": "left"
          },
          "hovermode": "closest",
          "mapbox": {
           "style": "light"
          },
          "paper_bgcolor": "white",
          "plot_bgcolor": "#E5ECF6",
          "polar": {
           "angularaxis": {
            "gridcolor": "white",
            "linecolor": "white",
            "ticks": ""
           },
           "bgcolor": "#E5ECF6",
           "radialaxis": {
            "gridcolor": "white",
            "linecolor": "white",
            "ticks": ""
           }
          },
          "scene": {
           "xaxis": {
            "backgroundcolor": "#E5ECF6",
            "gridcolor": "white",
            "gridwidth": 2,
            "linecolor": "white",
            "showbackground": true,
            "ticks": "",
            "zerolinecolor": "white"
           },
           "yaxis": {
            "backgroundcolor": "#E5ECF6",
            "gridcolor": "white",
            "gridwidth": 2,
            "linecolor": "white",
            "showbackground": true,
            "ticks": "",
            "zerolinecolor": "white"
           },
           "zaxis": {
            "backgroundcolor": "#E5ECF6",
            "gridcolor": "white",
            "gridwidth": 2,
            "linecolor": "white",
            "showbackground": true,
            "ticks": "",
            "zerolinecolor": "white"
           }
          },
          "shapedefaults": {
           "line": {
            "color": "#2a3f5f"
           }
          },
          "ternary": {
           "aaxis": {
            "gridcolor": "white",
            "linecolor": "white",
            "ticks": ""
           },
           "baxis": {
            "gridcolor": "white",
            "linecolor": "white",
            "ticks": ""
           },
           "bgcolor": "#E5ECF6",
           "caxis": {
            "gridcolor": "white",
            "linecolor": "white",
            "ticks": ""
           }
          },
          "title": {
           "x": 0.05
          },
          "xaxis": {
           "automargin": true,
           "gridcolor": "white",
           "linecolor": "white",
           "ticks": "",
           "title": {
            "standoff": 15
           },
           "zerolinecolor": "white",
           "zerolinewidth": 2
          },
          "yaxis": {
           "automargin": true,
           "gridcolor": "white",
           "linecolor": "white",
           "ticks": "",
           "title": {
            "standoff": 15
           },
           "zerolinecolor": "white",
           "zerolinewidth": 2
          }
         }
        },
        "xaxis": {
         "anchor": "y",
         "domain": [
          0,
          1
         ],
         "title": {
          "text": "windspeed"
         }
        },
        "yaxis": {
         "anchor": "x",
         "domain": [
          0,
          1
         ],
         "title": {
          "text": "cnt"
         }
        }
       }
      }
     },
     "metadata": {},
     "output_type": "display_data"
    }
   ],
   "source": [
    "import plotly.express as px\n",
    "for feature in numeric_features:\n",
    "    if feature!=\"cnt\":\n",
    "        fig = px.scatter(data, x=feature, y=\"cnt\")\n",
    "        fig.show()\n"
   ]
  },
  {
   "cell_type": "markdown",
   "metadata": {},
   "source": [
    "Outlier Detection - From the scatter plots, some points were out of trend, for fitting Linear regression model, its important to clean the data and remove extreme points(outliers)"
   ]
  },
  {
   "cell_type": "code",
   "execution_count": 10,
   "metadata": {},
   "outputs": [],
   "source": [
    "#List of tuplies (feature value, target value)\n",
    "outlier_temp=[(25.99043,1842),(27.88,1115),(18.04,22),(35.328347,4840)]\n",
    "outlier_atemp=[(12.12,7148),(21.97,22),(31.7778,1115),(42.0448,3387),(41.31855,3784)]\n",
    "outlier_hum=[(0,623),(18.7917,1635)]\n",
    "outlier_windspeed=[(1.5002439,4985),(34.000021,1635),(29.584721,5382)]\n",
    "outlier_dict={\"temp\":outlier_temp,\"atemp\":outlier_atemp,\"hum\":outlier_hum,\"windspeed\":outlier_windspeed}"
   ]
  },
  {
   "cell_type": "code",
   "execution_count": 11,
   "metadata": {},
   "outputs": [
    {
     "data": {
      "image/png": "[encoded data removed]",
      "text/plain": [
       "<Figure size 432x288 with 1 Axes>"
      ]
     },
     "metadata": {
      "needs_background": "light"
     },
     "output_type": "display_data"
    },
    {
     "data": {
      "image/png": "[encoded data removed]",
      "text/plain": [
       "<Figure size 432x288 with 1 Axes>"
      ]
     },
     "metadata": {
      "needs_background": "light"
     },
     "output_type": "display_data"
    },
    {
     "data": {
      "image/png": "[encoded data removed]",
      "text/plain": [
       "<Figure size 432x288 with 1 Axes>"
      ]
     },
     "metadata": {
      "needs_background": "light"
     },
     "output_type": "display_data"
    },
    {
     "data": {
      "image/png": "[encoded data removed]",
      "text/plain": [
       "<Figure size 432x288 with 1 Axes>"
      ]
     },
     "metadata": {
      "needs_background": "light"
     },
     "output_type": "display_data"
    }
   ],
   "source": [
    "#Highlighting outliers\n",
    "for feature in numeric_features:\n",
    "    if feature!=\"cnt\":\n",
    "        plt.scatter(data[feature],data[\"cnt\"],alpha=0.5)\n",
    "        plt.xlabel(feature)\n",
    "        plt.ylabel(\"cnt\")\n",
    "        out_pnts=outlier_dict[feature]\n",
    "        for xy in out_pnts:\n",
    "            plt.scatter(xy[0],xy[1],color=\"red\")\n",
    "        plt.show()\n"
   ]
  },
  {
   "cell_type": "markdown",
   "metadata": {},
   "source": [
    "`All the numeric features show linearity with the target variable, it is good to use multi linear regression for this problem`"
   ]
  },
  {
   "cell_type": "markdown",
   "metadata": {},
   "source": [
    "### 3. Data Preparation"
   ]
  },
  {
   "cell_type": "code",
   "execution_count": 12,
   "metadata": {},
   "outputs": [
    {
     "name": "stdout",
     "output_type": "stream",
     "text": [
      "Outliers removed in temp\n",
      "Outliers removed in atemp\n",
      "Outliers removed in hum\n",
      "Outliers removed in windspeed\n",
      "Totally 10 outliers removed from data\n"
     ]
    }
   ],
   "source": [
    "#We can find some outliers in windspeed and humidity,capping those variables to maximum bounds\n",
    "def remove_outliers(df,feature,odict):\n",
    "    tup=odict[feature]\n",
    "    for t in tup:        \n",
    "        df=df[~((df[feature] == t[0]) & (df[\"cnt\"] == t[1]))]\n",
    "    print(f\"Outliers removed in {feature}\")\n",
    "    return df\n",
    "init_len=len(data)\n",
    "\n",
    "data=remove_outliers(data,\"temp\",outlier_dict)\n",
    "data=remove_outliers(data,\"atemp\",outlier_dict)\n",
    "data=remove_outliers(data,\"hum\",outlier_dict)\n",
    "data=remove_outliers(data,\"windspeed\",outlier_dict)\n",
    "#Total outliers removed\n",
    "fin_len=len(data)\n",
    "rem=init_len-fin_len\n",
    "print(f\"Totally {rem} outliers removed from data\")"
   ]
  },
  {
   "cell_type": "code",
   "execution_count": 13,
   "metadata": {},
   "outputs": [],
   "source": [
    "#Dummy encoding weathersit variable\n",
    "#Combinations : \n",
    "#10 - Mist + Cloudy, Mist + Broken clouds, Mist + Few clouds, Mist\n",
    "#01 - Light Snow, Light Rain + Thunderstorm + Scattered clouds, Light Rain + Scattered clouds\n",
    "#00 - Clear, Few clouds, Partly cloudy, Partly cloudy\n",
    "# Heavy Rain + Ice Pallets + Thunderstorm + Mist, Snow + Fog -- Absent in data\n",
    "weather_status=pd.get_dummies(data[\"weathersit\"],drop_first=True)\n",
    "weather_status.rename(columns={2:\"misty\",3:\"light rain/snow\"},inplace=True)\n",
    "data=pd.concat([data,weather_status],axis=1)\n",
    "data.drop(\"weathersit\",axis=1,inplace=True)"
   ]
  },
  {
   "cell_type": "code",
   "execution_count": 14,
   "metadata": {},
   "outputs": [],
   "source": [
    "#Dummy encoding seasons variable\n",
    "#000-spring\n",
    "#100-summer\n",
    "#010-fall\n",
    "#001-winter\n",
    "seasons=pd.get_dummies(data[\"season\"],drop_first=True)\n",
    "seasons.rename(columns={2:\"summer\",3:\"fall\",4:\"winter\"},inplace=True)\n",
    "data=pd.concat([data,seasons],axis=1)\n",
    "data.drop(\"season\",axis=1,inplace=True)"
   ]
  },
  {
   "cell_type": "code",
   "execution_count": 15,
   "metadata": {},
   "outputs": [
    {
     "data": {
      "text/html": [
       "<div>\n",
       "<style scoped>\n",
       "    .dataframe tbody tr th:only-of-type {\n",
       "        vertical-align: middle;\n",
       "    }\n",
       "\n",
       "    .dataframe tbody tr th {\n",
       "        vertical-align: top;\n",
       "    }\n",
       "\n",
       "    .dataframe thead th {\n",
       "        text-align: right;\n",
       "    }\n",
       "</style>\n",
       "<table border=\"1\" class=\"dataframe\">\n",
       "  <thead>\n",
       "    <tr style=\"text-align: right;\">\n",
       "      <th></th>\n",
       "      <th>yr</th>\n",
       "      <th>mnth</th>\n",
       "      <th>holiday</th>\n",
       "      <th>weekday</th>\n",
       "      <th>workingday</th>\n",
       "      <th>temp</th>\n",
       "      <th>atemp</th>\n",
       "      <th>hum</th>\n",
       "      <th>windspeed</th>\n",
       "      <th>cnt</th>\n",
       "      <th>misty</th>\n",
       "      <th>light rain/snow</th>\n",
       "      <th>summer</th>\n",
       "      <th>fall</th>\n",
       "      <th>winter</th>\n",
       "    </tr>\n",
       "  </thead>\n",
       "  <tbody>\n",
       "    <tr>\n",
       "      <th>0</th>\n",
       "      <td>0</td>\n",
       "      <td>1</td>\n",
       "      <td>0</td>\n",
       "      <td>6</td>\n",
       "      <td>0</td>\n",
       "      <td>14.110847</td>\n",
       "      <td>18.18125</td>\n",
       "      <td>80.5833</td>\n",
       "      <td>10.749882</td>\n",
       "      <td>985</td>\n",
       "      <td>1</td>\n",
       "      <td>0</td>\n",
       "      <td>0</td>\n",
       "      <td>0</td>\n",
       "      <td>0</td>\n",
       "    </tr>\n",
       "    <tr>\n",
       "      <th>1</th>\n",
       "      <td>0</td>\n",
       "      <td>1</td>\n",
       "      <td>0</td>\n",
       "      <td>0</td>\n",
       "      <td>0</td>\n",
       "      <td>14.902598</td>\n",
       "      <td>17.68695</td>\n",
       "      <td>69.6087</td>\n",
       "      <td>16.652113</td>\n",
       "      <td>801</td>\n",
       "      <td>1</td>\n",
       "      <td>0</td>\n",
       "      <td>0</td>\n",
       "      <td>0</td>\n",
       "      <td>0</td>\n",
       "    </tr>\n",
       "    <tr>\n",
       "      <th>2</th>\n",
       "      <td>0</td>\n",
       "      <td>1</td>\n",
       "      <td>0</td>\n",
       "      <td>1</td>\n",
       "      <td>1</td>\n",
       "      <td>8.050924</td>\n",
       "      <td>9.47025</td>\n",
       "      <td>43.7273</td>\n",
       "      <td>16.636703</td>\n",
       "      <td>1349</td>\n",
       "      <td>0</td>\n",
       "      <td>0</td>\n",
       "      <td>0</td>\n",
       "      <td>0</td>\n",
       "      <td>0</td>\n",
       "    </tr>\n",
       "    <tr>\n",
       "      <th>3</th>\n",
       "      <td>0</td>\n",
       "      <td>1</td>\n",
       "      <td>0</td>\n",
       "      <td>2</td>\n",
       "      <td>1</td>\n",
       "      <td>8.200000</td>\n",
       "      <td>10.60610</td>\n",
       "      <td>59.0435</td>\n",
       "      <td>10.739832</td>\n",
       "      <td>1562</td>\n",
       "      <td>0</td>\n",
       "      <td>0</td>\n",
       "      <td>0</td>\n",
       "      <td>0</td>\n",
       "      <td>0</td>\n",
       "    </tr>\n",
       "    <tr>\n",
       "      <th>4</th>\n",
       "      <td>0</td>\n",
       "      <td>1</td>\n",
       "      <td>0</td>\n",
       "      <td>3</td>\n",
       "      <td>1</td>\n",
       "      <td>9.305237</td>\n",
       "      <td>11.46350</td>\n",
       "      <td>43.6957</td>\n",
       "      <td>12.522300</td>\n",
       "      <td>1600</td>\n",
       "      <td>0</td>\n",
       "      <td>0</td>\n",
       "      <td>0</td>\n",
       "      <td>0</td>\n",
       "      <td>0</td>\n",
       "    </tr>\n",
       "  </tbody>\n",
       "</table>\n",
       "</div>"
      ],
      "text/plain": [
       "   yr  mnth  holiday  weekday  workingday       temp     atemp      hum  \\\n",
       "0   0     1        0        6           0  14.110847  18.18125  80.5833   \n",
       "1   0     1        0        0           0  14.902598  17.68695  69.6087   \n",
       "2   0     1        0        1           1   8.050924   9.47025  43.7273   \n",
       "3   0     1        0        2           1   8.200000  10.60610  59.0435   \n",
       "4   0     1        0        3           1   9.305237  11.46350  43.6957   \n",
       "\n",
       "   windspeed   cnt  misty  light rain/snow  summer  fall  winter  \n",
       "0  10.749882   985      1                0       0     0       0  \n",
       "1  16.652113   801      1                0       0     0       0  \n",
       "2  16.636703  1349      0                0       0     0       0  \n",
       "3  10.739832  1562      0                0       0     0       0  \n",
       "4  12.522300  1600      0                0       0     0       0  "
      ]
     },
     "execution_count": 15,
     "metadata": {},
     "output_type": "execute_result"
    }
   ],
   "source": [
    "#Dataframe after encoding\n",
    "data.head()"
   ]
  },
  {
   "cell_type": "code",
   "execution_count": 16,
   "metadata": {},
   "outputs": [],
   "source": [
    "from sklearn.model_selection import train_test_split\n",
    "\n",
    "# Splitting into train and test dataframes\n",
    "df_train, df_test = train_test_split(data, train_size = 0.7, test_size = 0.3, random_state = 0)"
   ]
  },
  {
   "cell_type": "code",
   "execution_count": 17,
   "metadata": {},
   "outputs": [
    {
     "data": {
      "text/html": [
       "<div>\n",
       "<style scoped>\n",
       "    .dataframe tbody tr th:only-of-type {\n",
       "        vertical-align: middle;\n",
       "    }\n",
       "\n",
       "    .dataframe tbody tr th {\n",
       "        vertical-align: top;\n",
       "    }\n",
       "\n",
       "    .dataframe thead th {\n",
       "        text-align: right;\n",
       "    }\n",
       "</style>\n",
       "<table border=\"1\" class=\"dataframe\">\n",
       "  <thead>\n",
       "    <tr style=\"text-align: right;\">\n",
       "      <th></th>\n",
       "      <th>temp</th>\n",
       "      <th>atemp</th>\n",
       "      <th>hum</th>\n",
       "      <th>windspeed</th>\n",
       "      <th>cnt</th>\n",
       "    </tr>\n",
       "  </thead>\n",
       "  <tbody>\n",
       "    <tr>\n",
       "      <th>count</th>\n",
       "      <td>503.000000</td>\n",
       "      <td>503.000000</td>\n",
       "      <td>503.000000</td>\n",
       "      <td>503.000000</td>\n",
       "      <td>503.000000</td>\n",
       "    </tr>\n",
       "    <tr>\n",
       "      <th>mean</th>\n",
       "      <td>20.229678</td>\n",
       "      <td>23.643633</td>\n",
       "      <td>62.527768</td>\n",
       "      <td>12.714344</td>\n",
       "      <td>4526.880716</td>\n",
       "    </tr>\n",
       "    <tr>\n",
       "      <th>std</th>\n",
       "      <td>7.544800</td>\n",
       "      <td>8.183477</td>\n",
       "      <td>14.181348</td>\n",
       "      <td>5.166420</td>\n",
       "      <td>1879.797920</td>\n",
       "    </tr>\n",
       "    <tr>\n",
       "      <th>min</th>\n",
       "      <td>3.957390</td>\n",
       "      <td>4.941955</td>\n",
       "      <td>25.416700</td>\n",
       "      <td>2.834381</td>\n",
       "      <td>431.000000</td>\n",
       "    </tr>\n",
       "    <tr>\n",
       "      <th>25%</th>\n",
       "      <td>13.940000</td>\n",
       "      <td>16.918125</td>\n",
       "      <td>50.833350</td>\n",
       "      <td>8.895791</td>\n",
       "      <td>3241.000000</td>\n",
       "    </tr>\n",
       "    <tr>\n",
       "      <th>50%</th>\n",
       "      <td>20.055847</td>\n",
       "      <td>23.925600</td>\n",
       "      <td>62.916700</td>\n",
       "      <td>12.291418</td>\n",
       "      <td>4548.000000</td>\n",
       "    </tr>\n",
       "    <tr>\n",
       "      <th>75%</th>\n",
       "      <td>26.957500</td>\n",
       "      <td>30.587700</td>\n",
       "      <td>72.895800</td>\n",
       "      <td>15.616829</td>\n",
       "      <td>5893.500000</td>\n",
       "    </tr>\n",
       "    <tr>\n",
       "      <th>max</th>\n",
       "      <td>34.815847</td>\n",
       "      <td>40.214350</td>\n",
       "      <td>97.250000</td>\n",
       "      <td>28.292425</td>\n",
       "      <td>8555.000000</td>\n",
       "    </tr>\n",
       "  </tbody>\n",
       "</table>\n",
       "</div>"
      ],
      "text/plain": [
       "             temp       atemp         hum   windspeed          cnt\n",
       "count  503.000000  503.000000  503.000000  503.000000   503.000000\n",
       "mean    20.229678   23.643633   62.527768   12.714344  4526.880716\n",
       "std      7.544800    8.183477   14.181348    5.166420  1879.797920\n",
       "min      3.957390    4.941955   25.416700    2.834381   431.000000\n",
       "25%     13.940000   16.918125   50.833350    8.895791  3241.000000\n",
       "50%     20.055847   23.925600   62.916700   12.291418  4548.000000\n",
       "75%     26.957500   30.587700   72.895800   15.616829  5893.500000\n",
       "max     34.815847   40.214350   97.250000   28.292425  8555.000000"
      ]
     },
     "execution_count": 17,
     "metadata": {},
     "output_type": "execute_result"
    }
   ],
   "source": [
    "df_train[numeric_features].describe()"
   ]
  },
  {
   "cell_type": "code",
   "execution_count": 18,
   "metadata": {},
   "outputs": [
    {
     "data": {
      "text/html": [
       "<div>\n",
       "<style scoped>\n",
       "    .dataframe tbody tr th:only-of-type {\n",
       "        vertical-align: middle;\n",
       "    }\n",
       "\n",
       "    .dataframe tbody tr th {\n",
       "        vertical-align: top;\n",
       "    }\n",
       "\n",
       "    .dataframe thead th {\n",
       "        text-align: right;\n",
       "    }\n",
       "</style>\n",
       "<table border=\"1\" class=\"dataframe\">\n",
       "  <thead>\n",
       "    <tr style=\"text-align: right;\">\n",
       "      <th></th>\n",
       "      <th>temp</th>\n",
       "      <th>atemp</th>\n",
       "      <th>hum</th>\n",
       "      <th>windspeed</th>\n",
       "      <th>cnt</th>\n",
       "    </tr>\n",
       "  </thead>\n",
       "  <tbody>\n",
       "    <tr>\n",
       "      <th>count</th>\n",
       "      <td>216.000000</td>\n",
       "      <td>216.000000</td>\n",
       "      <td>216.000000</td>\n",
       "      <td>216.000000</td>\n",
       "      <td>216.000000</td>\n",
       "    </tr>\n",
       "    <tr>\n",
       "      <th>mean</th>\n",
       "      <td>20.327282</td>\n",
       "      <td>23.753409</td>\n",
       "      <td>63.718296</td>\n",
       "      <td>12.671080</td>\n",
       "      <td>4517.666667</td>\n",
       "    </tr>\n",
       "    <tr>\n",
       "      <th>std</th>\n",
       "      <td>7.361700</td>\n",
       "      <td>7.950863</td>\n",
       "      <td>13.495282</td>\n",
       "      <td>4.818376</td>\n",
       "      <td>2038.166858</td>\n",
       "    </tr>\n",
       "    <tr>\n",
       "      <th>min</th>\n",
       "      <td>2.424346</td>\n",
       "      <td>3.953480</td>\n",
       "      <td>31.416700</td>\n",
       "      <td>3.042356</td>\n",
       "      <td>683.000000</td>\n",
       "    </tr>\n",
       "    <tr>\n",
       "      <th>25%</th>\n",
       "      <td>13.615413</td>\n",
       "      <td>16.287500</td>\n",
       "      <td>53.708350</td>\n",
       "      <td>9.343904</td>\n",
       "      <td>2882.000000</td>\n",
       "    </tr>\n",
       "    <tr>\n",
       "      <th>50%</th>\n",
       "      <td>20.944173</td>\n",
       "      <td>24.888975</td>\n",
       "      <td>62.233700</td>\n",
       "      <td>11.792000</td>\n",
       "      <td>4562.500000</td>\n",
       "    </tr>\n",
       "    <tr>\n",
       "      <th>75%</th>\n",
       "      <td>26.615847</td>\n",
       "      <td>30.193375</td>\n",
       "      <td>73.395825</td>\n",
       "      <td>15.437772</td>\n",
       "      <td>6185.250000</td>\n",
       "    </tr>\n",
       "    <tr>\n",
       "      <th>max</th>\n",
       "      <td>34.030000</td>\n",
       "      <td>39.741450</td>\n",
       "      <td>96.250000</td>\n",
       "      <td>27.292182</td>\n",
       "      <td>8714.000000</td>\n",
       "    </tr>\n",
       "  </tbody>\n",
       "</table>\n",
       "</div>"
      ],
      "text/plain": [
       "             temp       atemp         hum   windspeed          cnt\n",
       "count  216.000000  216.000000  216.000000  216.000000   216.000000\n",
       "mean    20.327282   23.753409   63.718296   12.671080  4517.666667\n",
       "std      7.361700    7.950863   13.495282    4.818376  2038.166858\n",
       "min      2.424346    3.953480   31.416700    3.042356   683.000000\n",
       "25%     13.615413   16.287500   53.708350    9.343904  2882.000000\n",
       "50%     20.944173   24.888975   62.233700   11.792000  4562.500000\n",
       "75%     26.615847   30.193375   73.395825   15.437772  6185.250000\n",
       "max     34.030000   39.741450   96.250000   27.292182  8714.000000"
      ]
     },
     "execution_count": 18,
     "metadata": {},
     "output_type": "execute_result"
    }
   ],
   "source": [
    "df_test[numeric_features].describe()"
   ]
  },
  {
   "cell_type": "markdown",
   "metadata": {},
   "source": [
    "#### Insights : It can be seen that df_train and df_test don't have significant differences in the mean and median values of features and predictors, hence its `randomly split` and `not biased`"
   ]
  },
  {
   "cell_type": "code",
   "execution_count": 19,
   "metadata": {},
   "outputs": [
    {
     "data": {
      "text/plain": [
       "<seaborn.matrix.ClusterGrid at 0x1a84a73e250>"
      ]
     },
     "execution_count": 19,
     "metadata": {},
     "output_type": "execute_result"
    },
    {
     "data": {
      "text/plain": [
       "<Figure size 1080x720 with 0 Axes>"
      ]
     },
     "metadata": {},
     "output_type": "display_data"
    },
    {
     "data": {
      "image/png": "[encoded data removed]",
      "text/plain": [
       "<Figure size 1080x720 with 4 Axes>"
      ]
     },
     "metadata": {
      "needs_background": "light"
     },
     "output_type": "display_data"
    }
   ],
   "source": [
    "#Correlation Map\n",
    "plt.figure(figsize=(15,10))\n",
    "# sns.heatmap(df_train.corr(),annot=True,cmap=\"YlGnBu\",fmt=\".2f\")\n",
    "sns.clustermap(df_train.corr(), figsize=(15, 10),annot=True,cmap=\"YlGnBu\",fmt=\".2f\")"
   ]
  },
  {
   "cell_type": "markdown",
   "metadata": {},
   "source": [
    "### Insights\n",
    "-Target variable cnt is highly correlated with atemp,yr,fall season, its also correlating with mnth,windspeed & weather(light rain/snow,misty)<br><br> - These can be starting features for linear regression model<br>\n",
    "- atemp and temp are fully correlated, dropping temp since atemp has higher correlation with target variable<br>\n",
    "- mnth and winter, hum and misty, are highly correlated"
   ]
  },
  {
   "cell_type": "code",
   "execution_count": 20,
   "metadata": {},
   "outputs": [],
   "source": [
    "#Dropping temp feature since its correlated with atemp very highly and follows a linear relation\n",
    "#It will lead to multicolinearity in the model hence dropping it from data\n",
    "#Actual temperature would be more relevant and has more correlation to target variable\n",
    "df_train.drop(\"temp\",axis=1,inplace=True)\n",
    "df_test.drop(\"temp\",axis=1,inplace=True)\n",
    "data.drop(\"temp\",axis=1,inplace=True)\n",
    "numeric_features.remove(\"temp\")"
   ]
  },
  {
   "cell_type": "code",
   "execution_count": 21,
   "metadata": {},
   "outputs": [],
   "source": [
    "#Scaling Numeric features\n",
    "from sklearn.preprocessing import MinMaxScaler\n",
    "\n",
    "scaler = MinMaxScaler()\n",
    "#Training Set\n",
    "df_train[numeric_features] = scaler.fit_transform(df_train[numeric_features])\n",
    "# #Test Set\n",
    "df_test[numeric_features] = scaler.transform(df_test[numeric_features])"
   ]
  },
  {
   "cell_type": "code",
   "execution_count": 22,
   "metadata": {},
   "outputs": [],
   "source": [
    "#Dividing into X & y sets for test and train\n",
    "#Train\n",
    "y_train = df_train.pop('cnt')\n",
    "X_train = df_train\n",
    "#Test\n",
    "y_test = df_test.pop('cnt')\n",
    "X_test = df_test"
   ]
  },
  {
   "cell_type": "markdown",
   "metadata": {},
   "source": [
    "### 4. Building Linear Regression Model\n",
    "Following a bottoms up approach to keep adding on predictors, starting with atemp which is the most correlated variable with target variable"
   ]
  },
  {
   "cell_type": "code",
   "execution_count": 23,
   "metadata": {},
   "outputs": [],
   "source": [
    "import statsmodels.api as sm\n",
    "from statsmodels.stats.outliers_influence import variance_inflation_factor\n",
    "\n",
    "#Function for linear regression for each set of features\n",
    "def linear_regression_feature(X_tr,y_tr,features,vif_flag=1):\n",
    "    #1. Train the model\n",
    "    X_train_sm = sm.add_constant(X_tr[features])\n",
    "    lr = sm.OLS(y_tr, X_train_sm).fit()\n",
    "    print(lr.summary())\n",
    "\n",
    "    #2. Checking multi-collinearity : VIF\n",
    "    #If VIF flag is not zero, then only calculate VIF, by default it vif_flag=1\n",
    "    if vif_flag!=0:\n",
    "        # VIF\n",
    "        vif = pd.DataFrame()\n",
    "        features=X_tr[features]\n",
    "        vif['Features'] = features.columns\n",
    "        vif['VIF'] = [variance_inflation_factor(features.values, i) for i in range(features.shape[1])]\n",
    "        vif['VIF'] = round(vif['VIF'], 2)\n",
    "        vif = vif.sort_values(by = \"VIF\", ascending = False)\n",
    "        print(vif)\n",
    "    \n",
    "    # #3. Visualizing the spread of model prediction vs actual data\n",
    "    # y_pred_train=lr.predict(X_train_sm)\n",
    "    # plt.scatter(y_pred_train, y_tr)\n",
    "    # plt.xlabel(\"Predicted\")\n",
    "    # plt.ylabel(\"Actual\")\n",
    "    # plt.show()\n",
    "    return lr"
   ]
  },
  {
   "cell_type": "markdown",
   "metadata": {},
   "source": [
    "#### **Feature 1** : `atemp`"
   ]
  },
  {
   "cell_type": "code",
   "execution_count": 24,
   "metadata": {},
   "outputs": [
    {
     "name": "stdout",
     "output_type": "stream",
     "text": [
      "                            OLS Regression Results                            \n",
      "==============================================================================\n",
      "Dep. Variable:                    cnt   R-squared:                       0.420\n",
      "Model:                            OLS   Adj. R-squared:                  0.419\n",
      "Method:                 Least Squares   F-statistic:                     362.5\n",
      "Date:                Tue, 03 May 2022   Prob (F-statistic):           3.30e-61\n",
      "Time:                        14:34:28   Log-Likelihood:                 159.90\n",
      "No. Observations:                 503   AIC:                            -315.8\n",
      "Df Residuals:                     501   BIC:                            -307.4\n",
      "Df Model:                           1                                         \n",
      "Covariance Type:            nonrobust                                         \n",
      "==============================================================================\n",
      "                 coef    std err          t      P>|t|      [0.025      0.975]\n",
      "------------------------------------------------------------------------------\n",
      "const          0.1616      0.020      8.226      0.000       0.123       0.200\n",
      "atemp          0.6462      0.034     19.039      0.000       0.579       0.713\n",
      "==============================================================================\n",
      "Omnibus:                       18.609   Durbin-Watson:                   1.999\n",
      "Prob(Omnibus):                  0.000   Jarque-Bera (JB):               12.695\n",
      "Skew:                           0.266   Prob(JB):                      0.00175\n",
      "Kurtosis:                       2.431   Cond. No.                         5.58\n",
      "==============================================================================\n",
      "\n",
      "Notes:\n",
      "[1] Standard Errors assume that the covariance matrix of the errors is correctly specified.\n"
     ]
    }
   ],
   "source": [
    "#Keep adding required features in bottoms-up approach\n",
    "feature_req=['atemp']\n",
    "lr=linear_regression_feature(X_train,y_train,feature_req,vif_flag=0)"
   ]
  },
  {
   "cell_type": "markdown",
   "metadata": {},
   "source": [
    "## Rsquared_1= `0.420`"
   ]
  },
  {
   "cell_type": "markdown",
   "metadata": {},
   "source": [
    "#### **Feature 2** : `yr`\n",
    "Since we can see the demand of bikes going up in 2019 as compared to 2018"
   ]
  },
  {
   "cell_type": "code",
   "execution_count": 25,
   "metadata": {},
   "outputs": [
    {
     "name": "stdout",
     "output_type": "stream",
     "text": [
      "                            OLS Regression Results                            \n",
      "==============================================================================\n",
      "Dep. Variable:                    cnt   R-squared:                       0.707\n",
      "Model:                            OLS   Adj. R-squared:                  0.705\n",
      "Method:                 Least Squares   F-statistic:                     601.9\n",
      "Date:                Tue, 03 May 2022   Prob (F-statistic):          7.71e-134\n",
      "Time:                        14:34:28   Log-Likelihood:                 331.34\n",
      "No. Observations:                 503   AIC:                            -656.7\n",
      "Df Residuals:                     500   BIC:                            -644.0\n",
      "Df Model:                           2                                         \n",
      "Covariance Type:            nonrobust                                         \n",
      "==============================================================================\n",
      "                 coef    std err          t      P>|t|      [0.025      0.975]\n",
      "------------------------------------------------------------------------------\n",
      "const          0.0474      0.015      3.180      0.002       0.018       0.077\n",
      "atemp          0.6274      0.024     25.952      0.000       0.580       0.675\n",
      "yr             0.2477      0.011     22.104      0.000       0.226       0.270\n",
      "==============================================================================\n",
      "Omnibus:                        9.542   Durbin-Watson:                   1.898\n",
      "Prob(Omnibus):                  0.008   Jarque-Bera (JB):                9.710\n",
      "Skew:                          -0.295   Prob(JB):                      0.00779\n",
      "Kurtosis:                       3.340   Cond. No.                         6.20\n",
      "==============================================================================\n",
      "\n",
      "Notes:\n",
      "[1] Standard Errors assume that the covariance matrix of the errors is correctly specified.\n",
      "  Features   VIF\n",
      "0    atemp  1.77\n",
      "1       yr  1.77\n"
     ]
    }
   ],
   "source": [
    "feature_req=['atemp','yr']\n",
    "lr=linear_regression_feature(X_train,y_train,feature_req,vif_flag=1)"
   ]
  },
  {
   "cell_type": "markdown",
   "metadata": {},
   "source": [
    "## Rsquared_2 = `0.707`"
   ]
  },
  {
   "cell_type": "markdown",
   "metadata": {},
   "source": [
    "#### **Feature 3** : `misty`,`light rain/snow`\n",
    "Its logical that the weather can affect the demand of bike sharing\n"
   ]
  },
  {
   "cell_type": "code",
   "execution_count": 38,
   "metadata": {},
   "outputs": [
    {
     "name": "stdout",
     "output_type": "stream",
     "text": [
      "yr\n",
      "mnth\n",
      "holiday\n",
      "weekday\n",
      "workingday\n",
      "atemp\n",
      "hum\n",
      "windspeed\n",
      "misty\n",
      "light rain/snow\n",
      "summer\n",
      "fall\n",
      "winter\n"
     ]
    }
   ],
   "source": [
    "X_train.columns"
   ]
  },
  {
   "cell_type": "code",
   "execution_count": 27,
   "metadata": {},
   "outputs": [
    {
     "name": "stdout",
     "output_type": "stream",
     "text": [
      "                            OLS Regression Results                            \n",
      "==============================================================================\n",
      "Dep. Variable:                    cnt   R-squared:                       0.741\n",
      "Model:                            OLS   Adj. R-squared:                  0.739\n",
      "Method:                 Least Squares   F-statistic:                     357.1\n",
      "Date:                Tue, 03 May 2022   Prob (F-statistic):          9.72e-145\n",
      "Time:                        14:34:28   Log-Likelihood:                 363.20\n",
      "No. Observations:                 503   AIC:                            -716.4\n",
      "Df Residuals:                     498   BIC:                            -695.3\n",
      "Df Model:                           4                                         \n",
      "Covariance Type:            nonrobust                                         \n",
      "===================================================================================\n",
      "                      coef    std err          t      P>|t|      [0.025      0.975]\n",
      "-----------------------------------------------------------------------------------\n",
      "const               0.0869      0.015      5.790      0.000       0.057       0.116\n",
      "atemp               0.6047      0.023     26.399      0.000       0.560       0.650\n",
      "yr                  0.2460      0.011     23.332      0.000       0.225       0.267\n",
      "misty              -0.0634      0.011     -5.652      0.000      -0.085      -0.041\n",
      "light rain/snow    -0.2488      0.038     -6.529      0.000      -0.324      -0.174\n",
      "==============================================================================\n",
      "Omnibus:                        4.027   Durbin-Watson:                   1.935\n",
      "Prob(Omnibus):                  0.134   Jarque-Bera (JB):                3.905\n",
      "Skew:                          -0.214   Prob(JB):                        0.142\n",
      "Kurtosis:                       3.048   Cond. No.                         9.55\n",
      "==============================================================================\n",
      "\n",
      "Notes:\n",
      "[1] Standard Errors assume that the covariance matrix of the errors is correctly specified.\n",
      "          Features   VIF\n",
      "0            atemp  2.02\n",
      "1               yr  1.79\n",
      "2            misty  1.37\n",
      "3  light rain/snow  1.01\n"
     ]
    }
   ],
   "source": [
    "#Adding weather features\n",
    "feature_req=['atemp','yr','misty','light rain/snow']\n",
    "lr=linear_regression_feature(X_train,y_train,feature_req,vif_flag=1)"
   ]
  },
  {
   "cell_type": "markdown",
   "metadata": {},
   "source": [
    "## Rsquared_3 = `0.741`"
   ]
  },
  {
   "cell_type": "markdown",
   "metadata": {},
   "source": [
    "#### **Feature 4** : `summer`,`fall`,`winter`\n",
    "Season can affect the demand for the bikes"
   ]
  },
  {
   "cell_type": "code",
   "execution_count": 28,
   "metadata": {},
   "outputs": [
    {
     "name": "stdout",
     "output_type": "stream",
     "text": [
      "                            OLS Regression Results                            \n",
      "==============================================================================\n",
      "Dep. Variable:                    cnt   R-squared:                       0.804\n",
      "Model:                            OLS   Adj. R-squared:                  0.802\n",
      "Method:                 Least Squares   F-statistic:                     290.9\n",
      "Date:                Tue, 03 May 2022   Prob (F-statistic):          6.72e-171\n",
      "Time:                        14:34:31   Log-Likelihood:                 433.41\n",
      "No. Observations:                 503   AIC:                            -850.8\n",
      "Df Residuals:                     495   BIC:                            -817.1\n",
      "Df Model:                           7                                         \n",
      "Covariance Type:            nonrobust                                         \n",
      "===================================================================================\n",
      "                      coef    std err          t      P>|t|      [0.025      0.975]\n",
      "-----------------------------------------------------------------------------------\n",
      "const               0.0424      0.015      2.884      0.004       0.014       0.071\n",
      "atemp               0.4987      0.035     14.093      0.000       0.429       0.568\n",
      "yr                  0.2485      0.009     26.837      0.000       0.230       0.267\n",
      "misty              -0.0685      0.010     -6.993      0.000      -0.088      -0.049\n",
      "light rain/snow    -0.2796      0.033     -8.367      0.000      -0.345      -0.214\n",
      "summer              0.1219      0.017      7.117      0.000       0.088       0.155\n",
      "fall                0.1098      0.022      4.906      0.000       0.066       0.154\n",
      "winter              0.1753      0.014     12.149      0.000       0.147       0.204\n",
      "==============================================================================\n",
      "Omnibus:                       47.967   Durbin-Watson:                   2.052\n",
      "Prob(Omnibus):                  0.000   Jarque-Bera (JB):               96.131\n",
      "Skew:                          -0.561   Prob(JB):                     1.33e-21\n",
      "Kurtosis:                       4.824   Cond. No.                         13.3\n",
      "==============================================================================\n",
      "\n",
      "Notes:\n",
      "[1] Standard Errors assume that the covariance matrix of the errors is correctly specified.\n",
      "          Features    VIF\n",
      "0            atemp  11.32\n",
      "5             fall   5.76\n",
      "4           summer   3.49\n",
      "6           winter   2.35\n",
      "1               yr   1.88\n",
      "2            misty   1.44\n",
      "3  light rain/snow   1.03\n"
     ]
    }
   ],
   "source": [
    "#Adding season features\n",
    "feature_req=['atemp','yr','misty','light rain/snow','summer','fall','winter']\n",
    "lr=linear_regression_feature(X_train,y_train,feature_req,vif_flag=1)"
   ]
  },
  {
   "cell_type": "markdown",
   "metadata": {},
   "source": [
    "Dropping feature : <br>\n",
    "Here we can see VIF of atemp is 11.32, it shows it is multicollinear with one of the seasons, in correlation we had seen atemp and fall having high correlation, hence `dropping fall` season feature"
   ]
  },
  {
   "cell_type": "markdown",
   "metadata": {},
   "source": [
    "## Rsquared_4 = `0.804`"
   ]
  },
  {
   "cell_type": "code",
   "execution_count": 30,
   "metadata": {},
   "outputs": [
    {
     "name": "stdout",
     "output_type": "stream",
     "text": [
      "                            OLS Regression Results                            \n",
      "==============================================================================\n",
      "Dep. Variable:                    cnt   R-squared:                       0.795\n",
      "Model:                            OLS   Adj. R-squared:                  0.792\n",
      "Method:                 Least Squares   F-statistic:                     320.4\n",
      "Date:                Tue, 03 May 2022   Prob (F-statistic):          4.44e-167\n",
      "Time:                        14:37:19   Log-Likelihood:                 421.47\n",
      "No. Observations:                 503   AIC:                            -828.9\n",
      "Df Residuals:                     496   BIC:                            -799.4\n",
      "Df Model:                           6                                         \n",
      "Covariance Type:            nonrobust                                         \n",
      "===================================================================================\n",
      "                      coef    std err          t      P>|t|      [0.025      0.975]\n",
      "-----------------------------------------------------------------------------------\n",
      "const               0.0236      0.015      1.624      0.105      -0.005       0.052\n",
      "atemp               0.6401      0.021     30.485      0.000       0.599       0.681\n",
      "yr                  0.2457      0.009     25.991      0.000       0.227       0.264\n",
      "misty              -0.0693      0.010     -6.912      0.000      -0.089      -0.050\n",
      "light rain/snow    -0.2643      0.034     -7.766      0.000      -0.331      -0.197\n",
      "summer              0.0587      0.012      5.082      0.000       0.036       0.081\n",
      "winter              0.1330      0.012     11.242      0.000       0.110       0.156\n",
      "==============================================================================\n",
      "Omnibus:                       33.832   Durbin-Watson:                   2.021\n",
      "Prob(Omnibus):                  0.000   Jarque-Bera (JB):               56.251\n",
      "Skew:                          -0.465   Prob(JB):                     6.10e-13\n",
      "Kurtosis:                       4.349   Cond. No.                         9.89\n",
      "==============================================================================\n",
      "\n",
      "Notes:\n",
      "[1] Standard Errors assume that the covariance matrix of the errors is correctly specified.\n",
      "          Features   VIF\n",
      "0            atemp  2.50\n",
      "1               yr  1.84\n",
      "4           summer  1.46\n",
      "2            misty  1.43\n",
      "5           winter  1.32\n",
      "3  light rain/snow  1.02\n"
     ]
    }
   ],
   "source": [
    "#Dropping fall feature\n",
    "feature_req=['atemp','yr','misty','light rain/snow','summer','winter']\n",
    "lr=linear_regression_feature(X_train,y_train,feature_req,vif_flag=1)"
   ]
  },
  {
   "cell_type": "markdown",
   "metadata": {},
   "source": [
    "Inference : We can see that after dropping fall, the multicollinearity in atemp is removed"
   ]
  },
  {
   "cell_type": "markdown",
   "metadata": {},
   "source": [
    "## Rsquared_4_corrected = `0.795`"
   ]
  },
  {
   "cell_type": "markdown",
   "metadata": {},
   "source": [
    "#### **Feature 5** : `mnth`\n",
    "Month of the year can affect the demand for the bikes"
   ]
  },
  {
   "cell_type": "code",
   "execution_count": 33,
   "metadata": {},
   "outputs": [
    {
     "data": {
      "text/plain": [
       "Index(['yr', 'mnth', 'holiday', 'weekday', 'workingday', 'atemp', 'hum',\n",
       "       'windspeed', 'misty', 'light rain/snow', 'summer', 'fall', 'winter'],\n",
       "      dtype='object')"
      ]
     },
     "execution_count": 33,
     "metadata": {},
     "output_type": "execute_result"
    }
   ],
   "source": [
    "X_train.columns"
   ]
  },
  {
   "cell_type": "code",
   "execution_count": 35,
   "metadata": {},
   "outputs": [
    {
     "name": "stdout",
     "output_type": "stream",
     "text": [
      "                            OLS Regression Results                            \n",
      "==============================================================================\n",
      "Dep. Variable:                    cnt   R-squared:                       0.797\n",
      "Model:                            OLS   Adj. R-squared:                  0.794\n",
      "Method:                 Least Squares   F-statistic:                     278.2\n",
      "Date:                Tue, 03 May 2022   Prob (F-statistic):          4.67e-167\n",
      "Time:                        14:40:38   Log-Likelihood:                 424.40\n",
      "No. Observations:                 503   AIC:                            -832.8\n",
      "Df Residuals:                     495   BIC:                            -799.0\n",
      "Df Model:                           7                                         \n",
      "Covariance Type:            nonrobust                                         \n",
      "===================================================================================\n",
      "                      coef    std err          t      P>|t|      [0.025      0.975]\n",
      "-----------------------------------------------------------------------------------\n",
      "const               0.0133      0.015      0.885      0.377      -0.016       0.043\n",
      "atemp               0.6022      0.026     23.024      0.000       0.551       0.654\n",
      "yr                  0.2466      0.009     26.194      0.000       0.228       0.265\n",
      "misty              -0.0709      0.010     -7.092      0.000      -0.091      -0.051\n",
      "light rain/snow    -0.2730      0.034     -8.016      0.000      -0.340      -0.206\n",
      "summer              0.0648      0.012      5.506      0.000       0.042       0.088\n",
      "winter              0.0980      0.019      5.238      0.000       0.061       0.135\n",
      "mnth                0.0058      0.002      2.408      0.016       0.001       0.011\n",
      "==============================================================================\n",
      "Omnibus:                       39.733   Durbin-Watson:                   2.007\n",
      "Prob(Omnibus):                  0.000   Jarque-Bera (JB):               67.714\n",
      "Skew:                          -0.525   Prob(JB):                     1.98e-15\n",
      "Kurtosis:                       4.458   Cond. No.                         55.3\n",
      "==============================================================================\n",
      "\n",
      "Notes:\n",
      "[1] Standard Errors assume that the covariance matrix of the errors is correctly specified.\n",
      "          Features    VIF\n",
      "6             mnth  13.11\n",
      "0            atemp   8.47\n",
      "5           winter   3.88\n",
      "1               yr   1.84\n",
      "4           summer   1.50\n",
      "2            misty   1.46\n",
      "3  light rain/snow   1.04\n"
     ]
    }
   ],
   "source": [
    "#Adding mnth features\n",
    "feature_req=['atemp','yr','misty','light rain/snow','summer','winter','mnth']\n",
    "lr=linear_regression_feature(X_train,y_train,feature_req,vif_flag=1)"
   ]
  },
  {
   "cell_type": "markdown",
   "metadata": {},
   "source": [
    "Adding month variable increases the collinearity amongst other features and has no significant improvement in Rsquare value, hence `dropping mnth`"
   ]
  },
  {
   "cell_type": "markdown",
   "metadata": {},
   "source": [
    "## Rsquared_5 = `0.797`"
   ]
  },
  {
   "cell_type": "markdown",
   "metadata": {},
   "source": [
    "#### **Feature 5b** : `windspeed`\n",
    "Windspeed may be preferrable for some customers"
   ]
  },
  {
   "cell_type": "code",
   "execution_count": 36,
   "metadata": {},
   "outputs": [
    {
     "name": "stdout",
     "output_type": "stream",
     "text": [
      "                            OLS Regression Results                            \n",
      "==============================================================================\n",
      "Dep. Variable:                    cnt   R-squared:                       0.802\n",
      "Model:                            OLS   Adj. R-squared:                  0.799\n",
      "Method:                 Least Squares   F-statistic:                     286.1\n",
      "Date:                Tue, 03 May 2022   Prob (F-statistic):          1.81e-169\n",
      "Time:                        14:45:23   Log-Likelihood:                 430.06\n",
      "No. Observations:                 503   AIC:                            -844.1\n",
      "Df Residuals:                     495   BIC:                            -810.3\n",
      "Df Model:                           7                                         \n",
      "Covariance Type:            nonrobust                                         \n",
      "===================================================================================\n",
      "                      coef    std err          t      P>|t|      [0.025      0.975]\n",
      "-----------------------------------------------------------------------------------\n",
      "const               0.0740      0.019      3.944      0.000       0.037       0.111\n",
      "atemp               0.6176      0.021     28.917      0.000       0.576       0.660\n",
      "yr                  0.2471      0.009     26.546      0.000       0.229       0.265\n",
      "misty              -0.0704      0.010     -7.136      0.000      -0.090      -0.051\n",
      "light rain/snow    -0.2517      0.034     -7.484      0.000      -0.318      -0.186\n",
      "summer              0.0641      0.011      5.601      0.000       0.042       0.087\n",
      "winter              0.1256      0.012     10.667      0.000       0.102       0.149\n",
      "windspeed          -0.0997      0.024     -4.146      0.000      -0.147      -0.052\n",
      "==============================================================================\n",
      "Omnibus:                       42.406   Durbin-Watson:                   2.015\n",
      "Prob(Omnibus):                  0.000   Jarque-Bera (JB):               76.233\n",
      "Skew:                          -0.537   Prob(JB):                     2.79e-17\n",
      "Kurtosis:                       4.576   Cond. No.                         10.3\n",
      "==============================================================================\n",
      "\n",
      "Notes:\n",
      "[1] Standard Errors assume that the covariance matrix of the errors is correctly specified.\n",
      "          Features   VIF\n",
      "0            atemp  3.15\n",
      "6        windspeed  3.00\n",
      "1               yr  1.94\n",
      "4           summer  1.54\n",
      "2            misty  1.47\n",
      "5           winter  1.35\n",
      "3  light rain/snow  1.05\n"
     ]
    }
   ],
   "source": [
    "#Adding windspeed feature\n",
    "feature_req=['atemp','yr','misty','light rain/snow','summer','winter','windspeed']\n",
    "lr=linear_regression_feature(X_train,y_train,feature_req,vif_flag=1)"
   ]
  },
  {
   "cell_type": "markdown",
   "metadata": {},
   "source": [
    "## Rsquared_5_corrected = `0.802`"
   ]
  },
  {
   "cell_type": "markdown",
   "metadata": {},
   "source": [
    "#### **Feature 6** : `hum`\n",
    "Humidity may be preferrable for some customers"
   ]
  },
  {
   "cell_type": "code",
   "execution_count": 39,
   "metadata": {},
   "outputs": [
    {
     "name": "stdout",
     "output_type": "stream",
     "text": [
      "                            OLS Regression Results                            \n",
      "==============================================================================\n",
      "Dep. Variable:                    cnt   R-squared:                       0.812\n",
      "Model:                            OLS   Adj. R-squared:                  0.809\n",
      "Method:                 Least Squares   F-statistic:                     266.9\n",
      "Date:                Tue, 03 May 2022   Prob (F-statistic):          6.12e-174\n",
      "Time:                        14:50:44   Log-Likelihood:                 443.50\n",
      "No. Observations:                 503   AIC:                            -869.0\n",
      "Df Residuals:                     494   BIC:                            -831.0\n",
      "Df Model:                           8                                         \n",
      "Covariance Type:            nonrobust                                         \n",
      "===================================================================================\n",
      "                      coef    std err          t      P>|t|      [0.025      0.975]\n",
      "-----------------------------------------------------------------------------------\n",
      "const               0.1439      0.023      6.344      0.000       0.099       0.188\n",
      "atemp               0.6474      0.022     29.989      0.000       0.605       0.690\n",
      "yr                  0.2408      0.009     26.306      0.000       0.223       0.259\n",
      "misty              -0.0301      0.012     -2.433      0.015      -0.054      -0.006\n",
      "light rain/snow    -0.1670      0.037     -4.566      0.000      -0.239      -0.095\n",
      "summer              0.0663      0.011      5.939      0.000       0.044       0.088\n",
      "winter              0.1373      0.012     11.741      0.000       0.114       0.160\n",
      "windspeed          -0.1345      0.024     -5.522      0.000      -0.182      -0.087\n",
      "hum                -0.1701      0.033     -5.207      0.000      -0.234      -0.106\n",
      "==============================================================================\n",
      "Omnibus:                       49.978   Durbin-Watson:                   2.086\n",
      "Prob(Omnibus):                  0.000   Jarque-Bera (JB):              103.535\n",
      "Skew:                          -0.571   Prob(JB):                     3.29e-23\n",
      "Kurtosis:                       4.906   Cond. No.                         15.1\n",
      "==============================================================================\n",
      "\n",
      "Notes:\n",
      "[1] Standard Errors assume that the covariance matrix of the errors is correctly specified.\n",
      "          Features    VIF\n",
      "7              hum  10.43\n",
      "0            atemp   6.30\n",
      "6        windspeed   3.12\n",
      "2            misty   2.44\n",
      "1               yr   1.94\n",
      "5           winter   1.57\n",
      "4           summer   1.54\n",
      "3  light rain/snow   1.24\n"
     ]
    }
   ],
   "source": [
    "#Adding humidity feature\n",
    "feature_req=['atemp','yr','misty','light rain/snow','summer','winter','windspeed','hum']\n",
    "lr=linear_regression_feature(X_train,y_train,feature_req,vif_flag=1)"
   ]
  },
  {
   "cell_type": "markdown",
   "metadata": {},
   "source": [
    "Inference : Adding humidity adds multicollinearity, dropping `hum`"
   ]
  },
  {
   "cell_type": "markdown",
   "metadata": {},
   "source": [
    "#### **Feature 7** : `holiday`\n",
    " holidays may be a predictor for demand of bikes"
   ]
  },
  {
   "cell_type": "code",
   "execution_count": 58,
   "metadata": {},
   "outputs": [
    {
     "name": "stdout",
     "output_type": "stream",
     "text": [
      "                            OLS Regression Results                            \n",
      "==============================================================================\n",
      "Dep. Variable:                    cnt   R-squared:                       0.806\n",
      "Model:                            OLS   Adj. R-squared:                  0.802\n",
      "Method:                 Least Squares   F-statistic:                     255.8\n",
      "Date:                Tue, 03 May 2022   Prob (F-statistic):          2.84e-170\n",
      "Time:                        15:05:46   Log-Likelihood:                 434.87\n",
      "No. Observations:                 503   AIC:                            -851.7\n",
      "Df Residuals:                     494   BIC:                            -813.8\n",
      "Df Model:                           8                                         \n",
      "Covariance Type:            nonrobust                                         \n",
      "===================================================================================\n",
      "                      coef    std err          t      P>|t|      [0.025      0.975]\n",
      "-----------------------------------------------------------------------------------\n",
      "const               0.0793      0.019      4.244      0.000       0.043       0.116\n",
      "atemp               0.6149      0.021     29.009      0.000       0.573       0.657\n",
      "yr                  0.2468      0.009     26.734      0.000       0.229       0.265\n",
      "misty              -0.0723      0.010     -7.377      0.000      -0.092      -0.053\n",
      "light rain/snow    -0.2552      0.033     -7.651      0.000      -0.321      -0.190\n",
      "summer              0.0644      0.011      5.675      0.000       0.042       0.087\n",
      "winter              0.1275      0.012     10.908      0.000       0.105       0.150\n",
      "windspeed          -0.1021      0.024     -4.282      0.000      -0.149      -0.055\n",
      "holiday            -0.0838      0.027     -3.091      0.002      -0.137      -0.031\n",
      "==============================================================================\n",
      "Omnibus:                       35.611   Durbin-Watson:                   2.026\n",
      "Prob(Omnibus):                  0.000   Jarque-Bera (JB):               63.130\n",
      "Skew:                          -0.464   Prob(JB):                     1.96e-14\n",
      "Kurtosis:                       4.466   Cond. No.                         10.3\n",
      "==============================================================================\n",
      "\n",
      "Notes:\n",
      "[1] Standard Errors assume that the covariance matrix of the errors is correctly specified.\n",
      "          Features   VIF\n",
      "0            atemp  3.16\n",
      "6        windspeed  3.00\n",
      "1               yr  1.94\n",
      "4           summer  1.54\n",
      "2            misty  1.47\n",
      "5           winter  1.36\n",
      "3  light rain/snow  1.05\n",
      "7          holiday  1.03\n"
     ]
    }
   ],
   "source": [
    "#Adding humidity feature\n",
    "feature_req=['atemp','yr','misty','light rain/snow','summer','winter','windspeed','holiday']\n",
    "lr=linear_regression_feature(X_train,y_train,feature_req,vif_flag=1)"
   ]
  },
  {
   "cell_type": "markdown",
   "metadata": {},
   "source": [
    "## Rsquared_7 = `0.806`"
   ]
  },
  {
   "cell_type": "markdown",
   "metadata": {},
   "source": [
    "#### **Feature 8** : `weekday`\n",
    " weekday may be a predictor for demand of bikes"
   ]
  },
  {
   "cell_type": "code",
   "execution_count": 59,
   "metadata": {},
   "outputs": [
    {
     "name": "stdout",
     "output_type": "stream",
     "text": [
      "                            OLS Regression Results                            \n",
      "==============================================================================\n",
      "Dep. Variable:                    cnt   R-squared:                       0.812\n",
      "Model:                            OLS   Adj. R-squared:                  0.808\n",
      "Method:                 Least Squares   F-statistic:                     236.4\n",
      "Date:                Tue, 03 May 2022   Prob (F-statistic):          1.37e-172\n",
      "Time:                        15:07:30   Log-Likelihood:                 443.21\n",
      "No. Observations:                 503   AIC:                            -866.4\n",
      "Df Residuals:                     493   BIC:                            -824.2\n",
      "Df Model:                           9                                         \n",
      "Covariance Type:            nonrobust                                         \n",
      "===================================================================================\n",
      "                      coef    std err          t      P>|t|      [0.025      0.975]\n",
      "-----------------------------------------------------------------------------------\n",
      "const               0.0498      0.020      2.522      0.012       0.011       0.089\n",
      "atemp               0.6173      0.021     29.568      0.000       0.576       0.658\n",
      "yr                  0.2471      0.009     27.184      0.000       0.229       0.265\n",
      "misty              -0.0733      0.010     -7.591      0.000      -0.092      -0.054\n",
      "light rain/snow    -0.2573      0.033     -7.833      0.000      -0.322      -0.193\n",
      "summer              0.0647      0.011      5.794      0.000       0.043       0.087\n",
      "winter              0.1264      0.012     10.983      0.000       0.104       0.149\n",
      "windspeed          -0.1000      0.023     -4.260      0.000      -0.146      -0.054\n",
      "holiday            -0.0738      0.027     -2.752      0.006      -0.126      -0.021\n",
      "weekday             0.0093      0.002      4.075      0.000       0.005       0.014\n",
      "==============================================================================\n",
      "Omnibus:                       45.155   Durbin-Watson:                   2.033\n",
      "Prob(Omnibus):                  0.000   Jarque-Bera (JB):               82.318\n",
      "Skew:                          -0.563   Prob(JB):                     1.33e-18\n",
      "Kurtosis:                       4.631   Cond. No.                         27.5\n",
      "==============================================================================\n",
      "\n",
      "Notes:\n",
      "[1] Standard Errors assume that the covariance matrix of the errors is correctly specified.\n",
      "          Features   VIF\n",
      "0            atemp  3.59\n",
      "6        windspeed  3.25\n",
      "8          weekday  2.80\n",
      "1               yr  1.95\n",
      "4           summer  1.54\n",
      "2            misty  1.49\n",
      "5           winter  1.40\n",
      "3  light rain/snow  1.05\n",
      "7          holiday  1.04\n"
     ]
    }
   ],
   "source": [
    "#Adding humidity feature\n",
    "feature_req=['atemp','yr','misty','light rain/snow','summer','winter','windspeed','holiday','weekday']\n",
    "lr=linear_regression_feature(X_train,y_train,feature_req,vif_flag=1)"
   ]
  },
  {
   "cell_type": "markdown",
   "metadata": {},
   "source": [
    "## Rsquared_8 = `0.812`"
   ]
  },
  {
   "cell_type": "markdown",
   "metadata": {},
   "source": [
    "#### **Feature 8** : `workingday`\n",
    " working may be a predictor for demand of bikes"
   ]
  },
  {
   "cell_type": "code",
   "execution_count": 60,
   "metadata": {},
   "outputs": [
    {
     "name": "stdout",
     "output_type": "stream",
     "text": [
      "                            OLS Regression Results                            \n",
      "==============================================================================\n",
      "Dep. Variable:                    cnt   R-squared:                       0.812\n",
      "Model:                            OLS   Adj. R-squared:                  0.808\n",
      "Method:                 Least Squares   F-statistic:                     212.6\n",
      "Date:                Tue, 03 May 2022   Prob (F-statistic):          1.70e-171\n",
      "Time:                        15:08:51   Log-Likelihood:                 443.46\n",
      "No. Observations:                 503   AIC:                            -864.9\n",
      "Df Residuals:                     492   BIC:                            -818.5\n",
      "Df Model:                          10                                         \n",
      "Covariance Type:            nonrobust                                         \n",
      "===================================================================================\n",
      "                      coef    std err          t      P>|t|      [0.025      0.975]\n",
      "-----------------------------------------------------------------------------------\n",
      "const               0.0455      0.021      2.195      0.029       0.005       0.086\n",
      "atemp               0.6169      0.021     29.522      0.000       0.576       0.658\n",
      "yr                  0.2471      0.009     27.177      0.000       0.229       0.265\n",
      "misty              -0.0735      0.010     -7.608      0.000      -0.093      -0.055\n",
      "light rain/snow    -0.2573      0.033     -7.828      0.000      -0.322      -0.193\n",
      "summer              0.0650      0.011      5.813      0.000       0.043       0.087\n",
      "winter              0.1267      0.012     10.994      0.000       0.104       0.149\n",
      "windspeed          -0.1008      0.024     -4.287      0.000      -0.147      -0.055\n",
      "holiday            -0.0689      0.028     -2.490      0.013      -0.123      -0.015\n",
      "weekday             0.0092      0.002      4.037      0.000       0.005       0.014\n",
      "workingday          0.0071      0.010      0.700      0.484      -0.013       0.027\n",
      "==============================================================================\n",
      "Omnibus:                       43.286   Durbin-Watson:                   2.027\n",
      "Prob(Omnibus):                  0.000   Jarque-Bera (JB):               79.376\n",
      "Skew:                          -0.540   Prob(JB):                     5.80e-18\n",
      "Kurtosis:                       4.619   Cond. No.                         27.9\n",
      "==============================================================================\n",
      "\n",
      "Notes:\n",
      "[1] Standard Errors assume that the covariance matrix of the errors is correctly specified.\n",
      "          Features   VIF\n",
      "0            atemp  4.00\n",
      "6        windspeed  3.52\n",
      "9       workingday  3.13\n",
      "8          weekday  2.88\n",
      "1               yr  1.96\n",
      "4           summer  1.54\n",
      "2            misty  1.51\n",
      "5           winter  1.40\n",
      "7          holiday  1.08\n",
      "3  light rain/snow  1.05\n"
     ]
    }
   ],
   "source": [
    "#Adding workingday feature\n",
    "feature_req=['atemp','yr','misty','light rain/snow','summer','winter','windspeed','holiday','weekday','workingday']\n",
    "lr=linear_regression_feature(X_train,y_train,feature_req,vif_flag=1)"
   ]
  },
  {
   "cell_type": "markdown",
   "metadata": {},
   "source": [
    "Inference : The working day feature has a Pvalue of 0.484 which means it is not a significant feature and logically its a combination of holiday and weekday, hence dropping `workingday`"
   ]
  },
  {
   "cell_type": "code",
   "execution_count": 62,
   "metadata": {},
   "outputs": [
    {
     "name": "stdout",
     "output_type": "stream",
     "text": [
      "                            OLS Regression Results                            \n",
      "==============================================================================\n",
      "Dep. Variable:                    cnt   R-squared:                       0.812\n",
      "Model:                            OLS   Adj. R-squared:                  0.808\n",
      "Method:                 Least Squares   F-statistic:                     236.4\n",
      "Date:                Tue, 03 May 2022   Prob (F-statistic):          1.37e-172\n",
      "Time:                        15:11:04   Log-Likelihood:                 443.21\n",
      "No. Observations:                 503   AIC:                            -866.4\n",
      "Df Residuals:                     493   BIC:                            -824.2\n",
      "Df Model:                           9                                         \n",
      "Covariance Type:            nonrobust                                         \n",
      "===================================================================================\n",
      "                      coef    std err          t      P>|t|      [0.025      0.975]\n",
      "-----------------------------------------------------------------------------------\n",
      "const               0.0498      0.020      2.522      0.012       0.011       0.089\n",
      "atemp               0.6173      0.021     29.568      0.000       0.576       0.658\n",
      "yr                  0.2471      0.009     27.184      0.000       0.229       0.265\n",
      "misty              -0.0733      0.010     -7.591      0.000      -0.092      -0.054\n",
      "light rain/snow    -0.2573      0.033     -7.833      0.000      -0.322      -0.193\n",
      "summer              0.0647      0.011      5.794      0.000       0.043       0.087\n",
      "winter              0.1264      0.012     10.983      0.000       0.104       0.149\n",
      "windspeed          -0.1000      0.023     -4.260      0.000      -0.146      -0.054\n",
      "holiday            -0.0738      0.027     -2.752      0.006      -0.126      -0.021\n",
      "weekday             0.0093      0.002      4.075      0.000       0.005       0.014\n",
      "==============================================================================\n",
      "Omnibus:                       45.155   Durbin-Watson:                   2.033\n",
      "Prob(Omnibus):                  0.000   Jarque-Bera (JB):               82.318\n",
      "Skew:                          -0.563   Prob(JB):                     1.33e-18\n",
      "Kurtosis:                       4.631   Cond. No.                         27.5\n",
      "==============================================================================\n",
      "\n",
      "Notes:\n",
      "[1] Standard Errors assume that the covariance matrix of the errors is correctly specified.\n",
      "          Features   VIF\n",
      "0            atemp  3.59\n",
      "6        windspeed  3.25\n",
      "8          weekday  2.80\n",
      "1               yr  1.95\n",
      "4           summer  1.54\n",
      "2            misty  1.49\n",
      "5           winter  1.40\n",
      "3  light rain/snow  1.05\n",
      "7          holiday  1.04\n"
     ]
    }
   ],
   "source": [
    "#Adding workingday feature\n",
    "feature_req=['atemp','yr','misty','light rain/snow','summer','winter','windspeed','holiday','weekday']\n",
    "lr=linear_regression_feature(X_train,y_train,feature_req,vif_flag=1)"
   ]
  },
  {
   "cell_type": "markdown",
   "metadata": {},
   "source": [
    "## Conclusion of Model Training\n",
    "Hence all the features were tried and some of them were dropped because they were multi-collinear(`mnth`,`hum`,`fall`), some were having high P value(`workingday`),<br> hence final model has features with P-value<0.05 and VIF<5 "
   ]
  },
  {
   "cell_type": "markdown",
   "metadata": {},
   "source": [
    "### Final_Model_Rsquared = `0.812`"
   ]
  },
  {
   "cell_type": "code",
   "execution_count": null,
   "metadata": {},
   "outputs": [],
   "source": [
    "sns.distplot(res,bins=50)"
   ]
  },
  {
   "cell_type": "markdown",
   "metadata": {},
   "source": [
    "5. Evaluation on Test Data"
   ]
  },
  {
   "cell_type": "code",
   "execution_count": 184,
   "metadata": {},
   "outputs": [
    {
     "data": {
      "image/png": "[encoded data removed]",
      "text/plain": [
       "<Figure size 432x288 with 1 Axes>"
      ]
     },
     "metadata": {
      "needs_background": "light"
     },
     "output_type": "display_data"
    }
   ],
   "source": [
    "plt.scatter(y_train, ypred,marker='x')\n",
    "plt.plot(y_train,y_train, 'r')\n",
    "plt.show()"
   ]
  },
  {
   "cell_type": "code",
   "execution_count": 192,
   "metadata": {},
   "outputs": [
    {
     "name": "stdout",
     "output_type": "stream",
     "text": [
      "Statistics=0.948, p=0.000\n",
      "Sample does not look Gaussian (reject H0)\n"
     ]
    }
   ],
   "source": [
    "from scipy.stats import shapiro\n",
    "import random\n",
    "from numpy.random import randn\n",
    "data1 = randn(1000)+pow(2,randn(1000))\n",
    "stat, p = shapiro(data1)\n",
    "print('Statistics=%.3f, p=%.3f' % (stat, p))\n",
    "# interpret\n",
    "alpha = 0.05\n",
    "if p > alpha:\n",
    "\tprint('Sample looks Gaussian (fail to reject H0)')\n",
    "else:\n",
    "\tprint('Sample does not look Gaussian (reject H0)')"
   ]
  },
  {
   "cell_type": "code",
   "execution_count": 193,
   "metadata": {},
   "outputs": [
    {
     "data": {
      "text/plain": [
       "<seaborn.axisgrid.FacetGrid at 0x221ec97b700>"
      ]
     },
     "execution_count": 193,
     "metadata": {},
     "output_type": "execute_result"
    },
    {
     "data": {
      "image/png": "[encoded data removed]",
      "text/plain": [
       "<Figure size 360x360 with 1 Axes>"
      ]
     },
     "metadata": {
      "needs_background": "light"
     },
     "output_type": "display_data"
    }
   ],
   "source": [
    "sns.displot(data1)"
   ]
  },
  {
   "cell_type": "code",
   "execution_count": 187,
   "metadata": {},
   "outputs": [
    {
     "data": {
      "text/plain": [
       "-1.7344058724925462"
      ]
     },
     "execution_count": 187,
     "metadata": {},
     "output_type": "execute_result"
    }
   ],
   "source": [
    "data"
   ]
  },
  {
   "cell_type": "code",
   "execution_count": 190,
   "metadata": {},
   "outputs": [
    {
     "name": "stdout",
     "output_type": "stream",
     "text": [
      "Statistics=0.992, p=0.822\n",
      "Sample looks Gaussian (fail to reject H0)\n"
     ]
    }
   ],
   "source": [
    "from numpy.random import seed\n",
    "from numpy.random import randn\n",
    "from scipy.stats import shapiro\n",
    "# seed the random number generator\n",
    "seed(1)\n",
    "# generate univariate observations\n",
    "data = 5 * randn(100) + 50\n",
    "# normality test\n",
    "stat, p = shapiro(data)\n",
    "print('Statistics=%.3f, p=%.3f' % (stat, p))\n",
    "# interpret\n",
    "alpha = 0.05\n",
    "if p > alpha:\n",
    "\tprint('Sample looks Gaussian (fail to reject H0)')\n",
    "else:\n",
    "\tprint('Sample does not look Gaussian (reject H0)')"
   ]
  },
  {
   "cell_type": "code",
   "execution_count": null,
   "metadata": {},
   "outputs": [],
   "source": []
  }
 ],
 "metadata": {
  "interpreter": {
   "hash": "111c2b6517aa70b78e2cb46b7b1238ae294eeca734ad608e5c16c1b053570a6d"
  },
  "kernelspec": {
   "display_name": "Python 3.9.7 ('base')",
   "language": "python",
   "name": "python3"
  },
  "language_info": {
   "codemirror_mode": {
    "name": "ipython",
    "version": 3
   },
   "file_extension": ".py",
   "mimetype": "text/x-python",
   "name": "python",
   "nbconvert_exporter": "python",
   "pygments_lexer": "ipython3",
   "version": "3.9.7"
  },
  "orig_nbformat": 4
 },
 "nbformat": 4,
 "nbformat_minor": 2
}
